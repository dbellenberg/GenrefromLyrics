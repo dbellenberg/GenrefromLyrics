{
 "cells": [
  {
   "cell_type": "code",
   "execution_count": 1,
   "metadata": {},
   "outputs": [],
   "source": [
    "#import pickle\n",
    "import numpy as np\n",
    "import pandas as pd\n",
    "import pickle\n",
    "import torch\n",
    "import os\n",
    "import pickle\n",
    "from sklearn.model_selection import train_test_split\n",
    "from torch.utils.data import DataLoader, Dataset\n",
    "from transformers import BertTokenizerFast, DataCollatorWithPadding\n",
    "from transformers import BertForSequenceClassification, AdamW\n",
    "import pytorch_lightning as pl"
   ]
  },
  {
   "attachments": {},
   "cell_type": "markdown",
   "metadata": {},
   "source": [
    "### used for getting a (very) small subset"
   ]
  },
  {
   "cell_type": "code",
   "execution_count": null,
   "metadata": {},
   "outputs": [],
   "source": [
    "#load in \n",
    "with open('/work/pkl_files/stopwords_removed.pkl', 'rb') as f:\n",
    "    data = pickle.load(f)\n",
    "#convert to dataframe\n",
    "df = pd.DataFrame(data)\n",
    "df_sub = df.groupby('tag').apply(lambda x: x.sample(n=10000, random_state=1)).reset_index(drop=True)\n",
    "df_sub.to_csv(\"/work/sub_sample_stopwords.csv\")"
   ]
  },
  {
   "attachments": {},
   "cell_type": "markdown",
   "metadata": {},
   "source": [
    "### load in subset and tokenize for bert"
   ]
  },
  {
   "cell_type": "code",
   "execution_count": 15,
   "metadata": {},
   "outputs": [],
   "source": [
    "#import csv subsameple\n",
    "df_sub_sample = pd.read_csv('/Users/davidbellenberg/github_projects/GenrefromLyrics/sub_sample_stopwords.csv')"
   ]
  },
  {
   "cell_type": "code",
   "execution_count": null,
   "metadata": {},
   "outputs": [],
   "source": [
    "#check for nan values\n",
    "print(df_sub_sample.isnull().sum()) #2 nan values in lyrics column\n",
    "df_sub_sample = df_sub_sample.dropna()"
   ]
  },
  {
   "cell_type": "code",
   "execution_count": 19,
   "metadata": {},
   "outputs": [
    {
     "data": {
      "text/plain": [
       "tag\n",
       "country    10000\n",
       "pop        10000\n",
       "rap        10000\n",
       "rb         10000\n",
       "rock        9998\n",
       "Name: count, dtype: int64"
      ]
     },
     "execution_count": 19,
     "metadata": {},
     "output_type": "execute_result"
    }
   ],
   "source": [
    "#value counts of genres\n",
    "df_sub_sample['tag'].value_counts()"
   ]
  },
  {
   "attachments": {},
   "cell_type": "markdown",
   "metadata": {},
   "source": [
    "### actual tokenizing of the subset with max. 512 tokens"
   ]
  },
  {
   "cell_type": "code",
   "execution_count": 22,
   "metadata": {},
   "outputs": [
    {
     "name": "stdout",
     "output_type": "stream",
     "text": [
      "Tokenizing song 0/49998\n",
      "Tokenizing song 1000/49998\n",
      "Tokenizing song 2000/49998\n",
      "Tokenizing song 3000/49998\n",
      "Tokenizing song 4000/49998\n",
      "Tokenizing song 5000/49998\n",
      "Tokenizing song 6000/49998\n",
      "Tokenizing song 7000/49998\n",
      "Tokenizing song 8000/49998\n",
      "Tokenizing song 9000/49998\n",
      "Tokenizing song 10000/49998\n",
      "Tokenizing song 11000/49998\n",
      "Tokenizing song 12000/49998\n",
      "Tokenizing song 13000/49998\n",
      "Tokenizing song 14000/49998\n",
      "Tokenizing song 15000/49998\n",
      "Tokenizing song 16000/49998\n",
      "Tokenizing song 17000/49998\n",
      "Tokenizing song 18000/49998\n",
      "Tokenizing song 19000/49998\n",
      "Tokenizing song 20000/49998\n",
      "Tokenizing song 21000/49998\n",
      "Tokenizing song 22000/49998\n",
      "Tokenizing song 23000/49998\n",
      "Tokenizing song 24000/49998\n",
      "Tokenizing song 25000/49998\n",
      "Tokenizing song 26000/49998\n",
      "Tokenizing song 27000/49998\n",
      "Tokenizing song 28000/49998\n",
      "Tokenizing song 29000/49998\n",
      "Tokenizing song 30000/49998\n",
      "Tokenizing song 31000/49998\n",
      "Tokenizing song 32000/49998\n",
      "Tokenizing song 33000/49998\n",
      "Tokenizing song 34000/49998\n",
      "Tokenizing song 35000/49998\n",
      "Tokenizing song 36000/49998\n",
      "Tokenizing song 37000/49998\n",
      "Tokenizing song 38000/49998\n",
      "Tokenizing song 39000/49998\n",
      "Tokenizing song 40000/49998\n",
      "Tokenizing song 41000/49998\n",
      "Tokenizing song 42000/49998\n",
      "Tokenizing song 43000/49998\n",
      "Tokenizing song 44000/49998\n",
      "Tokenizing song 45000/49998\n",
      "Tokenizing song 46000/49998\n",
      "Tokenizing song 47000/49998\n",
      "Tokenizing song 48000/49998\n",
      "Tokenizing song 49000/49998\n"
     ]
    }
   ],
   "source": [
    "from transformers import BertTokenizer\n",
    "\n",
    "def tokenize_with_bert(dataframe, column_name):\n",
    "    tokenizer = BertTokenizer.from_pretrained('bert-base-uncased', do_lower_case=True)\n",
    "    total_songs = len(dataframe)\n",
    "\n",
    "    def callback(song_index):\n",
    "        if song_index % 1000 == 0:\n",
    "            print(f\"Tokenizing song {song_index}/{total_songs}\")\n",
    "\n",
    "    def tokenize_song(song_and_index):\n",
    "        song = song_and_index[0]\n",
    "        song_index = song_and_index[1]\n",
    "\n",
    "        tokenized = tokenizer.encode(song, max_length=512, truncation=True, padding='max_length')\n",
    "\n",
    "        # Call the callback after processing a certain number of songs\n",
    "        if song_index % 1000 == 0:\n",
    "            callback(song_index)\n",
    "\n",
    "        return tokenized\n",
    "\n",
    "    # Pass both song and index using lambda function\n",
    "    tokenized = dataframe[column_name].reset_index().apply(lambda x: tokenize_song((x[column_name], x['index'])), axis=1)\n",
    "    return tokenized\n",
    "\n",
    "# Example usage\n",
    "tokenized_lyrics = tokenize_with_bert(df_sub_sample, 'lyrics')\n"
   ]
  },
  {
   "attachments": {},
   "cell_type": "markdown",
   "metadata": {},
   "source": [
    "#### saving tokenized data (and labels) as .pkl"
   ]
  },
  {
   "cell_type": "code",
   "execution_count": 26,
   "metadata": {},
   "outputs": [],
   "source": [
    "#save tokenized lyrics and labels\n",
    "with open('tokenized_lyrics.pickle', 'wb') as handle:\n",
    "    pickle.dump(tokenized_lyrics, handle, protocol=pickle.HIGHEST_PROTOCOL)\n",
    "\n",
    "#label encode \"tag\" column\n",
    "from sklearn.preprocessing import LabelEncoder\n",
    "le = LabelEncoder()\n",
    "df_sub_sample['tag'] = le.fit_transform(df_sub_sample['tag'])\n",
    "\n",
    "with open('labels_le.pickle', 'wb') as handle:\n",
    "    pickle.dump(df_sub_sample['tag'], handle, protocol=pickle.HIGHEST_PROTOCOL)\n",
    "    "
   ]
  },
  {
   "attachments": {},
   "cell_type": "markdown",
   "metadata": {},
   "source": [
    "# Bert training (GPU necessary!)"
   ]
  },
  {
   "cell_type": "code",
   "execution_count": null,
   "metadata": {},
   "outputs": [],
   "source": [
    "class LyricsDataset(Dataset):\n",
    "    def __init__(self, encodings, labels):\n",
    "        self.encodings = encodings\n",
    "        self.labels = labels\n",
    "\n",
    "    def __getitem__(self, idx):\n",
    "        item = {'input_ids': self.encodings.iloc[idx] if isinstance(self.encodings.iloc[idx], torch.Tensor) else torch.tensor(self.encodings.iloc[idx])}\n",
    "        item['labels'] = self.labels.iloc[idx] if isinstance(self.labels.iloc[idx], torch.Tensor) else torch.tensor(self.labels.iloc[idx])\n",
    "        return item\n",
    "\n",
    "    def __len__(self):\n",
    "        return len(self.encodings)\n",
    "\n",
    "class LyricsClassifier(pl.LightningModule):\n",
    "    def __init__(self, model_name='bert-base-uncased', num_labels=5):\n",
    "        super().__init__()\n",
    "        self.save_hyperparameters()\n",
    "        self.bert = BertForSequenceClassification.from_pretrained(self.hparams.model_name,\n",
    "                                                                  num_labels=self.hparams.num_labels)\n",
    "\n",
    "    def forward(self, input_ids, labels):\n",
    "        return self.bert(input_ids, labels=labels)\n",
    "\n",
    "    def training_step(self, batch, batch_idx):\n",
    "        outputs = self.forward(batch['input_ids'], batch['labels'])\n",
    "        loss = outputs.loss\n",
    "        return loss\n",
    "\n",
    "    def configure_optimizers(self):\n",
    "        return AdamW(self.parameters(), lr=1e-5)\n",
    "\n",
    "### TODO: Callbacks for logging metrics and saving checkpoints\n",
    "\n",
    "\n",
    "def load_data():\n",
    "    with open(\"/content/drive/MyDrive/NLP/small_sample_tokenized/tokenized_lyrics.pickle\", 'rb') as f:\n",
    "        encodings = pickle.load(f)\n",
    "    with open(\"/content/drive/MyDrive/NLP/small_sample_tokenized/labels_le.pickle\", 'rb') as f:\n",
    "        labels = pickle.load(f)\n",
    "\n",
    "    return encodings, labels\n",
    "\n",
    "\n",
    "def main():\n",
    "    encodings, labels = load_data()\n",
    "\n",
    "    # Prepare tokenizer and data collator\n",
    "    tokenizer = BertTokenizerFast.from_pretrained('bert-base-uncased')\n",
    "    data_collator = DataCollatorWithPadding(tokenizer=tokenizer)\n",
    "\n",
    "    # Prepare datasets\n",
    "    train_encodings, val_encodings, train_labels, val_labels = train_test_split(encodings, labels, test_size=0.1, random_state=42)\n",
    "    train_dataset = LyricsDataset(train_encodings, train_labels)\n",
    "    val_dataset = LyricsDataset(val_encodings, val_labels)\n",
    "\n",
    "    # Prepare model\n",
    "    model = LyricsClassifier()\n",
    "\n",
    "    # Prepare data loaders\n",
    "    train_loader = DataLoader(train_dataset, batch_size=16, shuffle=True, collate_fn=data_collator)\n",
    "    val_loader = DataLoader(val_dataset, batch_size=16, shuffle=False, collate_fn=data_collator)\n",
    "\n",
    "    # Prepare trainer\n",
    "    trainer = pl.Trainer(precision=16, limit_train_batches=0.5,max_epochs=3)\n",
    "\n",
    "    # Train the model\n",
    "    trainer.fit(model, train_loader, val_loader)\n",
    "\n",
    "\n",
    "if __name__ == \"__main__\":\n",
    "    main()\n"
   ]
  },
  {
   "attachments": {},
   "cell_type": "markdown",
   "metadata": {},
   "source": [
    "# checking out performance with Checkpoint file"
   ]
  },
  {
   "cell_type": "code",
   "execution_count": null,
   "metadata": {},
   "outputs": [],
   "source": [
    "#!pip install tensorboard"
   ]
  },
  {
   "cell_type": "code",
   "execution_count": null,
   "metadata": {},
   "outputs": [],
   "source": [
    "# TODO: create test_encodings, test_labels for checkpoint testing"
   ]
  },
  {
   "cell_type": "code",
   "execution_count": 3,
   "metadata": {},
   "outputs": [],
   "source": [
    "from transformers import pipeline\n",
    "from sklearn.metrics import classification_report\n",
    "import numpy as np\n",
    "\n",
    "def evaluate_model(model, test_dataset):\n",
    "    # Prepare data loader\n",
    "    data_collator = DataCollatorWithPadding(tokenizer=tokenizer)\n",
    "    test_loader = DataLoader(test_dataset, batch_size=16, shuffle=False, collate_fn=data_collator)\n",
    "\n",
    "    # Move model to evaluation mode\n",
    "    model.eval()\n",
    "\n",
    "    # Prepare prediction and label lists\n",
    "    predictions = []\n",
    "    actuals = []\n",
    "\n",
    "    # Iterate through test data\n",
    "    for batch in test_loader:\n",
    "        # Move batch to device\n",
    "        batch = {k: v.to(model.device) for k, v in batch.items()}\n",
    "        # Forward pass\n",
    "        with torch.no_grad():\n",
    "            outputs = model(**batch)\n",
    "        \n",
    "        # Get the predicted labels\n",
    "        _, preds = torch.max(outputs.logits, dim=1)\n",
    "\n",
    "        # Move preds to CPU\n",
    "        preds = preds.detach().cpu().numpy()\n",
    "        predictions.extend(preds)\n",
    "\n",
    "        # Extract labels and add to list\n",
    "        labels = batch['labels'].detach().cpu().numpy()\n",
    "        actuals.extend(labels)\n",
    "\n",
    "    # Generate classification report\n",
    "    report = classification_report(actuals, predictions, output_dict=True)\n",
    "\n",
    "    return report\n",
    "\n",
    "def load_and_evaluate_model(checkpoint_path, test_dataset):\n",
    "    model = LyricsClassifier.load_from_checkpoint(checkpoint_path)\n",
    "\n",
    "    report = evaluate_model(model, test_dataset)\n",
    "\n",
    "    for label, metrics in report.items():\n",
    "        print(f'\\nClass: {label}')\n",
    "        for metric, value in metrics.items():\n",
    "            print(f'{metric}: {value}')\n",
    "\n"
   ]
  },
  {
   "cell_type": "code",
   "execution_count": null,
   "metadata": {},
   "outputs": [],
   "source": [
    "# Usage example\n",
    "test_dataset = LyricsDataset(test_encodings, test_labels)  # You need to prepare your test_encodings and test_labels\n",
    "load_and_evaluate_model('/content/lightning_logs/version_2/checkpoints/epoch=1-step=2812.ckpt', test_dataset)\n"
   ]
  }
 ],
 "metadata": {
  "kernelspec": {
   "display_name": "nlp_env",
   "language": "python",
   "name": "nlp_env"
  },
  "language_info": {
   "codemirror_mode": {
    "name": "ipython",
    "version": 3
   },
   "file_extension": ".py",
   "mimetype": "text/x-python",
   "name": "python",
   "nbconvert_exporter": "python",
   "pygments_lexer": "ipython3",
   "version": "3.8.16"
  },
  "orig_nbformat": 4
 },
 "nbformat": 4,
 "nbformat_minor": 2
}
