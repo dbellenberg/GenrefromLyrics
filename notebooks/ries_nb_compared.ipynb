{
 "cells": [
  {
   "cell_type": "code",
   "execution_count": 1,
   "metadata": {},
   "outputs": [
    {
     "name": "stdout",
     "output_type": "stream",
     "text": [
      "Defaulting to user installation because normal site-packages is not writeable\n",
      "Requirement already satisfied: pandas==2.0.1 in /home/ucloud/.local/lib/python3.10/site-packages (from -r ../requirements.txt (line 1)) (2.0.1)\n",
      "Requirement already satisfied: numpy==1.24.3 in /home/ucloud/.local/lib/python3.10/site-packages (from -r ../requirements.txt (line 2)) (1.24.3)\n",
      "Requirement already satisfied: matplotlib==3.7.1 in /home/ucloud/.local/lib/python3.10/site-packages (from -r ../requirements.txt (line 3)) (3.7.1)\n",
      "Requirement already satisfied: tqdm==4.65.0 in /home/ucloud/.local/lib/python3.10/site-packages (from -r ../requirements.txt (line 4)) (4.65.0)\n",
      "Requirement already satisfied: fasttext==0.9.2 in /home/ucloud/.local/lib/python3.10/site-packages (from -r ../requirements.txt (line 5)) (0.9.2)\n",
      "Requirement already satisfied: seaborn==0.12.2 in /home/ucloud/.local/lib/python3.10/site-packages (from -r ../requirements.txt (line 6)) (0.12.2)\n",
      "Requirement already satisfied: nltk==3.8.1 in /home/ucloud/.local/lib/python3.10/site-packages (from -r ../requirements.txt (line 7)) (3.8.1)\n",
      "Requirement already satisfied: scikit-learn==1.2.2 in /home/ucloud/.local/lib/python3.10/site-packages (from -r ../requirements.txt (line 8)) (1.2.2)\n",
      "Requirement already satisfied: pytz>=2020.1 in /home/ucloud/.local/lib/python3.10/site-packages (from pandas==2.0.1->-r ../requirements.txt (line 1)) (2023.3)\n",
      "Requirement already satisfied: python-dateutil>=2.8.2 in /home/ucloud/.local/lib/python3.10/site-packages (from pandas==2.0.1->-r ../requirements.txt (line 1)) (2.8.2)\n",
      "Requirement already satisfied: tzdata>=2022.1 in /home/ucloud/.local/lib/python3.10/site-packages (from pandas==2.0.1->-r ../requirements.txt (line 1)) (2023.3)\n",
      "Requirement already satisfied: cycler>=0.10 in /home/ucloud/.local/lib/python3.10/site-packages (from matplotlib==3.7.1->-r ../requirements.txt (line 3)) (0.11.0)\n",
      "Requirement already satisfied: contourpy>=1.0.1 in /home/ucloud/.local/lib/python3.10/site-packages (from matplotlib==3.7.1->-r ../requirements.txt (line 3)) (1.0.7)\n",
      "Requirement already satisfied: packaging>=20.0 in /home/ucloud/.local/lib/python3.10/site-packages (from matplotlib==3.7.1->-r ../requirements.txt (line 3)) (23.1)\n",
      "Requirement already satisfied: fonttools>=4.22.0 in /home/ucloud/.local/lib/python3.10/site-packages (from matplotlib==3.7.1->-r ../requirements.txt (line 3)) (4.39.4)\n",
      "Requirement already satisfied: pillow>=6.2.0 in /home/ucloud/.local/lib/python3.10/site-packages (from matplotlib==3.7.1->-r ../requirements.txt (line 3)) (9.5.0)\n",
      "Requirement already satisfied: pyparsing>=2.3.1 in /usr/lib/python3/dist-packages (from matplotlib==3.7.1->-r ../requirements.txt (line 3)) (3.0.7)\n",
      "Requirement already satisfied: kiwisolver>=1.0.1 in /home/ucloud/.local/lib/python3.10/site-packages (from matplotlib==3.7.1->-r ../requirements.txt (line 3)) (1.4.4)\n",
      "Requirement already satisfied: setuptools>=0.7.0 in /usr/lib/python3/dist-packages (from fasttext==0.9.2->-r ../requirements.txt (line 5)) (59.6.0)\n",
      "Requirement already satisfied: pybind11>=2.2 in /home/ucloud/.local/lib/python3.10/site-packages (from fasttext==0.9.2->-r ../requirements.txt (line 5)) (2.10.4)\n",
      "Requirement already satisfied: joblib in /home/ucloud/.local/lib/python3.10/site-packages (from nltk==3.8.1->-r ../requirements.txt (line 7)) (1.2.0)\n",
      "Requirement already satisfied: click in /usr/lib/python3/dist-packages (from nltk==3.8.1->-r ../requirements.txt (line 7)) (8.0.3)\n",
      "Requirement already satisfied: regex>=2021.8.3 in /home/ucloud/.local/lib/python3.10/site-packages (from nltk==3.8.1->-r ../requirements.txt (line 7)) (2023.5.5)\n",
      "Requirement already satisfied: scipy>=1.3.2 in /home/ucloud/.local/lib/python3.10/site-packages (from scikit-learn==1.2.2->-r ../requirements.txt (line 8)) (1.10.1)\n",
      "Requirement already satisfied: threadpoolctl>=2.0.0 in /home/ucloud/.local/lib/python3.10/site-packages (from scikit-learn==1.2.2->-r ../requirements.txt (line 8)) (3.1.0)\n",
      "Requirement already satisfied: six>=1.5 in /usr/lib/python3/dist-packages (from python-dateutil>=2.8.2->pandas==2.0.1->-r ../requirements.txt (line 1)) (1.16.0)\n"
     ]
    }
   ],
   "source": [
    "! pip install -r ../requirements.txt"
   ]
  },
  {
   "cell_type": "code",
   "execution_count": 1,
   "metadata": {},
   "outputs": [],
   "source": [
    "import pandas as pd\n",
    "from tqdm import tqdm\n",
    "from multiprocessing import Pool\n",
    "import fasttext\n",
    "import matplotlib.pyplot as plt\n",
    "import seaborn as sns\n",
    "import re\n",
    "import string\n",
    "import nltk\n",
    "from nltk.tokenize import word_tokenize\n",
    "from nltk.corpus import stopwords\n",
    "from nltk.stem import WordNetLemmatizer\n",
    "from nltk import NaiveBayesClassifier\n",
    "from concurrent.futures import ThreadPoolExecutor\n",
    "from sklearn.model_selection import train_test_split\n",
    "from sklearn.metrics import classification_report \n",
    "from sklearn.feature_extraction.text import TfidfVectorizer, CountVectorizer\n",
    "from sklearn.model_selection import train_test_split\n",
    "from sklearn.naive_bayes import CategoricalNB\n",
    "from sklearn.naive_bayes import MultinomialNB\n",
    "import gc"
   ]
  },
  {
   "cell_type": "code",
   "execution_count": 2,
   "metadata": {},
   "outputs": [],
   "source": [
    "def nb_classification(train, label, vectorizer='bow'):\n",
    "\n",
    "    train = train.apply(' '.join)\n",
    "\n",
    "    # Split the data into training and testing sets\n",
    "    X_train, X_test, y_train, y_test = train_test_split(train, label, test_size=0.3, random_state=42)\n",
    "\n",
    "    if vectorizer == 'bow':\n",
    "        vec = CountVectorizer()\n",
    "    elif vectorizer == 'tfidf':\n",
    "        vec = TfidfVectorizer()\n",
    "\n",
    "    X_train_vec = vec.fit_transform(X_train)\n",
    "    X_test_vec = vec.transform(X_test)\n",
    "\n",
    "    # Initialize the MultinomialNB\n",
    "    nb = MultinomialNB()\n",
    "\n",
    "    # Fit the model to the training data\n",
    "    nb.fit(X_train_vec, y_train)\n",
    "\n",
    "    # Predict the labels of the test set\n",
    "    y_pred = nb.predict(X_test_vec)\n",
    "\n",
    "    # Generate classification report\n",
    "    report = classification_report(y_test, y_pred)\n",
    "    return report\n",
    "\n",
    "    "
   ]
  },
  {
   "attachments": {},
   "cell_type": "markdown",
   "metadata": {},
   "source": [
    "### Tokenized"
   ]
  },
  {
   "cell_type": "code",
   "execution_count": 3,
   "metadata": {},
   "outputs": [],
   "source": [
    "df = pd.read_pickle('/work/pkl_files/tokenized.pkl')"
   ]
  },
  {
   "cell_type": "code",
   "execution_count": 4,
   "metadata": {},
   "outputs": [
    {
     "data": {
      "text/html": [
       "<div>\n",
       "<style scoped>\n",
       "    .dataframe tbody tr th:only-of-type {\n",
       "        vertical-align: middle;\n",
       "    }\n",
       "\n",
       "    .dataframe tbody tr th {\n",
       "        vertical-align: top;\n",
       "    }\n",
       "\n",
       "    .dataframe thead th {\n",
       "        text-align: right;\n",
       "    }\n",
       "</style>\n",
       "<table border=\"1\" class=\"dataframe\">\n",
       "  <thead>\n",
       "    <tr style=\"text-align: right;\">\n",
       "      <th></th>\n",
       "      <th>title</th>\n",
       "      <th>tag</th>\n",
       "      <th>artist</th>\n",
       "      <th>year</th>\n",
       "      <th>lyrics</th>\n",
       "      <th>id</th>\n",
       "      <th>lyrics_word_count</th>\n",
       "    </tr>\n",
       "  </thead>\n",
       "  <tbody>\n",
       "    <tr>\n",
       "      <th>0</th>\n",
       "      <td>Killa Cam</td>\n",
       "      <td>rap</td>\n",
       "      <td>Cam'ron</td>\n",
       "      <td>2004</td>\n",
       "      <td>[killa, cam, killa, cam, cam, killa, cam, kill...</td>\n",
       "      <td>1</td>\n",
       "      <td>762</td>\n",
       "    </tr>\n",
       "    <tr>\n",
       "      <th>1</th>\n",
       "      <td>Can I Live</td>\n",
       "      <td>rap</td>\n",
       "      <td>JAY-Z</td>\n",
       "      <td>1996</td>\n",
       "      <td>[yeah, hah, yeah, rocafella, invite, somethin,...</td>\n",
       "      <td>3</td>\n",
       "      <td>548</td>\n",
       "    </tr>\n",
       "    <tr>\n",
       "      <th>2</th>\n",
       "      <td>Forgive Me Father</td>\n",
       "      <td>rap</td>\n",
       "      <td>Fabolous</td>\n",
       "      <td>2003</td>\n",
       "      <td>[maybe, cause, im, eatin, bastards, fiend, gru...</td>\n",
       "      <td>4</td>\n",
       "      <td>574</td>\n",
       "    </tr>\n",
       "    <tr>\n",
       "      <th>3</th>\n",
       "      <td>Down and Out</td>\n",
       "      <td>rap</td>\n",
       "      <td>Cam'ron</td>\n",
       "      <td>2004</td>\n",
       "      <td>[ugh, killa, baby, kanye, 1970s, heron, flow, ...</td>\n",
       "      <td>5</td>\n",
       "      <td>760</td>\n",
       "    </tr>\n",
       "    <tr>\n",
       "      <th>4</th>\n",
       "      <td>Fly In</td>\n",
       "      <td>rap</td>\n",
       "      <td>Lil Wayne</td>\n",
       "      <td>2005</td>\n",
       "      <td>[ask, young, boy, gon, second, time, around, g...</td>\n",
       "      <td>6</td>\n",
       "      <td>432</td>\n",
       "    </tr>\n",
       "  </tbody>\n",
       "</table>\n",
       "</div>"
      ],
      "text/plain": [
       "               title  tag     artist  year   \n",
       "0          Killa Cam  rap    Cam'ron  2004  \\\n",
       "1         Can I Live  rap      JAY-Z  1996   \n",
       "2  Forgive Me Father  rap   Fabolous  2003   \n",
       "3       Down and Out  rap    Cam'ron  2004   \n",
       "4             Fly In  rap  Lil Wayne  2005   \n",
       "\n",
       "                                              lyrics  id  lyrics_word_count  \n",
       "0  [killa, cam, killa, cam, cam, killa, cam, kill...   1                762  \n",
       "1  [yeah, hah, yeah, rocafella, invite, somethin,...   3                548  \n",
       "2  [maybe, cause, im, eatin, bastards, fiend, gru...   4                574  \n",
       "3  [ugh, killa, baby, kanye, 1970s, heron, flow, ...   5                760  \n",
       "4  [ask, young, boy, gon, second, time, around, g...   6                432  "
      ]
     },
     "execution_count": 4,
     "metadata": {},
     "output_type": "execute_result"
    }
   ],
   "source": [
    "df.head()"
   ]
  },
  {
   "cell_type": "code",
   "execution_count": 5,
   "metadata": {},
   "outputs": [
    {
     "name": "stdout",
     "output_type": "stream",
     "text": [
      "              precision    recall  f1-score   support\n",
      "\n",
      "     country       0.33      0.18      0.23     25477\n",
      "         pop       0.65      0.49      0.56    430965\n",
      "         rap       0.83      0.79      0.81    298959\n",
      "          rb       0.24      0.35      0.29     47343\n",
      "        rock       0.40      0.62      0.48    191812\n",
      "\n",
      "    accuracy                           0.59    994556\n",
      "   macro avg       0.49      0.49      0.48    994556\n",
      "weighted avg       0.63      0.59      0.60    994556\n",
      "\n"
     ]
    }
   ],
   "source": [
    "#bow\n",
    "bow_report = nb_classification(df['lyrics'], df['tag'], vectorizer='bow')\n",
    "print(bow_report)"
   ]
  },
  {
   "cell_type": "code",
   "execution_count": 6,
   "metadata": {},
   "outputs": [
    {
     "name": "stdout",
     "output_type": "stream",
     "text": [
      "              precision    recall  f1-score   support\n",
      "\n",
      "     country       0.00      0.00      0.00     25477\n",
      "         pop       0.58      0.91      0.71    430965\n",
      "         rap       0.80      0.83      0.82    298959\n",
      "          rb       0.13      0.00      0.00     47343\n",
      "        rock       0.69      0.05      0.09    191812\n",
      "\n",
      "    accuracy                           0.65    994556\n",
      "   macro avg       0.44      0.36      0.32    994556\n",
      "weighted avg       0.63      0.65      0.57    994556\n",
      "\n"
     ]
    }
   ],
   "source": [
    "#tfidf\n",
    "tfidf_report = nb_classification(df['lyrics'], df['tag'], vectorizer='tfidf')\n",
    "print(tfidf_report)"
   ]
  },
  {
   "attachments": {},
   "cell_type": "markdown",
   "metadata": {},
   "source": [
    "### Stemmed"
   ]
  },
  {
   "cell_type": "code",
   "execution_count": 4,
   "metadata": {},
   "outputs": [],
   "source": [
    "df = pd.read_pickle('/work/pkl_files/stemmed.pkl')"
   ]
  },
  {
   "cell_type": "code",
   "execution_count": 5,
   "metadata": {},
   "outputs": [
    {
     "data": {
      "text/html": [
       "<div>\n",
       "<style scoped>\n",
       "    .dataframe tbody tr th:only-of-type {\n",
       "        vertical-align: middle;\n",
       "    }\n",
       "\n",
       "    .dataframe tbody tr th {\n",
       "        vertical-align: top;\n",
       "    }\n",
       "\n",
       "    .dataframe thead th {\n",
       "        text-align: right;\n",
       "    }\n",
       "</style>\n",
       "<table border=\"1\" class=\"dataframe\">\n",
       "  <thead>\n",
       "    <tr style=\"text-align: right;\">\n",
       "      <th></th>\n",
       "      <th>title</th>\n",
       "      <th>tag</th>\n",
       "      <th>artist</th>\n",
       "      <th>year</th>\n",
       "      <th>lyrics</th>\n",
       "      <th>id</th>\n",
       "      <th>lyrics_word_count</th>\n",
       "      <th>stemmed_lyrics</th>\n",
       "    </tr>\n",
       "  </thead>\n",
       "  <tbody>\n",
       "    <tr>\n",
       "      <th>0</th>\n",
       "      <td>Killa Cam</td>\n",
       "      <td>rap</td>\n",
       "      <td>Cam'ron</td>\n",
       "      <td>2004</td>\n",
       "      <td>[killa, cam, killa, cam, cam, killa, cam, kill...</td>\n",
       "      <td>1</td>\n",
       "      <td>762</td>\n",
       "      <td>[killa, cam, killa, cam, cam, killa, cam, kill...</td>\n",
       "    </tr>\n",
       "    <tr>\n",
       "      <th>1</th>\n",
       "      <td>Can I Live</td>\n",
       "      <td>rap</td>\n",
       "      <td>JAY-Z</td>\n",
       "      <td>1996</td>\n",
       "      <td>[yeah, hah, yeah, rocafella, invite, somethin,...</td>\n",
       "      <td>3</td>\n",
       "      <td>548</td>\n",
       "      <td>[yeah, hah, yeah, rocafella, invit, somethin, ...</td>\n",
       "    </tr>\n",
       "    <tr>\n",
       "      <th>2</th>\n",
       "      <td>Forgive Me Father</td>\n",
       "      <td>rap</td>\n",
       "      <td>Fabolous</td>\n",
       "      <td>2003</td>\n",
       "      <td>[maybe, cause, im, eatin, bastards, fiend, gru...</td>\n",
       "      <td>4</td>\n",
       "      <td>574</td>\n",
       "      <td>[mayb, caus, im, eatin, bastard, fiend, grub, ...</td>\n",
       "    </tr>\n",
       "    <tr>\n",
       "      <th>3</th>\n",
       "      <td>Down and Out</td>\n",
       "      <td>rap</td>\n",
       "      <td>Cam'ron</td>\n",
       "      <td>2004</td>\n",
       "      <td>[ugh, killa, baby, kanye, 1970s, heron, flow, ...</td>\n",
       "      <td>5</td>\n",
       "      <td>760</td>\n",
       "      <td>[ugh, killa, babi, kany, 1970s, heron, flow, h...</td>\n",
       "    </tr>\n",
       "    <tr>\n",
       "      <th>4</th>\n",
       "      <td>Fly In</td>\n",
       "      <td>rap</td>\n",
       "      <td>Lil Wayne</td>\n",
       "      <td>2005</td>\n",
       "      <td>[ask, young, boy, gon, second, time, around, g...</td>\n",
       "      <td>6</td>\n",
       "      <td>432</td>\n",
       "      <td>[ask, young, boy, gon, second, time, around, g...</td>\n",
       "    </tr>\n",
       "  </tbody>\n",
       "</table>\n",
       "</div>"
      ],
      "text/plain": [
       "               title  tag     artist  year   \n",
       "0          Killa Cam  rap    Cam'ron  2004  \\\n",
       "1         Can I Live  rap      JAY-Z  1996   \n",
       "2  Forgive Me Father  rap   Fabolous  2003   \n",
       "3       Down and Out  rap    Cam'ron  2004   \n",
       "4             Fly In  rap  Lil Wayne  2005   \n",
       "\n",
       "                                              lyrics  id  lyrics_word_count   \n",
       "0  [killa, cam, killa, cam, cam, killa, cam, kill...   1                762  \\\n",
       "1  [yeah, hah, yeah, rocafella, invite, somethin,...   3                548   \n",
       "2  [maybe, cause, im, eatin, bastards, fiend, gru...   4                574   \n",
       "3  [ugh, killa, baby, kanye, 1970s, heron, flow, ...   5                760   \n",
       "4  [ask, young, boy, gon, second, time, around, g...   6                432   \n",
       "\n",
       "                                      stemmed_lyrics  \n",
       "0  [killa, cam, killa, cam, cam, killa, cam, kill...  \n",
       "1  [yeah, hah, yeah, rocafella, invit, somethin, ...  \n",
       "2  [mayb, caus, im, eatin, bastard, fiend, grub, ...  \n",
       "3  [ugh, killa, babi, kany, 1970s, heron, flow, h...  \n",
       "4  [ask, young, boy, gon, second, time, around, g...  "
      ]
     },
     "execution_count": 5,
     "metadata": {},
     "output_type": "execute_result"
    }
   ],
   "source": [
    "df.head()"
   ]
  },
  {
   "cell_type": "code",
   "execution_count": 11,
   "metadata": {},
   "outputs": [
    {
     "name": "stdout",
     "output_type": "stream",
     "text": [
      "              precision    recall  f1-score   support\n",
      "\n",
      "     country       0.32      0.18      0.23     25477\n",
      "         pop       0.65      0.48      0.55    430965\n",
      "         rap       0.83      0.79      0.81    298959\n",
      "          rb       0.24      0.35      0.28     47343\n",
      "        rock       0.39      0.63      0.48    191812\n",
      "\n",
      "    accuracy                           0.59    994556\n",
      "   macro avg       0.48      0.49      0.47    994556\n",
      "weighted avg       0.63      0.59      0.59    994556\n",
      "\n"
     ]
    }
   ],
   "source": [
    "#bow\n",
    "bow_report = nb_classification(df['stemmed_lyrics'], df['tag'], vectorizer='bow')\n",
    "print(bow_report)\n"
   ]
  },
  {
   "cell_type": "code",
   "execution_count": 12,
   "metadata": {},
   "outputs": [
    {
     "name": "stdout",
     "output_type": "stream",
     "text": [
      "              precision    recall  f1-score   support\n",
      "\n",
      "     country       0.00      0.00      0.00     25477\n",
      "         pop       0.58      0.91      0.71    430965\n",
      "         rap       0.80      0.83      0.81    298959\n",
      "          rb       0.14      0.00      0.00     47343\n",
      "        rock       0.70      0.05      0.09    191812\n",
      "\n",
      "    accuracy                           0.65    994556\n",
      "   macro avg       0.44      0.36      0.32    994556\n",
      "weighted avg       0.63      0.65      0.57    994556\n",
      "\n"
     ]
    }
   ],
   "source": [
    "#tfidf\n",
    "tfidf_report = nb_classification(df['stemmed_lyrics'], df['tag'], vectorizer='tfidf')\n",
    "print(tfidf_report)\n"
   ]
  },
  {
   "attachments": {},
   "cell_type": "markdown",
   "metadata": {},
   "source": [
    "### Lemmatized"
   ]
  },
  {
   "cell_type": "code",
   "execution_count": 4,
   "metadata": {},
   "outputs": [
    {
     "data": {
      "text/plain": [
       "0"
      ]
     },
     "execution_count": 4,
     "metadata": {},
     "output_type": "execute_result"
    }
   ],
   "source": [
    "df = pd.read_pickle('/work/pkl_files/lemmatized.pkl')\n",
    "gc.collect()"
   ]
  },
  {
   "cell_type": "code",
   "execution_count": 5,
   "metadata": {},
   "outputs": [
    {
     "data": {
      "text/html": [
       "<div>\n",
       "<style scoped>\n",
       "    .dataframe tbody tr th:only-of-type {\n",
       "        vertical-align: middle;\n",
       "    }\n",
       "\n",
       "    .dataframe tbody tr th {\n",
       "        vertical-align: top;\n",
       "    }\n",
       "\n",
       "    .dataframe thead th {\n",
       "        text-align: right;\n",
       "    }\n",
       "</style>\n",
       "<table border=\"1\" class=\"dataframe\">\n",
       "  <thead>\n",
       "    <tr style=\"text-align: right;\">\n",
       "      <th></th>\n",
       "      <th>title</th>\n",
       "      <th>tag</th>\n",
       "      <th>artist</th>\n",
       "      <th>year</th>\n",
       "      <th>lyrics</th>\n",
       "      <th>id</th>\n",
       "      <th>lyrics_word_count</th>\n",
       "      <th>lemmatized_lyrics</th>\n",
       "    </tr>\n",
       "  </thead>\n",
       "  <tbody>\n",
       "    <tr>\n",
       "      <th>0</th>\n",
       "      <td>Killa Cam</td>\n",
       "      <td>rap</td>\n",
       "      <td>Cam'ron</td>\n",
       "      <td>2004</td>\n",
       "      <td>[killa, cam, killa, cam, cam, killa, cam, kill...</td>\n",
       "      <td>1</td>\n",
       "      <td>762</td>\n",
       "      <td>[killa, cam, killa, cam, cam, killa, cam, kill...</td>\n",
       "    </tr>\n",
       "    <tr>\n",
       "      <th>1</th>\n",
       "      <td>Can I Live</td>\n",
       "      <td>rap</td>\n",
       "      <td>JAY-Z</td>\n",
       "      <td>1996</td>\n",
       "      <td>[yeah, hah, yeah, rocafella, invite, somethin,...</td>\n",
       "      <td>3</td>\n",
       "      <td>548</td>\n",
       "      <td>[yeah, hah, yeah, rocafella, invite, somethin,...</td>\n",
       "    </tr>\n",
       "    <tr>\n",
       "      <th>2</th>\n",
       "      <td>Forgive Me Father</td>\n",
       "      <td>rap</td>\n",
       "      <td>Fabolous</td>\n",
       "      <td>2003</td>\n",
       "      <td>[maybe, cause, im, eatin, bastards, fiend, gru...</td>\n",
       "      <td>4</td>\n",
       "      <td>574</td>\n",
       "      <td>[maybe, cause, im, eatin, bastard, fiend, grub...</td>\n",
       "    </tr>\n",
       "    <tr>\n",
       "      <th>3</th>\n",
       "      <td>Down and Out</td>\n",
       "      <td>rap</td>\n",
       "      <td>Cam'ron</td>\n",
       "      <td>2004</td>\n",
       "      <td>[ugh, killa, baby, kanye, 1970s, heron, flow, ...</td>\n",
       "      <td>5</td>\n",
       "      <td>760</td>\n",
       "      <td>[ugh, killa, baby, kanye, 1970s, heron, flow, ...</td>\n",
       "    </tr>\n",
       "    <tr>\n",
       "      <th>4</th>\n",
       "      <td>Fly In</td>\n",
       "      <td>rap</td>\n",
       "      <td>Lil Wayne</td>\n",
       "      <td>2005</td>\n",
       "      <td>[ask, young, boy, gon, second, time, around, g...</td>\n",
       "      <td>6</td>\n",
       "      <td>432</td>\n",
       "      <td>[ask, young, boy, gon, second, time, around, g...</td>\n",
       "    </tr>\n",
       "  </tbody>\n",
       "</table>\n",
       "</div>"
      ],
      "text/plain": [
       "               title  tag     artist  year   \n",
       "0          Killa Cam  rap    Cam'ron  2004  \\\n",
       "1         Can I Live  rap      JAY-Z  1996   \n",
       "2  Forgive Me Father  rap   Fabolous  2003   \n",
       "3       Down and Out  rap    Cam'ron  2004   \n",
       "4             Fly In  rap  Lil Wayne  2005   \n",
       "\n",
       "                                              lyrics  id  lyrics_word_count   \n",
       "0  [killa, cam, killa, cam, cam, killa, cam, kill...   1                762  \\\n",
       "1  [yeah, hah, yeah, rocafella, invite, somethin,...   3                548   \n",
       "2  [maybe, cause, im, eatin, bastards, fiend, gru...   4                574   \n",
       "3  [ugh, killa, baby, kanye, 1970s, heron, flow, ...   5                760   \n",
       "4  [ask, young, boy, gon, second, time, around, g...   6                432   \n",
       "\n",
       "                                   lemmatized_lyrics  \n",
       "0  [killa, cam, killa, cam, cam, killa, cam, kill...  \n",
       "1  [yeah, hah, yeah, rocafella, invite, somethin,...  \n",
       "2  [maybe, cause, im, eatin, bastard, fiend, grub...  \n",
       "3  [ugh, killa, baby, kanye, 1970s, heron, flow, ...  \n",
       "4  [ask, young, boy, gon, second, time, around, g...  "
      ]
     },
     "execution_count": 5,
     "metadata": {},
     "output_type": "execute_result"
    }
   ],
   "source": [
    "df.head()"
   ]
  },
  {
   "cell_type": "code",
   "execution_count": 10,
   "metadata": {},
   "outputs": [
    {
     "name": "stdout",
     "output_type": "stream",
     "text": [
      "              precision    recall  f1-score   support\n",
      "\n",
      "     country       0.33      0.17      0.23     25477\n",
      "         pop       0.65      0.49      0.56    430965\n",
      "         rap       0.83      0.79      0.81    298959\n",
      "          rb       0.24      0.34      0.28     47343\n",
      "        rock       0.40      0.62      0.48    191812\n",
      "\n",
      "    accuracy                           0.59    994556\n",
      "   macro avg       0.49      0.48      0.47    994556\n",
      "weighted avg       0.63      0.59      0.60    994556\n",
      "\n"
     ]
    }
   ],
   "source": [
    "#bow\n",
    "bow_report = nb_classification(df['lemmatized_lyrics'], df['tag'], vectorizer='bow')\n",
    "print(bow_report)\n"
   ]
  },
  {
   "cell_type": "code",
   "execution_count": null,
   "metadata": {},
   "outputs": [],
   "source": [
    "#tfidf\n",
    "tfidf_report = nb_classification(df['lemmatized_lyrics'], df['tag'], vectorizer='tfidf')\n",
    "print(tfidf_report)"
   ]
  }
 ],
 "metadata": {
  "kernelspec": {
   "display_name": "Python 3",
   "language": "python",
   "name": "python3"
  },
  "language_info": {
   "codemirror_mode": {
    "name": "ipython",
    "version": 3
   },
   "file_extension": ".py",
   "mimetype": "text/x-python",
   "name": "python",
   "nbconvert_exporter": "python",
   "pygments_lexer": "ipython3",
   "version": "3.10.7"
  },
  "orig_nbformat": 4
 },
 "nbformat": 4,
 "nbformat_minor": 2
}
