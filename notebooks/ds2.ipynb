{
 "cells": [
  {
   "cell_type": "code",
   "execution_count": 80,
   "metadata": {},
   "outputs": [
    {
     "name": "stdout",
     "output_type": "stream",
     "text": [
      "Defaulting to user installation because normal site-packages is not writeable\n",
      "Requirement already satisfied: pandas==2.0.1 in /home/ucloud/.local/lib/python3.10/site-packages (from -r ../requirements.txt (line 1)) (2.0.1)\n",
      "Requirement already satisfied: numpy==1.24.3 in /home/ucloud/.local/lib/python3.10/site-packages (from -r ../requirements.txt (line 2)) (1.24.3)\n",
      "Requirement already satisfied: matplotlib==3.7.1 in /home/ucloud/.local/lib/python3.10/site-packages (from -r ../requirements.txt (line 3)) (3.7.1)\n",
      "Requirement already satisfied: tqdm==4.65.0 in /home/ucloud/.local/lib/python3.10/site-packages (from -r ../requirements.txt (line 4)) (4.65.0)\n",
      "Requirement already satisfied: fasttext==0.9.2 in /home/ucloud/.local/lib/python3.10/site-packages (from -r ../requirements.txt (line 5)) (0.9.2)\n",
      "Requirement already satisfied: seaborn==0.12.2 in /home/ucloud/.local/lib/python3.10/site-packages (from -r ../requirements.txt (line 6)) (0.12.2)\n",
      "\u001b[31mERROR: Could not find a version that satisfies the requirement re (from versions: none)\u001b[0m\u001b[31m\n",
      "\u001b[0m\u001b[31mERROR: No matching distribution found for re\u001b[0m\u001b[31m\n",
      "\u001b[0m"
     ]
    }
   ],
   "source": [
    "! pip install -r ../requirements.txt"
   ]
  },
  {
   "cell_type": "code",
   "execution_count": 100,
   "metadata": {},
   "outputs": [],
   "source": [
    "import pandas as pd\n",
    "from tqdm import tqdm\n",
    "from multiprocessing import Pool\n",
    "import fasttext\n",
    "import matplotlib.pyplot as plt\n",
    "import seaborn as sns\n",
    "import re\n",
    "import string"
   ]
  },
  {
   "attachments": {},
   "cell_type": "markdown",
   "metadata": {},
   "source": [
    "### Initial cleaning and language filtering"
   ]
  },
  {
   "cell_type": "code",
   "execution_count": 4,
   "metadata": {},
   "outputs": [],
   "source": [
    "df = pd.read_csv('../data/ds2.csv')"
   ]
  },
  {
   "cell_type": "code",
   "execution_count": 5,
   "metadata": {},
   "outputs": [
    {
     "name": "stdout",
     "output_type": "stream",
     "text": [
      "<class 'pandas.core.frame.DataFrame'>\n",
      "RangeIndex: 5913411 entries, 0 to 5913410\n",
      "Data columns (total 8 columns):\n",
      " #   Column    Dtype \n",
      "---  ------    ----- \n",
      " 0   title     object\n",
      " 1   tag       object\n",
      " 2   artist    object\n",
      " 3   year      int64 \n",
      " 4   views     int64 \n",
      " 5   features  object\n",
      " 6   lyrics    object\n",
      " 7   id        int64 \n",
      "dtypes: int64(3), object(5)\n",
      "memory usage: 360.9+ MB\n"
     ]
    }
   ],
   "source": [
    "df.info()"
   ]
  },
  {
   "cell_type": "code",
   "execution_count": 6,
   "metadata": {},
   "outputs": [
    {
     "data": {
      "text/html": [
       "<div>\n",
       "<style scoped>\n",
       "    .dataframe tbody tr th:only-of-type {\n",
       "        vertical-align: middle;\n",
       "    }\n",
       "\n",
       "    .dataframe tbody tr th {\n",
       "        vertical-align: top;\n",
       "    }\n",
       "\n",
       "    .dataframe thead th {\n",
       "        text-align: right;\n",
       "    }\n",
       "</style>\n",
       "<table border=\"1\" class=\"dataframe\">\n",
       "  <thead>\n",
       "    <tr style=\"text-align: right;\">\n",
       "      <th></th>\n",
       "      <th>title</th>\n",
       "      <th>tag</th>\n",
       "      <th>artist</th>\n",
       "      <th>year</th>\n",
       "      <th>views</th>\n",
       "      <th>features</th>\n",
       "      <th>lyrics</th>\n",
       "      <th>id</th>\n",
       "    </tr>\n",
       "  </thead>\n",
       "  <tbody>\n",
       "    <tr>\n",
       "      <th>0</th>\n",
       "      <td>Killa Cam</td>\n",
       "      <td>rap</td>\n",
       "      <td>Cam'ron</td>\n",
       "      <td>2004</td>\n",
       "      <td>173166</td>\n",
       "      <td>{\"Cam\\\\'ron\",\"Opera Steve\"}</td>\n",
       "      <td>[Chorus: Opera Steve &amp; Cam'ron]\\nKilla Cam, Ki...</td>\n",
       "      <td>1</td>\n",
       "    </tr>\n",
       "    <tr>\n",
       "      <th>1</th>\n",
       "      <td>Can I Live</td>\n",
       "      <td>rap</td>\n",
       "      <td>JAY-Z</td>\n",
       "      <td>1996</td>\n",
       "      <td>468624</td>\n",
       "      <td>{}</td>\n",
       "      <td>[Produced by Irv Gotti]\\n\\n[Intro]\\nYeah, hah,...</td>\n",
       "      <td>3</td>\n",
       "    </tr>\n",
       "    <tr>\n",
       "      <th>2</th>\n",
       "      <td>Forgive Me Father</td>\n",
       "      <td>rap</td>\n",
       "      <td>Fabolous</td>\n",
       "      <td>2003</td>\n",
       "      <td>4743</td>\n",
       "      <td>{}</td>\n",
       "      <td>Maybe cause I'm eatin\\nAnd these bastards fien...</td>\n",
       "      <td>4</td>\n",
       "    </tr>\n",
       "    <tr>\n",
       "      <th>3</th>\n",
       "      <td>Down and Out</td>\n",
       "      <td>rap</td>\n",
       "      <td>Cam'ron</td>\n",
       "      <td>2004</td>\n",
       "      <td>144404</td>\n",
       "      <td>{\"Cam\\\\'ron\",\"Kanye West\",\"Syleena Johnson\"}</td>\n",
       "      <td>[Produced by Kanye West and Brian Miller]\\n\\n[...</td>\n",
       "      <td>5</td>\n",
       "    </tr>\n",
       "    <tr>\n",
       "      <th>4</th>\n",
       "      <td>Fly In</td>\n",
       "      <td>rap</td>\n",
       "      <td>Lil Wayne</td>\n",
       "      <td>2005</td>\n",
       "      <td>78271</td>\n",
       "      <td>{}</td>\n",
       "      <td>[Intro]\\nSo they ask me\\n\"Young boy\\nWhat you ...</td>\n",
       "      <td>6</td>\n",
       "    </tr>\n",
       "  </tbody>\n",
       "</table>\n",
       "</div>"
      ],
      "text/plain": [
       "               title  tag     artist  year   views   \n",
       "0          Killa Cam  rap    Cam'ron  2004  173166  \\\n",
       "1         Can I Live  rap      JAY-Z  1996  468624   \n",
       "2  Forgive Me Father  rap   Fabolous  2003    4743   \n",
       "3       Down and Out  rap    Cam'ron  2004  144404   \n",
       "4             Fly In  rap  Lil Wayne  2005   78271   \n",
       "\n",
       "                                       features   \n",
       "0                   {\"Cam\\\\'ron\",\"Opera Steve\"}  \\\n",
       "1                                            {}   \n",
       "2                                            {}   \n",
       "3  {\"Cam\\\\'ron\",\"Kanye West\",\"Syleena Johnson\"}   \n",
       "4                                            {}   \n",
       "\n",
       "                                              lyrics  id  \n",
       "0  [Chorus: Opera Steve & Cam'ron]\\nKilla Cam, Ki...   1  \n",
       "1  [Produced by Irv Gotti]\\n\\n[Intro]\\nYeah, hah,...   3  \n",
       "2  Maybe cause I'm eatin\\nAnd these bastards fien...   4  \n",
       "3  [Produced by Kanye West and Brian Miller]\\n\\n[...   5  \n",
       "4  [Intro]\\nSo they ask me\\n\"Young boy\\nWhat you ...   6  "
      ]
     },
     "execution_count": 6,
     "metadata": {},
     "output_type": "execute_result"
    }
   ],
   "source": [
    "df.head()"
   ]
  },
  {
   "cell_type": "code",
   "execution_count": 7,
   "metadata": {},
   "outputs": [],
   "source": [
    "# Drop columns that are not needed\n",
    "df.drop(columns=['views', 'features'], inplace=True)"
   ]
  },
  {
   "cell_type": "code",
   "execution_count": 9,
   "metadata": {},
   "outputs": [
    {
     "data": {
      "text/plain": [
       "tag\n",
       "pop        2519256\n",
       "rap        1962010\n",
       "rock        892220\n",
       "rb          225342\n",
       "misc        208714\n",
       "country     105869\n",
       "Name: count, dtype: int64"
      ]
     },
     "execution_count": 9,
     "metadata": {},
     "output_type": "execute_result"
    }
   ],
   "source": [
    "# Value counts for each genre\n",
    "df['tag'].value_counts()\n"
   ]
  },
  {
   "cell_type": "code",
   "execution_count": 10,
   "metadata": {},
   "outputs": [],
   "source": [
    "# drop genre \"misc\" (miscellaneous) from df\n",
    "df = df[df.tag != 'misc']"
   ]
  },
  {
   "cell_type": "code",
   "execution_count": 15,
   "metadata": {},
   "outputs": [
    {
     "data": {
      "text/plain": [
       "array(['rap', 'rb', 'rock', 'pop', 'country'], dtype=object)"
      ]
     },
     "execution_count": 15,
     "metadata": {},
     "output_type": "execute_result"
    }
   ],
   "source": [
    "# check if only unique genres are in df\n",
    "df['tag'].unique()"
   ]
  },
  {
   "cell_type": "code",
   "execution_count": 17,
   "metadata": {},
   "outputs": [
    {
     "data": {
      "text/plain": [
       "title      407\n",
       "tag          0\n",
       "artist       0\n",
       "year         0\n",
       "lyrics    1011\n",
       "id           0\n",
       "dtype: int64"
      ]
     },
     "execution_count": 17,
     "metadata": {},
     "output_type": "execute_result"
    }
   ],
   "source": [
    "# show nan values in each column\n",
    "df.isnull().sum()"
   ]
  },
  {
   "cell_type": "code",
   "execution_count": 27,
   "metadata": {},
   "outputs": [
    {
     "data": {
      "text/html": [
       "<div>\n",
       "<style scoped>\n",
       "    .dataframe tbody tr th:only-of-type {\n",
       "        vertical-align: middle;\n",
       "    }\n",
       "\n",
       "    .dataframe tbody tr th {\n",
       "        vertical-align: top;\n",
       "    }\n",
       "\n",
       "    .dataframe thead th {\n",
       "        text-align: right;\n",
       "    }\n",
       "</style>\n",
       "<table border=\"1\" class=\"dataframe\">\n",
       "  <thead>\n",
       "    <tr style=\"text-align: right;\">\n",
       "      <th></th>\n",
       "      <th>title</th>\n",
       "      <th>tag</th>\n",
       "      <th>artist</th>\n",
       "      <th>year</th>\n",
       "      <th>lyrics</th>\n",
       "      <th>id</th>\n",
       "    </tr>\n",
       "  </thead>\n",
       "  <tbody>\n",
       "  </tbody>\n",
       "</table>\n",
       "</div>"
      ],
      "text/plain": [
       "Empty DataFrame\n",
       "Columns: [title, tag, artist, year, lyrics, id]\n",
       "Index: []"
      ]
     },
     "execution_count": 27,
     "metadata": {},
     "output_type": "execute_result"
    }
   ],
   "source": [
    "# Show the NAn Values in the title column\n",
    "df[df['title'].isnull()].head(25)"
   ]
  },
  {
   "cell_type": "code",
   "execution_count": 26,
   "metadata": {},
   "outputs": [],
   "source": [
    "# drop nan values in columns lyrics, tag, and title\n",
    "df.dropna(subset=['lyrics', 'tag', 'title'], inplace=True)\n"
   ]
  },
  {
   "cell_type": "code",
   "execution_count": 31,
   "metadata": {},
   "outputs": [
    {
     "data": {
      "text/html": [
       "<div>\n",
       "<style scoped>\n",
       "    .dataframe tbody tr th:only-of-type {\n",
       "        vertical-align: middle;\n",
       "    }\n",
       "\n",
       "    .dataframe tbody tr th {\n",
       "        vertical-align: top;\n",
       "    }\n",
       "\n",
       "    .dataframe thead th {\n",
       "        text-align: right;\n",
       "    }\n",
       "</style>\n",
       "<table border=\"1\" class=\"dataframe\">\n",
       "  <thead>\n",
       "    <tr style=\"text-align: right;\">\n",
       "      <th></th>\n",
       "      <th>title</th>\n",
       "      <th>tag</th>\n",
       "      <th>artist</th>\n",
       "      <th>year</th>\n",
       "      <th>lyrics</th>\n",
       "      <th>id</th>\n",
       "    </tr>\n",
       "  </thead>\n",
       "  <tbody>\n",
       "    <tr>\n",
       "      <th>0</th>\n",
       "      <td>Killa Cam</td>\n",
       "      <td>rap</td>\n",
       "      <td>Cam'ron</td>\n",
       "      <td>2004</td>\n",
       "      <td>[Chorus: Opera Steve &amp; Cam'ron]\\nKilla Cam, Ki...</td>\n",
       "      <td>1</td>\n",
       "    </tr>\n",
       "    <tr>\n",
       "      <th>1</th>\n",
       "      <td>Can I Live</td>\n",
       "      <td>rap</td>\n",
       "      <td>JAY-Z</td>\n",
       "      <td>1996</td>\n",
       "      <td>[Produced by Irv Gotti]\\n\\n[Intro]\\nYeah, hah,...</td>\n",
       "      <td>3</td>\n",
       "    </tr>\n",
       "    <tr>\n",
       "      <th>2</th>\n",
       "      <td>Forgive Me Father</td>\n",
       "      <td>rap</td>\n",
       "      <td>Fabolous</td>\n",
       "      <td>2003</td>\n",
       "      <td>Maybe cause I'm eatin\\nAnd these bastards fien...</td>\n",
       "      <td>4</td>\n",
       "    </tr>\n",
       "    <tr>\n",
       "      <th>3</th>\n",
       "      <td>Down and Out</td>\n",
       "      <td>rap</td>\n",
       "      <td>Cam'ron</td>\n",
       "      <td>2004</td>\n",
       "      <td>[Produced by Kanye West and Brian Miller]\\n\\n[...</td>\n",
       "      <td>5</td>\n",
       "    </tr>\n",
       "    <tr>\n",
       "      <th>4</th>\n",
       "      <td>Fly In</td>\n",
       "      <td>rap</td>\n",
       "      <td>Lil Wayne</td>\n",
       "      <td>2005</td>\n",
       "      <td>[Intro]\\nSo they ask me\\n\"Young boy\\nWhat you ...</td>\n",
       "      <td>6</td>\n",
       "    </tr>\n",
       "  </tbody>\n",
       "</table>\n",
       "</div>"
      ],
      "text/plain": [
       "               title  tag     artist  year   \n",
       "0          Killa Cam  rap    Cam'ron  2004  \\\n",
       "1         Can I Live  rap      JAY-Z  1996   \n",
       "2  Forgive Me Father  rap   Fabolous  2003   \n",
       "3       Down and Out  rap    Cam'ron  2004   \n",
       "4             Fly In  rap  Lil Wayne  2005   \n",
       "\n",
       "                                              lyrics  id  \n",
       "0  [Chorus: Opera Steve & Cam'ron]\\nKilla Cam, Ki...   1  \n",
       "1  [Produced by Irv Gotti]\\n\\n[Intro]\\nYeah, hah,...   3  \n",
       "2  Maybe cause I'm eatin\\nAnd these bastards fien...   4  \n",
       "3  [Produced by Kanye West and Brian Miller]\\n\\n[...   5  \n",
       "4  [Intro]\\nSo they ask me\\n\"Young boy\\nWhat you ...   6  "
      ]
     },
     "execution_count": 31,
     "metadata": {},
     "output_type": "execute_result"
    }
   ],
   "source": [
    "df.head()"
   ]
  },
  {
   "cell_type": "code",
   "execution_count": 33,
   "metadata": {},
   "outputs": [],
   "source": [
    "#df.to_pickle('../data/df_cleaned_1.pkl')"
   ]
  },
  {
   "cell_type": "code",
   "execution_count": 5,
   "metadata": {},
   "outputs": [],
   "source": [
    "#df = pd.read_pickle('../data/df_cleaned_1.pkl')"
   ]
  },
  {
   "cell_type": "code",
   "execution_count": 13,
   "metadata": {},
   "outputs": [
    {
     "name": "stderr",
     "output_type": "stream",
     "text": [
      "Warning : `load_model` does not return WordVectorModel or SupervisedModel any more, but a `FastText` object which is very similar.\n"
     ]
    }
   ],
   "source": [
    "# Load FastText's language identification model\n",
    "model = fasttext.load_model('../fasttext/lid.176.bin')\n",
    "\n",
    "# Detect language function\n",
    "def detect_language(text):\n",
    "    text = text.replace('\\n', ' ')  # Replace newline characters with spaces\n",
    "    predictions = model.predict(text, k=1)  # k is the number of language predictions to return\n",
    "    lang = predictions[0][0].replace('__label__','')  # Get the language code\n",
    "    return lang"
   ]
  },
  {
   "cell_type": "code",
   "execution_count": 16,
   "metadata": {},
   "outputs": [
    {
     "name": "stderr",
     "output_type": "stream",
     "text": [
      "Detecting language: 100%|██████████| 5703331/5703331 [08:17<00:00, 11472.93it/s]\n"
     ]
    }
   ],
   "source": [
    "# Detect language for each row in lyrics column\n",
    "tqdm.pandas(desc=\"Detecting language\")\n",
    "df['language'] = df['lyrics'].progress_apply(detect_language)"
   ]
  },
  {
   "cell_type": "code",
   "execution_count": 17,
   "metadata": {},
   "outputs": [
    {
     "data": {
      "text/html": [
       "<div>\n",
       "<style scoped>\n",
       "    .dataframe tbody tr th:only-of-type {\n",
       "        vertical-align: middle;\n",
       "    }\n",
       "\n",
       "    .dataframe tbody tr th {\n",
       "        vertical-align: top;\n",
       "    }\n",
       "\n",
       "    .dataframe thead th {\n",
       "        text-align: right;\n",
       "    }\n",
       "</style>\n",
       "<table border=\"1\" class=\"dataframe\">\n",
       "  <thead>\n",
       "    <tr style=\"text-align: right;\">\n",
       "      <th></th>\n",
       "      <th>title</th>\n",
       "      <th>tag</th>\n",
       "      <th>artist</th>\n",
       "      <th>year</th>\n",
       "      <th>lyrics</th>\n",
       "      <th>id</th>\n",
       "      <th>language</th>\n",
       "    </tr>\n",
       "  </thead>\n",
       "  <tbody>\n",
       "    <tr>\n",
       "      <th>0</th>\n",
       "      <td>Killa Cam</td>\n",
       "      <td>rap</td>\n",
       "      <td>Cam'ron</td>\n",
       "      <td>2004</td>\n",
       "      <td>[Chorus: Opera Steve &amp; Cam'ron]\\nKilla Cam, Ki...</td>\n",
       "      <td>1</td>\n",
       "      <td>en</td>\n",
       "    </tr>\n",
       "    <tr>\n",
       "      <th>1</th>\n",
       "      <td>Can I Live</td>\n",
       "      <td>rap</td>\n",
       "      <td>JAY-Z</td>\n",
       "      <td>1996</td>\n",
       "      <td>[Produced by Irv Gotti]\\n\\n[Intro]\\nYeah, hah,...</td>\n",
       "      <td>3</td>\n",
       "      <td>en</td>\n",
       "    </tr>\n",
       "    <tr>\n",
       "      <th>2</th>\n",
       "      <td>Forgive Me Father</td>\n",
       "      <td>rap</td>\n",
       "      <td>Fabolous</td>\n",
       "      <td>2003</td>\n",
       "      <td>Maybe cause I'm eatin\\nAnd these bastards fien...</td>\n",
       "      <td>4</td>\n",
       "      <td>en</td>\n",
       "    </tr>\n",
       "    <tr>\n",
       "      <th>3</th>\n",
       "      <td>Down and Out</td>\n",
       "      <td>rap</td>\n",
       "      <td>Cam'ron</td>\n",
       "      <td>2004</td>\n",
       "      <td>[Produced by Kanye West and Brian Miller]\\n\\n[...</td>\n",
       "      <td>5</td>\n",
       "      <td>en</td>\n",
       "    </tr>\n",
       "    <tr>\n",
       "      <th>4</th>\n",
       "      <td>Fly In</td>\n",
       "      <td>rap</td>\n",
       "      <td>Lil Wayne</td>\n",
       "      <td>2005</td>\n",
       "      <td>[Intro]\\nSo they ask me\\n\"Young boy\\nWhat you ...</td>\n",
       "      <td>6</td>\n",
       "      <td>en</td>\n",
       "    </tr>\n",
       "  </tbody>\n",
       "</table>\n",
       "</div>"
      ],
      "text/plain": [
       "               title  tag     artist  year   \n",
       "0          Killa Cam  rap    Cam'ron  2004  \\\n",
       "1         Can I Live  rap      JAY-Z  1996   \n",
       "2  Forgive Me Father  rap   Fabolous  2003   \n",
       "3       Down and Out  rap    Cam'ron  2004   \n",
       "4             Fly In  rap  Lil Wayne  2005   \n",
       "\n",
       "                                              lyrics  id language  \n",
       "0  [Chorus: Opera Steve & Cam'ron]\\nKilla Cam, Ki...   1       en  \n",
       "1  [Produced by Irv Gotti]\\n\\n[Intro]\\nYeah, hah,...   3       en  \n",
       "2  Maybe cause I'm eatin\\nAnd these bastards fien...   4       en  \n",
       "3  [Produced by Kanye West and Brian Miller]\\n\\n[...   5       en  \n",
       "4  [Intro]\\nSo they ask me\\n\"Young boy\\nWhat you ...   6       en  "
      ]
     },
     "execution_count": 17,
     "metadata": {},
     "output_type": "execute_result"
    }
   ],
   "source": [
    "df.head()"
   ]
  },
  {
   "cell_type": "code",
   "execution_count": 19,
   "metadata": {},
   "outputs": [],
   "source": [
    "# keep only english songs\n",
    "df = df[df['language'] == 'en']"
   ]
  },
  {
   "cell_type": "code",
   "execution_count": 24,
   "metadata": {},
   "outputs": [],
   "source": [
    "# Save df to pickle\n",
    "#df.to_pickle('../data/df_cleaned_engl.pkl')"
   ]
  },
  {
   "attachments": {},
   "cell_type": "markdown",
   "metadata": {},
   "source": [
    "### EDA"
   ]
  },
  {
   "cell_type": "code",
   "execution_count": 104,
   "metadata": {},
   "outputs": [],
   "source": [
    "# Read cleaned and filtered df from pickle\n",
    "df = pd.read_pickle('/work/cleaned_df/df_cleaned_engl.pkl')"
   ]
  },
  {
   "cell_type": "code",
   "execution_count": 105,
   "metadata": {},
   "outputs": [
    {
     "name": "stdout",
     "output_type": "stream",
     "text": [
      "<class 'pandas.core.frame.DataFrame'>\n",
      "Index: 4042601 entries, 0 to 5913410\n",
      "Data columns (total 7 columns):\n",
      " #   Column    Dtype \n",
      "---  ------    ----- \n",
      " 0   title     object\n",
      " 1   tag       object\n",
      " 2   artist    object\n",
      " 3   year      int64 \n",
      " 4   lyrics    object\n",
      " 5   id        int64 \n",
      " 6   language  object\n",
      "dtypes: int64(2), object(5)\n",
      "memory usage: 246.7+ MB\n"
     ]
    }
   ],
   "source": [
    "df.info()"
   ]
  },
  {
   "attachments": {},
   "cell_type": "markdown",
   "metadata": {},
   "source": [
    "We did a first initial cleaning and filtered out all non-english songs, songs with the tag 'misc', and rows with NaN values. Now, the df contains more 4042601 english songs with the features title, tag, artist, year, lyrics and id."
   ]
  },
  {
   "cell_type": "code",
   "execution_count": 106,
   "metadata": {},
   "outputs": [],
   "source": [
    "# Rename the column tag to genre \n",
    "df.rename(columns={\"tag\": \"genre\"}, inplace=True)"
   ]
  },
  {
   "cell_type": "code",
   "execution_count": 107,
   "metadata": {},
   "outputs": [
    {
     "data": {
      "text/plain": [
       "genre\n",
       "pop        1818130\n",
       "rap        1207176\n",
       "rock        737168\n",
       "rb          187550\n",
       "country      92577\n",
       "Name: count, dtype: int64"
      ]
     },
     "execution_count": 107,
     "metadata": {},
     "output_type": "execute_result"
    }
   ],
   "source": [
    "genre_counts = df['genre'].value_counts()\n",
    "genre_counts"
   ]
  },
  {
   "cell_type": "code",
   "execution_count": 108,
   "metadata": {},
   "outputs": [
    {
     "data": {
      "text/plain": [
       "count    5.000000e+00\n",
       "mean     8.085202e+05\n",
       "std      7.213716e+05\n",
       "min      9.257700e+04\n",
       "25%      1.875500e+05\n",
       "50%      7.371680e+05\n",
       "75%      1.207176e+06\n",
       "max      1.818130e+06\n",
       "Name: count, dtype: float64"
      ]
     },
     "execution_count": 108,
     "metadata": {},
     "output_type": "execute_result"
    }
   ],
   "source": [
    "genre_counts.describe()"
   ]
  },
  {
   "cell_type": "code",
   "execution_count": 109,
   "metadata": {},
   "outputs": [
    {
     "data": {
      "image/png": "[encoded data removed]",
      "text/plain": [
       "<Figure size 1000x500 with 1 Axes>"
      ]
     },
     "metadata": {},
     "output_type": "display_data"
    }
   ],
   "source": [
    "plt.figure(figsize=(10, 5))\n",
    "ax = sns.countplot(data=df, x='genre', order=df['genre'].value_counts().index, color='steelblue')\n",
    "# Add count labels to the columns\n",
    "for p in ax.patches:\n",
    "    ax.annotate(format(p.get_height(), '.0f'), (p.get_x() + p.get_width() / 2., p.get_height()), \n",
    "                 ha = 'center', va = 'center', xytext = (0, 5), textcoords = 'offset points')\n",
    "plt.xticks(rotation=90)\n",
    "plt.title('Genre Distribution')\n",
    "plt.xlabel('Genre')\n",
    "plt.ylabel('Count')\n",
    "plt.show()\n"
   ]
  },
  {
   "attachments": {},
   "cell_type": "markdown",
   "metadata": {},
   "source": [
    "The distribution of the genre labels in the dataset is very imbalanced. There are only 92577 country songs while there are over 1.8 million pop songs. "
   ]
  },
  {
   "cell_type": "code",
   "execution_count": 110,
   "metadata": {},
   "outputs": [
    {
     "data": {
      "text/plain": [
       "year\n",
       "2020    460151\n",
       "2021    418109\n",
       "2019    396736\n",
       "2015    350990\n",
       "2018    336073\n",
       "         ...  \n",
       "514          1\n",
       "1748         1\n",
       "1633         1\n",
       "1783         1\n",
       "1431         1\n",
       "Name: count, Length: 485, dtype: int64"
      ]
     },
     "execution_count": 110,
     "metadata": {},
     "output_type": "execute_result"
    }
   ],
   "source": [
    "year_counts = df['year'].value_counts()\n",
    "year_counts"
   ]
  },
  {
   "attachments": {},
   "cell_type": "markdown",
   "metadata": {},
   "source": [
    "Most of the songs are from recent years whereas some songs are very old. Since the songs seem really old and the years are a bit odd, we will examine the years with low song counts closer."
   ]
  },
  {
   "cell_type": "code",
   "execution_count": 111,
   "metadata": {},
   "outputs": [
    {
     "data": {
      "text/html": [
       "<div>\n",
       "<style scoped>\n",
       "    .dataframe tbody tr th:only-of-type {\n",
       "        vertical-align: middle;\n",
       "    }\n",
       "\n",
       "    .dataframe tbody tr th {\n",
       "        vertical-align: top;\n",
       "    }\n",
       "\n",
       "    .dataframe thead th {\n",
       "        text-align: right;\n",
       "    }\n",
       "</style>\n",
       "<table border=\"1\" class=\"dataframe\">\n",
       "  <thead>\n",
       "    <tr style=\"text-align: right;\">\n",
       "      <th></th>\n",
       "      <th>title</th>\n",
       "      <th>genre</th>\n",
       "      <th>artist</th>\n",
       "      <th>year</th>\n",
       "      <th>lyrics</th>\n",
       "      <th>id</th>\n",
       "      <th>language</th>\n",
       "    </tr>\n",
       "  </thead>\n",
       "  <tbody>\n",
       "    <tr>\n",
       "      <th>145757</th>\n",
       "      <td>The History of Tom Jones a Foundling Chap. 8.7</td>\n",
       "      <td>rap</td>\n",
       "      <td>Henry Fielding</td>\n",
       "      <td>1749</td>\n",
       "      <td>Containing better reasons than any which have ...</td>\n",
       "      <td>155315</td>\n",
       "      <td>en</td>\n",
       "    </tr>\n",
       "    <tr>\n",
       "      <th>145762</th>\n",
       "      <td>The History of Tom Jones a Foundling Chap. 8.9</td>\n",
       "      <td>rap</td>\n",
       "      <td>Henry Fielding</td>\n",
       "      <td>1749</td>\n",
       "      <td>Containing several dialogues between Jones and...</td>\n",
       "      <td>155320</td>\n",
       "      <td>en</td>\n",
       "    </tr>\n",
       "    <tr>\n",
       "      <th>208036</th>\n",
       "      <td>Advice to a Friend on Choosing a Mistress</td>\n",
       "      <td>rap</td>\n",
       "      <td>Benjamin Franklin</td>\n",
       "      <td>1745</td>\n",
       "      <td>June 25, 1745\\n\\nMy dear Friend\\n\\nI know of n...</td>\n",
       "      <td>223606</td>\n",
       "      <td>en</td>\n",
       "    </tr>\n",
       "    <tr>\n",
       "      <th>216527</th>\n",
       "      <td>Put a Little Umph In It</td>\n",
       "      <td>rb</td>\n",
       "      <td>Jagged Edge</td>\n",
       "      <td>207</td>\n",
       "      <td>[Intro: Jermaine Dupri, Ashtani, Kyle &amp; Jagged...</td>\n",
       "      <td>235635</td>\n",
       "      <td>en</td>\n",
       "    </tr>\n",
       "    <tr>\n",
       "      <th>250149</th>\n",
       "      <td>FDB Fuck Dat Bitch G-Mix</td>\n",
       "      <td>rap</td>\n",
       "      <td>Young Dro</td>\n",
       "      <td>1415</td>\n",
       "      <td>West Side, Bankhead, is where I'm from\\nEveryt...</td>\n",
       "      <td>327414</td>\n",
       "      <td>en</td>\n",
       "    </tr>\n",
       "    <tr>\n",
       "      <th>...</th>\n",
       "      <td>...</td>\n",
       "      <td>...</td>\n",
       "      <td>...</td>\n",
       "      <td>...</td>\n",
       "      <td>...</td>\n",
       "      <td>...</td>\n",
       "      <td>...</td>\n",
       "    </tr>\n",
       "    <tr>\n",
       "      <th>5238604</th>\n",
       "      <td>Mityu pchelatuh</td>\n",
       "      <td>rock</td>\n",
       "      <td>HARMAN TAARSH</td>\n",
       "      <td>205</td>\n",
       "      <td>Kiro cuh e bati pederasa\\nToi e ot romskata ra...</td>\n",
       "      <td>7022057</td>\n",
       "      <td>en</td>\n",
       "    </tr>\n",
       "    <tr>\n",
       "      <th>5553257</th>\n",
       "      <td>I shit fart pee pee</td>\n",
       "      <td>rap</td>\n",
       "      <td>A$AP Rocky</td>\n",
       "      <td>1686</td>\n",
       "      <td>I bee shitting... farting. IM BROWNING\\n\\n\\nIM...</td>\n",
       "      <td>7418234</td>\n",
       "      <td>en</td>\n",
       "    </tr>\n",
       "    <tr>\n",
       "      <th>5566508</th>\n",
       "      <td>Play Me Like That Video Game</td>\n",
       "      <td>pop</td>\n",
       "      <td>Josef Bel Habib</td>\n",
       "      <td>994</td>\n",
       "      <td>Play Me Like That Video Game (Time to Level at...</td>\n",
       "      <td>7434368</td>\n",
       "      <td>en</td>\n",
       "    </tr>\n",
       "    <tr>\n",
       "      <th>5738079</th>\n",
       "      <td>GYM</td>\n",
       "      <td>rap</td>\n",
       "      <td>Tommy Stoner</td>\n",
       "      <td>499</td>\n",
       "      <td>[Instrumental]</td>\n",
       "      <td>7654006</td>\n",
       "      <td>en</td>\n",
       "    </tr>\n",
       "    <tr>\n",
       "      <th>5907088</th>\n",
       "      <td>TOYS  i will always be yours</td>\n",
       "      <td>rap</td>\n",
       "      <td>Joyaisgone</td>\n",
       "      <td>1765</td>\n",
       "      <td>[First Beat]\\nEmotional when rolling dope I as...</td>\n",
       "      <td>7874346</td>\n",
       "      <td>en</td>\n",
       "    </tr>\n",
       "  </tbody>\n",
       "</table>\n",
       "<p>94 rows × 7 columns</p>\n",
       "</div>"
      ],
      "text/plain": [
       "                                                  title genre   \n",
       "145757   The History of Tom Jones a Foundling Chap. 8.7   rap  \\\n",
       "145762   The History of Tom Jones a Foundling Chap. 8.9   rap   \n",
       "208036        Advice to a Friend on Choosing a Mistress   rap   \n",
       "216527                          Put a Little Umph In It    rb   \n",
       "250149                         FDB Fuck Dat Bitch G-Mix   rap   \n",
       "...                                                 ...   ...   \n",
       "5238604                                 Mityu pchelatuh  rock   \n",
       "5553257                             I shit fart pee pee   rap   \n",
       "5566508                    Play Me Like That Video Game   pop   \n",
       "5738079                                             GYM   rap   \n",
       "5907088                    TOYS  i will always be yours   rap   \n",
       "\n",
       "                    artist  year   \n",
       "145757      Henry Fielding  1749  \\\n",
       "145762      Henry Fielding  1749   \n",
       "208036   Benjamin Franklin  1745   \n",
       "216527         Jagged Edge   207   \n",
       "250149           Young Dro  1415   \n",
       "...                    ...   ...   \n",
       "5238604      HARMAN TAARSH   205   \n",
       "5553257         A$AP Rocky  1686   \n",
       "5566508    Josef Bel Habib   994   \n",
       "5738079       Tommy Stoner   499   \n",
       "5907088         Joyaisgone  1765   \n",
       "\n",
       "                                                    lyrics       id language  \n",
       "145757   Containing better reasons than any which have ...   155315       en  \n",
       "145762   Containing several dialogues between Jones and...   155320       en  \n",
       "208036   June 25, 1745\\n\\nMy dear Friend\\n\\nI know of n...   223606       en  \n",
       "216527   [Intro: Jermaine Dupri, Ashtani, Kyle & Jagged...   235635       en  \n",
       "250149   West Side, Bankhead, is where I'm from\\nEveryt...   327414       en  \n",
       "...                                                    ...      ...      ...  \n",
       "5238604  Kiro cuh e bati pederasa\\nToi e ot romskata ra...  7022057       en  \n",
       "5553257  I bee shitting... farting. IM BROWNING\\n\\n\\nIM...  7418234       en  \n",
       "5566508  Play Me Like That Video Game (Time to Level at...  7434368       en  \n",
       "5738079                                     [Instrumental]  7654006       en  \n",
       "5907088  [First Beat]\\nEmotional when rolling dope I as...  7874346       en  \n",
       "\n",
       "[94 rows x 7 columns]"
      ]
     },
     "execution_count": 111,
     "metadata": {},
     "output_type": "execute_result"
    }
   ],
   "source": [
    "odd_years = year_counts[year_counts == 2].index\n",
    "filtered_df = df[df['year'].isin(odd_years)]\n",
    "filtered_df"
   ]
  },
  {
   "cell_type": "code",
   "execution_count": 112,
   "metadata": {},
   "outputs": [
    {
     "data": {
      "image/png": "[encoded data removed]",
      "text/plain": [
       "<Figure size 1200x600 with 1 Axes>"
      ]
     },
     "metadata": {},
     "output_type": "display_data"
    }
   ],
   "source": [
    "year_counts = df['year'].value_counts()\n",
    "valid_years = year_counts.index\n",
    "\n",
    "year_order = df['year'].sort_values().unique()\n",
    "valid_years = valid_years[valid_years >= 1900]\n",
    "\n",
    "valid_years = sorted(valid_years)  # Sort the valid years in ascending order\n",
    "\n",
    "\n",
    "sns.set(style=\"darkgrid\")\n",
    "plt.figure(figsize=(12, 6))\n",
    "ax = sns.countplot(data=df[df['year'].isin(valid_years)], x='year', order=valid_years, color='steelblue')\n",
    "\n",
    "# Display only every 10th year on the x-axis\n",
    "every_10th_year = [year if i % 10 == 0 else '' for i, year in enumerate(valid_years)]\n",
    "ax.set_xticklabels(every_10th_year)\n",
    "plt.xticks(rotation=90)\n",
    "\n",
    "plt.title('Year Distribution from 1900')\n",
    "plt.xlabel('Year')\n",
    "plt.ylabel('Count')\n",
    "plt.show()"
   ]
  },
  {
   "cell_type": "code",
   "execution_count": 113,
   "metadata": {},
   "outputs": [
    {
     "data": {
      "image/png": "[encoded data removed]",
      "text/plain": [
       "<Figure size 1200x600 with 1 Axes>"
      ]
     },
     "metadata": {},
     "output_type": "display_data"
    }
   ],
   "source": [
    "year_counts = df['year'].value_counts()\n",
    "valid_years = year_counts.index\n",
    "\n",
    "year_order = df['year'].sort_values().unique()\n",
    "valid_years = valid_years[valid_years >= 1980]\n",
    "\n",
    "valid_years = sorted(valid_years)  # Sort the valid years in ascending order\n",
    "\n",
    "\n",
    "sns.set(style=\"darkgrid\")\n",
    "plt.figure(figsize=(12, 6))\n",
    "ax = sns.countplot(data=df[df['year'].isin(valid_years)], x='year', order=valid_years, hue='genre', dodge=False)\n",
    "\n",
    "# Display only every 10th year on the x-axis\n",
    "every_10th_year = [year if i % 5 == 0 else '' for i, year in enumerate(valid_years)]\n",
    "ax.set_xticklabels(every_10th_year)\n",
    "plt.xticks(rotation=90)\n",
    "\n",
    "plt.title('Year Distribution from 1980')\n",
    "plt.xlabel('Year')\n",
    "plt.ylabel('Count')\n",
    "plt.show()"
   ]
  },
  {
   "attachments": {},
   "cell_type": "markdown",
   "metadata": {},
   "source": [
    "The genres rap and country evolved later and since the last 10-20 years. Before the 2000s rock and pop were only present in this data. The year 2015 "
   ]
  },
  {
   "cell_type": "code",
   "execution_count": 114,
   "metadata": {},
   "outputs": [],
   "source": [
    "# Examining word_count\n",
    "df['word_count'] = df['lyrics'].apply(lambda x: len(x.split()))\n"
   ]
  },
  {
   "cell_type": "code",
   "execution_count": 115,
   "metadata": {},
   "outputs": [
    {
     "data": {
      "text/plain": [
       "count      3314.000000\n",
       "mean       1219.855462\n",
       "std       11131.703028\n",
       "min           1.000000\n",
       "25%           1.000000\n",
       "50%           4.000000\n",
       "75%         297.500000\n",
       "max      626826.000000\n",
       "Name: count, dtype: float64"
      ]
     },
     "execution_count": 115,
     "metadata": {},
     "output_type": "execute_result"
    }
   ],
   "source": [
    "df['word_count'].value_counts().describe()"
   ]
  },
  {
   "attachments": {},
   "cell_type": "markdown",
   "metadata": {},
   "source": [
    "The word_count in lyrics has a wide range from 1 to 600000. We will filter the df for rows with a minimum of 50 words in lyrics and max of 10000 words."
   ]
  },
  {
   "cell_type": "code",
   "execution_count": 116,
   "metadata": {},
   "outputs": [],
   "source": [
    "df = df[(df['word_count'] < 5000) & (df['word_count'] > 50)]"
   ]
  },
  {
   "cell_type": "code",
   "execution_count": 117,
   "metadata": {},
   "outputs": [
    {
     "data": {
      "text/plain": [
       "<Axes: xlabel='word_count', ylabel='Count'>"
      ]
     },
     "execution_count": 117,
     "metadata": {},
     "output_type": "execute_result"
    },
    {
     "data": {
      "image/png": "[encoded data removed]",
      "text/plain": [
       "<Figure size 640x480 with 1 Axes>"
      ]
     },
     "metadata": {},
     "output_type": "display_data"
    }
   ],
   "source": [
    "sns.histplot(data=df, x='word_count', bins=50, hue='genre', palette='viridis')"
   ]
  },
  {
   "attachments": {},
   "cell_type": "markdown",
   "metadata": {},
   "source": [
    "The histplot above shows that rap songs contain usually more words than the other genres. "
   ]
  },
  {
   "attachments": {},
   "cell_type": "markdown",
   "metadata": {},
   "source": [
    "### Text Preprocessing"
   ]
  },
  {
   "cell_type": "code",
   "execution_count": 118,
   "metadata": {},
   "outputs": [
    {
     "data": {
      "text/plain": [
       "'[Produced by The Neptunes]\\n\\n[Intro: JAY-Z, Pharrell]\\nYoung! It\\'s the life\\nOnce again it\\'s the life, yes\\nI don\\'t know why, I.. get so high oh\\nIt\\'s intoxicating, man, y\\'all don\\'t know why you do what you do\\nGet so high oh, get so high, high off the life\\n\\n[Verse 1: JAY-Z]\\nThe allure of breaking the law\\nWas always too much for me to ever ignore\\nI\\'ve got a thing for the big-body Benzes, it dulls my senses\\nIn love with a V-Dub engine\\nMan, I\\'m high off life, fuck it, I\\'m wasted\\nBathing Ape kicks, Audemars Piguet wrist\\nMy women-friends get tennis bracelets\\nTrips to Venice, get their Winters replaced with\\nThe sun...it ain\\'t even fun no more, I\\'m jaded\\nMan, it\\'s just a game, I just play it to play it\\nI put my feet in the footprints left to me\\nWithout saying a word, the ghetto\\'s got a mental telepathy\\nMan, my brother hustled so, naturally\\nUp next was me, but what perplexes me\\nShit, I know how this movie ends, still I play\\nThe starring role in \"Hovito\\'s Way\"\\n[Chorus: JAY-Z, Pharrell]\\nIt\\'s just life, I solemnly swear\\nTo change my approach, stop shaving coke\\nStay away from hoes, put down the toast\\n\\'Cause I be doing the most (Oh no!)\\nBut every time I felt \"That was that\", it called me right back\\nIt called me right back\\nMan, it called me right back (Oh no!)\\n\\n[Verse 2: JAY-Z]\\nI\\'m like a Russian mobster, drinking distilled vodka\\nUntil I\\'m under the field with Hoffa, it\\'s real\\nPeel the top up like a toupée, mix the water with the soda\\nTurn the pot up, make a soufflé\\nAll of y\\'all can get it like group-page on your two-way\\nI\\'m living proof that crime do pay\\nSay \"hooray\" to the bad guy, and all the broads\\nPutting cars in their name, for the stars of the game\\nPutting \\'caine in their bras and their tomorrows on the train:\\nAll in the name of love\\nJust to see that love locked in chains and the family came\\nOver the house to take back everything that they claimed\\nOr even the worse pain is the distress\\nLearning you\\'re the mistress only after that love gets slain\\nAnd the anger and the sorrow mixed up leads to mistrust\\nNow it gets tough to ever love again\\nBut the allure of the game, keeps calling your name\\nTo all the Lauras of the world, I feel your pain\\nTo all the Christies in different cities and Tiffany Lanes:\\nWe all hustlers in love with the same thing\\n[Chorus:  JAY-Z, Pharrell]\\nIt\\'s just life, I solemnly swear\\nTo change my approach, stop shaving coke\\nStay away from hoes, put down the toast\\n\\'Cause I be doing the most (Oh no!)\\nBut every time I felt \"That was that\", it called me right back\\nIt called me right back\\nMan, it called me right back (Oh no!)\\n\\n[Verse 3: Jay-Z]\\nI never felt more alive than riding shotgun\\nIn Klein\\'s green 5, until the cops pulled guns\\nAnd I tried to smoke weed to give me the fix I need -\\nWhat the game did to my pulse - with no results\\nAnd you can treat your nose and still won\\'t come close\\nThe game is a light bulb with eleventy-million volts\\nAnd I\\'m just a moth addicted to the floss\\nThe doors lift from the floor and the tops come off\\nBy any means necessary, whatever the cost\\nEven if it means lives is lost\\nAnd I can\\'t explain why I just love to get high\\nDrink, \"life!\" smoke the blueberry sky, blink twice\\nI\\'m in the blueberry 5, you blink three times\\nI may not even be alive\\nI mean even James Dean couldn\\'t escape the allure\\nDying young, leaving a good-looking corpse\\nOf course...\\n[Chorus: JAY-Z, Pharrell]\\nIt\\'s just life, I solemnly swear\\nTo change my approach, stop shaving coke\\nStay away from hoes, put down the toast\\n\\'Cause I be doing the most (Oh no!)\\nBut every time I felt \"That was that\", it called me right back\\nIt called me right back\\nMan, it called me right back (Oh no!)\\n\\n[Outro:  JAY-Z, Pharrell]\\nOnce again its the life\\nYeah I said its the life\\nOnce I again its the life\\n(Oh no! I don\\'t know why, I...)\\n(Get so high oh)\\n(Get so high oh)\\n(Get so high, high off the life)'"
      ]
     },
     "execution_count": 118,
     "metadata": {},
     "output_type": "execute_result"
    }
   ],
   "source": [
    "df.loc[100,'lyrics']"
   ]
  },
  {
   "attachments": {},
   "cell_type": "markdown",
   "metadata": {},
   "source": [
    "We want to remove everything in '[]' and also get rid of everything starting with '\\' (for example: \\n)"
   ]
  },
  {
   "cell_type": "code",
   "execution_count": 123,
   "metadata": {},
   "outputs": [],
   "source": [
    "def strip_lyrics(lyrics):\n",
    "    # Remove strings enclosed in brackets []\n",
    "    lyrics = re.sub(r'\\[.*?\\]', '', lyrics)\n",
    "    \n",
    "    # Remove substrings starting with a backslash \\\n",
    "    lyrics = re.sub(r'\\\\[^\\s]*', '', lyrics)\n",
    "\n",
    "    # Remove newline characters \\n\n",
    "    lyrics = re.sub(r'\\n', ' ', lyrics)\n",
    "    \n",
    "    # Remove single quotes '\n",
    "    lyrics = re.sub(r\"'\", '', lyrics)\n",
    "    \n",
    "    # Remove punctuation and replace with space\n",
    "    lyrics = re.sub(r'[{}]'.format(string.punctuation), ' ', lyrics)\n",
    "    \n",
    "    # Remove leading and trailing whitespaces\n",
    "    lyrics = lyrics.strip()\n",
    "\n",
    "    # Strip the string and ensure only one space between words\n",
    "    lyrics = re.sub(r'\\s+', ' ', lyrics.strip())\n",
    "    \n",
    "    return lyrics\n"
   ]
  },
  {
   "cell_type": "code",
   "execution_count": 124,
   "metadata": {},
   "outputs": [],
   "source": [
    "df['lyrics'] = df['lyrics'].apply(lambda x: strip_lyrics(x))"
   ]
  },
  {
   "cell_type": "code",
   "execution_count": 125,
   "metadata": {},
   "outputs": [
    {
     "data": {
      "text/plain": [
       "'Young Its the life Once again its the life yes I dont know why I get so high oh Its intoxicating man yall dont know why you do what you do Get so high oh get so high high off the life The allure of breaking the law Was always too much for me to ever ignore Ive got a thing for the big body Benzes it dulls my senses In love with a V Dub engine Man Im high off life fuck it Im wasted Bathing Ape kicks Audemars Piguet wrist My women friends get tennis bracelets Trips to Venice get their Winters replaced with The sun it aint even fun no more Im jaded Man its just a game I just play it to play it I put my feet in the footprints left to me Without saying a word the ghettos got a mental telepathy Man my brother hustled so naturally Up next was me but what perplexes me Shit I know how this movie ends still I play The starring role in Hovitos Way Its just life I solemnly swear To change my approach stop shaving coke Stay away from hoes put down the toast Cause I be doing the most Oh no But every time I felt That was that it called me right back It called me right back Man it called me right back Oh no Im like a Russian mobster drinking distilled vodka Until Im under the field with Hoffa its real Peel the top up like a toupée mix the water with the soda Turn the pot up make a soufflé All of yall can get it like group page on your two way Im living proof that crime do pay Say hooray to the bad guy and all the broads Putting cars in their name for the stars of the game Putting caine in their bras and their tomorrows on the train All in the name of love Just to see that love locked in chains and the family came Over the house to take back everything that they claimed Or even the worse pain is the distress Learning youre the mistress only after that love gets slain And the anger and the sorrow mixed up leads to mistrust Now it gets tough to ever love again But the allure of the game keeps calling your name To all the Lauras of the world I feel your pain To all the Christies in different cities and Tiffany Lanes We all hustlers in love with the same thing Its just life I solemnly swear To change my approach stop shaving coke Stay away from hoes put down the toast Cause I be doing the most Oh no But every time I felt That was that it called me right back It called me right back Man it called me right back Oh no I never felt more alive than riding shotgun In Kleins green 5 until the cops pulled guns And I tried to smoke weed to give me the fix I need What the game did to my pulse with no results And you can treat your nose and still wont come close The game is a light bulb with eleventy million volts And Im just a moth addicted to the floss The doors lift from the floor and the tops come off By any means necessary whatever the cost Even if it means lives is lost And I cant explain why I just love to get high Drink life smoke the blueberry sky blink twice Im in the blueberry 5 you blink three times I may not even be alive I mean even James Dean couldnt escape the allure Dying young leaving a good looking corpse Of course Its just life I solemnly swear To change my approach stop shaving coke Stay away from hoes put down the toast Cause I be doing the most Oh no But every time I felt That was that it called me right back It called me right back Man it called me right back Oh no Once again its the life Yeah I said its the life Once I again its the life Oh no I dont know why I Get so high oh Get so high oh Get so high high off the life'"
      ]
     },
     "execution_count": 125,
     "metadata": {},
     "output_type": "execute_result"
    }
   ],
   "source": [
    "df.loc[100,'lyrics']"
   ]
  },
  {
   "cell_type": "code",
   "execution_count": 126,
   "metadata": {},
   "outputs": [
    {
     "name": "stdout",
     "output_type": "stream",
     "text": [
      "Young Its the life Once again its the life yes I dont know why I get so high oh Its intoxicating man yall dont know why you do what you do Get so high oh get so high high off the life The allure of breaking the law Was always too much for me to ever ignore Ive got a thing for the big body Benzes it dulls my senses In love with a V Dub engine Man Im high off life fuck it Im wasted Bathing Ape kicks Audemars Piguet wrist My women friends get tennis bracelets Trips to Venice get their Winters replaced with The sun it aint even fun no more Im jaded Man its just a game I just play it to play it I put my feet in the footprints left to me Without saying a word the ghettos got a mental telepathy Man my brother hustled so naturally Up next was me but what perplexes me Shit I know how this movie ends still I play The starring role in Hovitos Way Its just life I solemnly swear To change my approach stop shaving coke Stay away from hoes put down the toast Cause I be doing the most Oh no But every time I felt That was that it called me right back It called me right back Man it called me right back Oh no Im like a Russian mobster drinking distilled vodka Until Im under the field with Hoffa its real Peel the top up like a toupée mix the water with the soda Turn the pot up make a soufflé All of yall can get it like group page on your two way Im living proof that crime do pay Say hooray to the bad guy and all the broads Putting cars in their name for the stars of the game Putting caine in their bras and their tomorrows on the train All in the name of love Just to see that love locked in chains and the family came Over the house to take back everything that they claimed Or even the worse pain is the distress Learning youre the mistress only after that love gets slain And the anger and the sorrow mixed up leads to mistrust Now it gets tough to ever love again But the allure of the game keeps calling your name To all the Lauras of the world I feel your pain To all the Christies in different cities and Tiffany Lanes We all hustlers in love with the same thing Its just life I solemnly swear To change my approach stop shaving coke Stay away from hoes put down the toast Cause I be doing the most Oh no But every time I felt That was that it called me right back It called me right back Man it called me right back Oh no I never felt more alive than riding shotgun In Kleins green 5 until the cops pulled guns And I tried to smoke weed to give me the fix I need What the game did to my pulse with no results And you can treat your nose and still wont come close The game is a light bulb with eleventy million volts And Im just a moth addicted to the floss The doors lift from the floor and the tops come off By any means necessary whatever the cost Even if it means lives is lost And I cant explain why I just love to get high Drink life smoke the blueberry sky blink twice Im in the blueberry 5 you blink three times I may not even be alive I mean even James Dean couldnt escape the allure Dying young leaving a good looking corpse Of course Its just life I solemnly swear To change my approach stop shaving coke Stay away from hoes put down the toast Cause I be doing the most Oh no But every time I felt That was that it called me right back It called me right back Man it called me right back Oh no Once again its the life Yeah I said its the life Once I again its the life Oh no I dont know why I Get so high oh Get so high oh Get so high high off the life\n"
     ]
    }
   ],
   "source": [
    "print(df.loc[100,'lyrics'])"
   ]
  },
  {
   "cell_type": "code",
   "execution_count": 127,
   "metadata": {},
   "outputs": [],
   "source": [
    "# stemming\n",
    "# lemmatize \n",
    "# etc."
   ]
  },
  {
   "cell_type": "code",
   "execution_count": null,
   "metadata": {},
   "outputs": [],
   "source": []
  }
 ],
 "metadata": {
  "kernelspec": {
   "display_name": "nlp",
   "language": "python",
   "name": "python3"
  },
  "language_info": {
   "codemirror_mode": {
    "name": "ipython",
    "version": 3
   },
   "file_extension": ".py",
   "mimetype": "text/x-python",
   "name": "python",
   "nbconvert_exporter": "python",
   "pygments_lexer": "ipython3",
   "version": "3.10.7"
  },
  "orig_nbformat": 4,
  "vscode": {
   "interpreter": {
    "hash": "159ccdfd790991730c6ba5f5cff62ab71dd9fa0f06359ada66aeb366b52c38d9"
   }
  }
 },
 "nbformat": 4,
 "nbformat_minor": 2
}
