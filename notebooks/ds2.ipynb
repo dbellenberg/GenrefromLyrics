{
 "cells": [
  {
   "cell_type": "code",
   "execution_count": null,
   "metadata": {},
   "outputs": [],
   "source": []
  },
  {
   "cell_type": "code",
   "execution_count": 1,
   "metadata": {},
   "outputs": [],
   "source": [
    "import pandas as pd"
   ]
  },
  {
   "cell_type": "code",
   "execution_count": 4,
   "metadata": {},
   "outputs": [],
   "source": [
    "df = pd.read_csv('/Users/alexanderries/Library/Mobile Documents/com~apple~CloudDocs/03_CBS/02_Semester 2/03_NLP/98_Assignments/GenrefromLyrics/data/ds2.csv')"
   ]
  },
  {
   "cell_type": "code",
   "execution_count": 5,
   "metadata": {},
   "outputs": [
    {
     "name": "stdout",
     "output_type": "stream",
     "text": [
      "<class 'pandas.core.frame.DataFrame'>\n",
      "RangeIndex: 5913411 entries, 0 to 5913410\n",
      "Data columns (total 8 columns):\n",
      " #   Column    Dtype \n",
      "---  ------    ----- \n",
      " 0   title     object\n",
      " 1   tag       object\n",
      " 2   artist    object\n",
      " 3   year      int64 \n",
      " 4   views     int64 \n",
      " 5   features  object\n",
      " 6   lyrics    object\n",
      " 7   id        int64 \n",
      "dtypes: int64(3), object(5)\n",
      "memory usage: 360.9+ MB\n"
     ]
    }
   ],
   "source": [
    "df.info()"
   ]
  },
  {
   "cell_type": "code",
   "execution_count": 6,
   "metadata": {},
   "outputs": [
    {
     "data": {
      "text/html": [
       "<div>\n",
       "<style scoped>\n",
       "    .dataframe tbody tr th:only-of-type {\n",
       "        vertical-align: middle;\n",
       "    }\n",
       "\n",
       "    .dataframe tbody tr th {\n",
       "        vertical-align: top;\n",
       "    }\n",
       "\n",
       "    .dataframe thead th {\n",
       "        text-align: right;\n",
       "    }\n",
       "</style>\n",
       "<table border=\"1\" class=\"dataframe\">\n",
       "  <thead>\n",
       "    <tr style=\"text-align: right;\">\n",
       "      <th></th>\n",
       "      <th>title</th>\n",
       "      <th>tag</th>\n",
       "      <th>artist</th>\n",
       "      <th>year</th>\n",
       "      <th>views</th>\n",
       "      <th>features</th>\n",
       "      <th>lyrics</th>\n",
       "      <th>id</th>\n",
       "    </tr>\n",
       "  </thead>\n",
       "  <tbody>\n",
       "    <tr>\n",
       "      <th>0</th>\n",
       "      <td>Killa Cam</td>\n",
       "      <td>rap</td>\n",
       "      <td>Cam'ron</td>\n",
       "      <td>2004</td>\n",
       "      <td>173166</td>\n",
       "      <td>{\"Cam\\\\'ron\",\"Opera Steve\"}</td>\n",
       "      <td>[Chorus: Opera Steve &amp; Cam'ron]\\nKilla Cam, Ki...</td>\n",
       "      <td>1</td>\n",
       "    </tr>\n",
       "    <tr>\n",
       "      <th>1</th>\n",
       "      <td>Can I Live</td>\n",
       "      <td>rap</td>\n",
       "      <td>JAY-Z</td>\n",
       "      <td>1996</td>\n",
       "      <td>468624</td>\n",
       "      <td>{}</td>\n",
       "      <td>[Produced by Irv Gotti]\\n\\n[Intro]\\nYeah, hah,...</td>\n",
       "      <td>3</td>\n",
       "    </tr>\n",
       "    <tr>\n",
       "      <th>2</th>\n",
       "      <td>Forgive Me Father</td>\n",
       "      <td>rap</td>\n",
       "      <td>Fabolous</td>\n",
       "      <td>2003</td>\n",
       "      <td>4743</td>\n",
       "      <td>{}</td>\n",
       "      <td>Maybe cause I'm eatin\\nAnd these bastards fien...</td>\n",
       "      <td>4</td>\n",
       "    </tr>\n",
       "    <tr>\n",
       "      <th>3</th>\n",
       "      <td>Down and Out</td>\n",
       "      <td>rap</td>\n",
       "      <td>Cam'ron</td>\n",
       "      <td>2004</td>\n",
       "      <td>144404</td>\n",
       "      <td>{\"Cam\\\\'ron\",\"Kanye West\",\"Syleena Johnson\"}</td>\n",
       "      <td>[Produced by Kanye West and Brian Miller]\\n\\n[...</td>\n",
       "      <td>5</td>\n",
       "    </tr>\n",
       "    <tr>\n",
       "      <th>4</th>\n",
       "      <td>Fly In</td>\n",
       "      <td>rap</td>\n",
       "      <td>Lil Wayne</td>\n",
       "      <td>2005</td>\n",
       "      <td>78271</td>\n",
       "      <td>{}</td>\n",
       "      <td>[Intro]\\nSo they ask me\\n\"Young boy\\nWhat you ...</td>\n",
       "      <td>6</td>\n",
       "    </tr>\n",
       "  </tbody>\n",
       "</table>\n",
       "</div>"
      ],
      "text/plain": [
       "               title  tag     artist  year   views  \\\n",
       "0          Killa Cam  rap    Cam'ron  2004  173166   \n",
       "1         Can I Live  rap      JAY-Z  1996  468624   \n",
       "2  Forgive Me Father  rap   Fabolous  2003    4743   \n",
       "3       Down and Out  rap    Cam'ron  2004  144404   \n",
       "4             Fly In  rap  Lil Wayne  2005   78271   \n",
       "\n",
       "                                       features  \\\n",
       "0                   {\"Cam\\\\'ron\",\"Opera Steve\"}   \n",
       "1                                            {}   \n",
       "2                                            {}   \n",
       "3  {\"Cam\\\\'ron\",\"Kanye West\",\"Syleena Johnson\"}   \n",
       "4                                            {}   \n",
       "\n",
       "                                              lyrics  id  \n",
       "0  [Chorus: Opera Steve & Cam'ron]\\nKilla Cam, Ki...   1  \n",
       "1  [Produced by Irv Gotti]\\n\\n[Intro]\\nYeah, hah,...   3  \n",
       "2  Maybe cause I'm eatin\\nAnd these bastards fien...   4  \n",
       "3  [Produced by Kanye West and Brian Miller]\\n\\n[...   5  \n",
       "4  [Intro]\\nSo they ask me\\n\"Young boy\\nWhat you ...   6  "
      ]
     },
     "execution_count": 6,
     "metadata": {},
     "output_type": "execute_result"
    }
   ],
   "source": [
    "df.head()"
   ]
  },
  {
   "cell_type": "code",
   "execution_count": 8,
   "metadata": {},
   "outputs": [],
   "source": [
    "df.drop(columns=['views', 'features'], inplace=True)"
   ]
  },
  {
   "cell_type": "code",
   "execution_count": 9,
   "metadata": {},
   "outputs": [
    {
     "data": {
      "text/html": [
       "<div>\n",
       "<style scoped>\n",
       "    .dataframe tbody tr th:only-of-type {\n",
       "        vertical-align: middle;\n",
       "    }\n",
       "\n",
       "    .dataframe tbody tr th {\n",
       "        vertical-align: top;\n",
       "    }\n",
       "\n",
       "    .dataframe thead th {\n",
       "        text-align: right;\n",
       "    }\n",
       "</style>\n",
       "<table border=\"1\" class=\"dataframe\">\n",
       "  <thead>\n",
       "    <tr style=\"text-align: right;\">\n",
       "      <th></th>\n",
       "      <th>title</th>\n",
       "      <th>tag</th>\n",
       "      <th>artist</th>\n",
       "      <th>year</th>\n",
       "      <th>lyrics</th>\n",
       "      <th>id</th>\n",
       "    </tr>\n",
       "  </thead>\n",
       "  <tbody>\n",
       "    <tr>\n",
       "      <th>0</th>\n",
       "      <td>Killa Cam</td>\n",
       "      <td>rap</td>\n",
       "      <td>Cam'ron</td>\n",
       "      <td>2004</td>\n",
       "      <td>[Chorus: Opera Steve &amp; Cam'ron]\\nKilla Cam, Ki...</td>\n",
       "      <td>1</td>\n",
       "    </tr>\n",
       "    <tr>\n",
       "      <th>1</th>\n",
       "      <td>Can I Live</td>\n",
       "      <td>rap</td>\n",
       "      <td>JAY-Z</td>\n",
       "      <td>1996</td>\n",
       "      <td>[Produced by Irv Gotti]\\n\\n[Intro]\\nYeah, hah,...</td>\n",
       "      <td>3</td>\n",
       "    </tr>\n",
       "    <tr>\n",
       "      <th>2</th>\n",
       "      <td>Forgive Me Father</td>\n",
       "      <td>rap</td>\n",
       "      <td>Fabolous</td>\n",
       "      <td>2003</td>\n",
       "      <td>Maybe cause I'm eatin\\nAnd these bastards fien...</td>\n",
       "      <td>4</td>\n",
       "    </tr>\n",
       "    <tr>\n",
       "      <th>3</th>\n",
       "      <td>Down and Out</td>\n",
       "      <td>rap</td>\n",
       "      <td>Cam'ron</td>\n",
       "      <td>2004</td>\n",
       "      <td>[Produced by Kanye West and Brian Miller]\\n\\n[...</td>\n",
       "      <td>5</td>\n",
       "    </tr>\n",
       "    <tr>\n",
       "      <th>4</th>\n",
       "      <td>Fly In</td>\n",
       "      <td>rap</td>\n",
       "      <td>Lil Wayne</td>\n",
       "      <td>2005</td>\n",
       "      <td>[Intro]\\nSo they ask me\\n\"Young boy\\nWhat you ...</td>\n",
       "      <td>6</td>\n",
       "    </tr>\n",
       "  </tbody>\n",
       "</table>\n",
       "</div>"
      ],
      "text/plain": [
       "               title  tag     artist  year  \\\n",
       "0          Killa Cam  rap    Cam'ron  2004   \n",
       "1         Can I Live  rap      JAY-Z  1996   \n",
       "2  Forgive Me Father  rap   Fabolous  2003   \n",
       "3       Down and Out  rap    Cam'ron  2004   \n",
       "4             Fly In  rap  Lil Wayne  2005   \n",
       "\n",
       "                                              lyrics  id  \n",
       "0  [Chorus: Opera Steve & Cam'ron]\\nKilla Cam, Ki...   1  \n",
       "1  [Produced by Irv Gotti]\\n\\n[Intro]\\nYeah, hah,...   3  \n",
       "2  Maybe cause I'm eatin\\nAnd these bastards fien...   4  \n",
       "3  [Produced by Kanye West and Brian Miller]\\n\\n[...   5  \n",
       "4  [Intro]\\nSo they ask me\\n\"Young boy\\nWhat you ...   6  "
      ]
     },
     "execution_count": 9,
     "metadata": {},
     "output_type": "execute_result"
    }
   ],
   "source": [
    "df.head()"
   ]
  },
  {
   "cell_type": "code",
   "execution_count": 10,
   "metadata": {},
   "outputs": [
    {
     "data": {
      "text/plain": [
       "pop        2519256\n",
       "rap        1962010\n",
       "rock        892220\n",
       "rb          225342\n",
       "misc        208714\n",
       "country     105869\n",
       "Name: tag, dtype: int64"
      ]
     },
     "execution_count": 10,
     "metadata": {},
     "output_type": "execute_result"
    }
   ],
   "source": [
    "#value counts for tag\n",
    "df['tag'].value_counts()\n"
   ]
  },
  {
   "cell_type": "code",
   "execution_count": 11,
   "metadata": {},
   "outputs": [],
   "source": [
    "# drop tag \"misc\" from df\n",
    "df = df[df.tag != 'misc']"
   ]
  },
  {
   "cell_type": "code",
   "execution_count": 12,
   "metadata": {},
   "outputs": [
    {
     "name": "stderr",
     "output_type": "stream",
     "text": [
      "/var/folders/bx/yqrc6c_d2z34yz6mbn3s8b980000gn/T/ipykernel_26548/636223418.py:2: SettingWithCopyWarning: \n",
      "A value is trying to be set on a copy of a slice from a DataFrame.\n",
      "Try using .loc[row_indexer,col_indexer] = value instead\n",
      "\n",
      "See the caveats in the documentation: https://pandas.pydata.org/pandas-docs/stable/user_guide/indexing.html#returning-a-view-versus-a-copy\n",
      "  df['length'] = df['lyrics'].str.len()\n"
     ]
    }
   ],
   "source": [
    "#create columns with length of lyrics\n",
    "df['length'] = df['lyrics'].str.len()\n"
   ]
  },
  {
   "cell_type": "code",
   "execution_count": 24,
   "metadata": {},
   "outputs": [
    {
     "data": {
      "text/plain": [
       "pop        2519115\n",
       "rap        1961430\n",
       "rock        892189\n",
       "rb          225289\n",
       "country     105867\n",
       "Name: tag, dtype: int64"
      ]
     },
     "execution_count": 24,
     "metadata": {},
     "output_type": "execute_result"
    }
   ],
   "source": [
    "#value counts for tag\n",
    "df['tag'].value_counts()"
   ]
  },
  {
   "cell_type": "code",
   "execution_count": 25,
   "metadata": {},
   "outputs": [
    {
     "data": {
      "text/plain": [
       "5703890"
      ]
     },
     "execution_count": 25,
     "metadata": {},
     "output_type": "execute_result"
    }
   ],
   "source": [
    "#length of df\n",
    "len(df)"
   ]
  },
  {
   "cell_type": "code",
   "execution_count": 16,
   "metadata": {},
   "outputs": [
    {
     "data": {
      "text/plain": [
       "array(['rap', 'rb', 'rock', 'pop', 'country'], dtype=object)"
      ]
     },
     "execution_count": 16,
     "metadata": {},
     "output_type": "execute_result"
    }
   ],
   "source": [
    "#unique tag value\n",
    "df['tag'].unique()"
   ]
  },
  {
   "cell_type": "code",
   "execution_count": 23,
   "metadata": {},
   "outputs": [
    {
     "data": {
      "text/html": [
       "<div>\n",
       "<style scoped>\n",
       "    .dataframe tbody tr th:only-of-type {\n",
       "        vertical-align: middle;\n",
       "    }\n",
       "\n",
       "    .dataframe tbody tr th {\n",
       "        vertical-align: top;\n",
       "    }\n",
       "\n",
       "    .dataframe thead th {\n",
       "        text-align: right;\n",
       "    }\n",
       "</style>\n",
       "<table border=\"1\" class=\"dataframe\">\n",
       "  <thead>\n",
       "    <tr style=\"text-align: right;\">\n",
       "      <th></th>\n",
       "      <th>title</th>\n",
       "      <th>tag</th>\n",
       "      <th>artist</th>\n",
       "      <th>year</th>\n",
       "      <th>lyrics</th>\n",
       "      <th>id</th>\n",
       "      <th>length</th>\n",
       "    </tr>\n",
       "  </thead>\n",
       "  <tbody>\n",
       "    <tr>\n",
       "      <th>76619</th>\n",
       "      <td>NaN</td>\n",
       "      <td>rap</td>\n",
       "      <td>Rac (Rapper)</td>\n",
       "      <td>2012</td>\n",
       "      <td>Then they say, \"When you get it you'll have al...</td>\n",
       "      <td>82278</td>\n",
       "      <td>70.0</td>\n",
       "    </tr>\n",
       "    <tr>\n",
       "      <th>98075</th>\n",
       "      <td>NaN</td>\n",
       "      <td>rap</td>\n",
       "      <td>Adrian De Santiago</td>\n",
       "      <td>2012</td>\n",
       "      <td>None</td>\n",
       "      <td>105819</td>\n",
       "      <td>4.0</td>\n",
       "    </tr>\n",
       "    <tr>\n",
       "      <th>98857</th>\n",
       "      <td>NaN</td>\n",
       "      <td>rock</td>\n",
       "      <td>Touch Amor</td>\n",
       "      <td>2011</td>\n",
       "      <td>I'm parting the sea between brightness and me\\...</td>\n",
       "      <td>106734</td>\n",
       "      <td>546.0</td>\n",
       "    </tr>\n",
       "    <tr>\n",
       "      <th>191573</th>\n",
       "      <td>NaN</td>\n",
       "      <td>rap</td>\n",
       "      <td>Cymek</td>\n",
       "      <td>2013</td>\n",
       "      <td>[VERSE 1]\\nChcesz mnie pokonać? uważaj z kim t...</td>\n",
       "      <td>204824</td>\n",
       "      <td>1783.0</td>\n",
       "    </tr>\n",
       "    <tr>\n",
       "      <th>197730</th>\n",
       "      <td>NaN</td>\n",
       "      <td>rap</td>\n",
       "      <td>Mychelle Lee</td>\n",
       "      <td>2013</td>\n",
       "      <td>We'll be back</td>\n",
       "      <td>211373</td>\n",
       "      <td>13.0</td>\n",
       "    </tr>\n",
       "    <tr>\n",
       "      <th>...</th>\n",
       "      <td>...</td>\n",
       "      <td>...</td>\n",
       "      <td>...</td>\n",
       "      <td>...</td>\n",
       "      <td>...</td>\n",
       "      <td>...</td>\n",
       "      <td>...</td>\n",
       "    </tr>\n",
       "    <tr>\n",
       "      <th>5874542</th>\n",
       "      <td>NaN</td>\n",
       "      <td>pop</td>\n",
       "      <td>St. Lucia</td>\n",
       "      <td>2022</td>\n",
       "      <td>[Instrumental]</td>\n",
       "      <td>7831036</td>\n",
       "      <td>14.0</td>\n",
       "    </tr>\n",
       "    <tr>\n",
       "      <th>5883272</th>\n",
       "      <td>NaN</td>\n",
       "      <td>pop</td>\n",
       "      <td>Arrezzia Menendez</td>\n",
       "      <td>2020</td>\n",
       "      <td>[Lletra de \"+=\"]\\n\\nJa em va bé si avui s’acab...</td>\n",
       "      <td>7842403</td>\n",
       "      <td>924.0</td>\n",
       "    </tr>\n",
       "    <tr>\n",
       "      <th>5886958</th>\n",
       "      <td>NaN</td>\n",
       "      <td>rap</td>\n",
       "      <td>Baby Gang</td>\n",
       "      <td>2022</td>\n",
       "      <td>[Da riempire]</td>\n",
       "      <td>7847515</td>\n",
       "      <td>13.0</td>\n",
       "    </tr>\n",
       "    <tr>\n",
       "      <th>5891342</th>\n",
       "      <td>NaN</td>\n",
       "      <td>rap</td>\n",
       "      <td>Emoney X JC</td>\n",
       "      <td>2022</td>\n",
       "      <td>[Instrumental]</td>\n",
       "      <td>7853394</td>\n",
       "      <td>14.0</td>\n",
       "    </tr>\n",
       "    <tr>\n",
       "      <th>5900188</th>\n",
       "      <td>NaN</td>\n",
       "      <td>pop</td>\n",
       "      <td>Haarshaan . n</td>\n",
       "      <td>2022</td>\n",
       "      <td>(If only)\\nIf only somewhere in your fantasies...</td>\n",
       "      <td>7865057</td>\n",
       "      <td>157.0</td>\n",
       "    </tr>\n",
       "  </tbody>\n",
       "</table>\n",
       "<p>309 rows × 7 columns</p>\n",
       "</div>"
      ],
      "text/plain": [
       "        title   tag              artist  year  \\\n",
       "76619     NaN   rap        Rac (Rapper)  2012   \n",
       "98075     NaN   rap  Adrian De Santiago  2012   \n",
       "98857     NaN  rock          Touch Amor  2011   \n",
       "191573    NaN   rap               Cymek  2013   \n",
       "197730    NaN   rap        Mychelle Lee  2013   \n",
       "...       ...   ...                 ...   ...   \n",
       "5874542   NaN   pop           St. Lucia  2022   \n",
       "5883272   NaN   pop   Arrezzia Menendez  2020   \n",
       "5886958   NaN   rap           Baby Gang  2022   \n",
       "5891342   NaN   rap         Emoney X JC  2022   \n",
       "5900188   NaN   pop       Haarshaan . n  2022   \n",
       "\n",
       "                                                    lyrics       id  length  \n",
       "76619    Then they say, \"When you get it you'll have al...    82278    70.0  \n",
       "98075                                                 None   105819     4.0  \n",
       "98857    I'm parting the sea between brightness and me\\...   106734   546.0  \n",
       "191573   [VERSE 1]\\nChcesz mnie pokonać? uważaj z kim t...   204824  1783.0  \n",
       "197730                                       We'll be back   211373    13.0  \n",
       "...                                                    ...      ...     ...  \n",
       "5874542                                     [Instrumental]  7831036    14.0  \n",
       "5883272  [Lletra de \"+=\"]\\n\\nJa em va bé si avui s’acab...  7842403   924.0  \n",
       "5886958                                      [Da riempire]  7847515    13.0  \n",
       "5891342                                     [Instrumental]  7853394    14.0  \n",
       "5900188  (If only)\\nIf only somewhere in your fantasies...  7865057   157.0  \n",
       "\n",
       "[309 rows x 7 columns]"
      ]
     },
     "execution_count": 23,
     "metadata": {},
     "output_type": "execute_result"
    }
   ],
   "source": [
    "#show nan values in df\n",
    "df[df.isna().any(axis=1)]\n"
   ]
  },
  {
   "cell_type": "code",
   "execution_count": 26,
   "metadata": {},
   "outputs": [],
   "source": [
    "#drop nan values in columns lyrics and tag\n",
    "df.dropna(subset=['lyrics', 'tag'], inplace=True)\n"
   ]
  },
  {
   "cell_type": "code",
   "execution_count": 27,
   "metadata": {},
   "outputs": [
    {
     "data": {
      "text/plain": [
       "5703890"
      ]
     },
     "execution_count": 27,
     "metadata": {},
     "output_type": "execute_result"
    }
   ],
   "source": [
    "len(df)"
   ]
  },
  {
   "cell_type": "code",
   "execution_count": null,
   "metadata": {},
   "outputs": [],
   "source": []
  }
 ],
 "metadata": {
  "kernelspec": {
   "display_name": "base",
   "language": "python",
   "name": "python3"
  },
  "language_info": {
   "codemirror_mode": {
    "name": "ipython",
    "version": 3
   },
   "file_extension": ".py",
   "mimetype": "text/x-python",
   "name": "python",
   "nbconvert_exporter": "python",
   "pygments_lexer": "ipython3",
   "version": "3.9.12"
  },
  "orig_nbformat": 4,
  "vscode": {
   "interpreter": {
    "hash": "3c8ad80dbc202ee9aff426fa151d52828bd7b4f3aec4c0ec93048b40e8792c84"
   }
  }
 },
 "nbformat": 4,
 "nbformat_minor": 2
}
