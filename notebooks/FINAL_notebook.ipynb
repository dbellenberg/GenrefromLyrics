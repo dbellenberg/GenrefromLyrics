{
 "cells": [
  {
   "attachments": {},
   "cell_type": "markdown",
   "metadata": {},
   "source": [
    "# [Project Title]"
   ]
  },
  {
   "attachments": {},
   "cell_type": "markdown",
   "metadata": {},
   "source": [
    "- David Bellenberg: [email]\n",
    "- Alexander James Mealor: [email]\n",
    "- Alexander Ries: [email]\n",
    "- Aleksander August Fowler Torp: [email]"
   ]
  },
  {
   "cell_type": "code",
   "execution_count": 2,
   "metadata": {},
   "outputs": [
    {
     "name": "stdout",
     "output_type": "stream",
     "text": [
      "Defaulting to user installation because normal site-packages is not writeable\n",
      "Collecting pandas==2.0.1 (from -r ../requirements.txt (line 1))\n",
      "  Using cached pandas-2.0.1-cp310-cp310-manylinux_2_17_x86_64.manylinux2014_x86_64.whl (12.3 MB)\n",
      "Collecting numpy==1.24.3 (from -r ../requirements.txt (line 2))\n",
      "  Using cached numpy-1.24.3-cp310-cp310-manylinux_2_17_x86_64.manylinux2014_x86_64.whl (17.3 MB)\n",
      "Collecting matplotlib==3.7.1 (from -r ../requirements.txt (line 3))\n",
      "  Using cached matplotlib-3.7.1-cp310-cp310-manylinux_2_17_x86_64.manylinux2014_x86_64.whl (11.6 MB)\n",
      "Requirement already satisfied: tqdm==4.65.0 in /home/ucloud/.local/lib/python3.10/site-packages (from -r ../requirements.txt (line 4)) (4.65.0)\n",
      "Collecting fasttext==0.9.2 (from -r ../requirements.txt (line 5))\n",
      "  Using cached fasttext-0.9.2-cp310-cp310-linux_x86_64.whl\n",
      "Collecting seaborn==0.12.2 (from -r ../requirements.txt (line 6))\n",
      "  Using cached seaborn-0.12.2-py3-none-any.whl (293 kB)\n",
      "Collecting nltk==3.8.1 (from -r ../requirements.txt (line 7))\n",
      "  Using cached nltk-3.8.1-py3-none-any.whl (1.5 MB)\n",
      "Collecting scikit-learn==1.2.2 (from -r ../requirements.txt (line 8))\n",
      "  Using cached scikit_learn-1.2.2-cp310-cp310-manylinux_2_17_x86_64.manylinux2014_x86_64.whl (9.6 MB)\n",
      "Collecting torch (from -r ../requirements.txt (line 9))\n",
      "  Using cached torch-2.0.1-cp310-cp310-manylinux1_x86_64.whl (619.9 MB)\n",
      "Collecting transformers (from -r ../requirements.txt (line 10))\n",
      "  Using cached transformers-4.29.2-py3-none-any.whl (7.1 MB)\n",
      "Collecting pytorch_lightning (from -r ../requirements.txt (line 11))\n",
      "  Using cached pytorch_lightning-2.0.2-py3-none-any.whl (719 kB)\n",
      "Requirement already satisfied: python-dateutil>=2.8.2 in /home/ucloud/.local/lib/python3.10/site-packages (from pandas==2.0.1->-r ../requirements.txt (line 1)) (2.8.2)\n",
      "Requirement already satisfied: pytz>=2020.1 in /home/ucloud/.local/lib/python3.10/site-packages (from pandas==2.0.1->-r ../requirements.txt (line 1)) (2023.3)\n",
      "Requirement already satisfied: tzdata>=2022.1 in /home/ucloud/.local/lib/python3.10/site-packages (from pandas==2.0.1->-r ../requirements.txt (line 1)) (2023.3)\n",
      "Collecting contourpy>=1.0.1 (from matplotlib==3.7.1->-r ../requirements.txt (line 3))\n",
      "  Using cached contourpy-1.0.7-cp310-cp310-manylinux_2_17_x86_64.manylinux2014_x86_64.whl (300 kB)\n",
      "Collecting cycler>=0.10 (from matplotlib==3.7.1->-r ../requirements.txt (line 3))\n",
      "  Using cached cycler-0.11.0-py3-none-any.whl (6.4 kB)\n",
      "Collecting fonttools>=4.22.0 (from matplotlib==3.7.1->-r ../requirements.txt (line 3))\n",
      "  Using cached fonttools-4.39.4-py3-none-any.whl (1.0 MB)\n",
      "Collecting kiwisolver>=1.0.1 (from matplotlib==3.7.1->-r ../requirements.txt (line 3))\n",
      "  Using cached kiwisolver-1.4.4-cp310-cp310-manylinux_2_12_x86_64.manylinux2010_x86_64.whl (1.6 MB)\n",
      "Requirement already satisfied: packaging>=20.0 in /home/ucloud/.local/lib/python3.10/site-packages (from matplotlib==3.7.1->-r ../requirements.txt (line 3)) (23.1)\n",
      "Collecting pillow>=6.2.0 (from matplotlib==3.7.1->-r ../requirements.txt (line 3))\n",
      "  Using cached Pillow-9.5.0-cp310-cp310-manylinux_2_28_x86_64.whl (3.4 MB)\n",
      "Requirement already satisfied: pyparsing>=2.3.1 in /usr/lib/python3/dist-packages (from matplotlib==3.7.1->-r ../requirements.txt (line 3)) (3.0.7)\n",
      "Requirement already satisfied: pybind11>=2.2 in /home/ucloud/.local/lib/python3.10/site-packages (from fasttext==0.9.2->-r ../requirements.txt (line 5)) (2.10.4)\n",
      "Requirement already satisfied: setuptools>=0.7.0 in /usr/lib/python3/dist-packages (from fasttext==0.9.2->-r ../requirements.txt (line 5)) (59.6.0)\n",
      "Requirement already satisfied: click in /usr/lib/python3/dist-packages (from nltk==3.8.1->-r ../requirements.txt (line 7)) (8.0.3)\n",
      "Collecting joblib (from nltk==3.8.1->-r ../requirements.txt (line 7))\n",
      "  Using cached joblib-1.2.0-py3-none-any.whl (297 kB)\n",
      "Collecting regex>=2021.8.3 (from nltk==3.8.1->-r ../requirements.txt (line 7))\n",
      "  Using cached regex-2023.5.5-cp310-cp310-manylinux_2_17_x86_64.manylinux2014_x86_64.whl (769 kB)\n",
      "Collecting scipy>=1.3.2 (from scikit-learn==1.2.2->-r ../requirements.txt (line 8))\n",
      "  Using cached scipy-1.10.1-cp310-cp310-manylinux_2_17_x86_64.manylinux2014_x86_64.whl (34.4 MB)\n",
      "Requirement already satisfied: threadpoolctl>=2.0.0 in /home/ucloud/.local/lib/python3.10/site-packages (from scikit-learn==1.2.2->-r ../requirements.txt (line 8)) (3.1.0)\n",
      "Collecting filelock (from torch->-r ../requirements.txt (line 9))\n",
      "  Using cached filelock-3.12.0-py3-none-any.whl (10 kB)\n",
      "Requirement already satisfied: typing-extensions in /home/ucloud/.local/lib/python3.10/site-packages (from torch->-r ../requirements.txt (line 9)) (4.6.1)\n",
      "Requirement already satisfied: sympy in /home/ucloud/.local/lib/python3.10/site-packages (from torch->-r ../requirements.txt (line 9)) (1.12)\n",
      "Collecting networkx (from torch->-r ../requirements.txt (line 9))\n",
      "  Using cached networkx-3.1-py3-none-any.whl (2.1 MB)\n",
      "Collecting jinja2 (from torch->-r ../requirements.txt (line 9))\n",
      "  Using cached Jinja2-3.1.2-py3-none-any.whl (133 kB)\n",
      "Collecting nvidia-cuda-nvrtc-cu11==11.7.99 (from torch->-r ../requirements.txt (line 9))\n",
      "  Using cached nvidia_cuda_nvrtc_cu11-11.7.99-2-py3-none-manylinux1_x86_64.whl (21.0 MB)\n",
      "Collecting nvidia-cuda-runtime-cu11==11.7.99 (from torch->-r ../requirements.txt (line 9))\n",
      "  Using cached nvidia_cuda_runtime_cu11-11.7.99-py3-none-manylinux1_x86_64.whl (849 kB)\n",
      "Collecting nvidia-cuda-cupti-cu11==11.7.101 (from torch->-r ../requirements.txt (line 9))\n",
      "  Using cached nvidia_cuda_cupti_cu11-11.7.101-py3-none-manylinux1_x86_64.whl (11.8 MB)\n",
      "Collecting nvidia-cudnn-cu11==8.5.0.96 (from torch->-r ../requirements.txt (line 9))\n",
      "  Using cached nvidia_cudnn_cu11-8.5.0.96-2-py3-none-manylinux1_x86_64.whl (557.1 MB)\n",
      "Collecting nvidia-cublas-cu11==11.10.3.66 (from torch->-r ../requirements.txt (line 9))\n",
      "  Using cached nvidia_cublas_cu11-11.10.3.66-py3-none-manylinux1_x86_64.whl (317.1 MB)\n",
      "Collecting nvidia-cufft-cu11==10.9.0.58 (from torch->-r ../requirements.txt (line 9))\n",
      "  Using cached nvidia_cufft_cu11-10.9.0.58-py3-none-manylinux1_x86_64.whl (168.4 MB)\n",
      "Collecting nvidia-curand-cu11==10.2.10.91 (from torch->-r ../requirements.txt (line 9))\n",
      "  Using cached nvidia_curand_cu11-10.2.10.91-py3-none-manylinux1_x86_64.whl (54.6 MB)\n",
      "Collecting nvidia-cusolver-cu11==11.4.0.1 (from torch->-r ../requirements.txt (line 9))\n",
      "  Using cached nvidia_cusolver_cu11-11.4.0.1-2-py3-none-manylinux1_x86_64.whl (102.6 MB)\n",
      "Collecting nvidia-cusparse-cu11==11.7.4.91 (from torch->-r ../requirements.txt (line 9))\n",
      "  Using cached nvidia_cusparse_cu11-11.7.4.91-py3-none-manylinux1_x86_64.whl (173.2 MB)\n",
      "Collecting nvidia-nccl-cu11==2.14.3 (from torch->-r ../requirements.txt (line 9))\n",
      "  Using cached nvidia_nccl_cu11-2.14.3-py3-none-manylinux1_x86_64.whl (177.1 MB)\n",
      "Collecting nvidia-nvtx-cu11==11.7.91 (from torch->-r ../requirements.txt (line 9))\n",
      "  Using cached nvidia_nvtx_cu11-11.7.91-py3-none-manylinux1_x86_64.whl (98 kB)\n",
      "Collecting triton==2.0.0 (from torch->-r ../requirements.txt (line 9))\n",
      "  Using cached triton-2.0.0-1-cp310-cp310-manylinux2014_x86_64.manylinux_2_17_x86_64.whl (63.3 MB)\n",
      "Requirement already satisfied: wheel in /usr/lib/python3/dist-packages (from nvidia-cublas-cu11==11.10.3.66->torch->-r ../requirements.txt (line 9)) (0.37.1)\n",
      "Requirement already satisfied: cmake in /home/ucloud/.local/lib/python3.10/site-packages (from triton==2.0.0->torch->-r ../requirements.txt (line 9)) (3.26.3)\n",
      "Requirement already satisfied: lit in /home/ucloud/.local/lib/python3.10/site-packages (from triton==2.0.0->torch->-r ../requirements.txt (line 9)) (16.0.5)\n",
      "Collecting huggingface-hub<1.0,>=0.14.1 (from transformers->-r ../requirements.txt (line 10))\n",
      "  Using cached huggingface_hub-0.14.1-py3-none-any.whl (224 kB)\n",
      "Collecting pyyaml>=5.1 (from transformers->-r ../requirements.txt (line 10))\n",
      "  Using cached PyYAML-6.0-cp310-cp310-manylinux_2_5_x86_64.manylinux1_x86_64.manylinux_2_12_x86_64.manylinux2010_x86_64.whl (682 kB)\n",
      "Collecting requests (from transformers->-r ../requirements.txt (line 10))\n",
      "  Using cached requests-2.31.0-py3-none-any.whl (62 kB)\n",
      "Requirement already satisfied: tokenizers!=0.11.3,<0.14,>=0.11.1 in /home/ucloud/.local/lib/python3.10/site-packages (from transformers->-r ../requirements.txt (line 10)) (0.13.3)\n",
      "Collecting fsspec[http]>2021.06.0 (from pytorch_lightning->-r ../requirements.txt (line 11))\n",
      "  Using cached fsspec-2023.5.0-py3-none-any.whl (160 kB)\n",
      "Collecting torchmetrics>=0.7.0 (from pytorch_lightning->-r ../requirements.txt (line 11))\n",
      "  Using cached torchmetrics-0.11.4-py3-none-any.whl (519 kB)\n",
      "Collecting lightning-utilities>=0.7.0 (from pytorch_lightning->-r ../requirements.txt (line 11))\n",
      "  Using cached lightning_utilities-0.8.0-py3-none-any.whl (20 kB)\n",
      "Collecting aiohttp!=4.0.0a0,!=4.0.0a1 (from fsspec[http]>2021.06.0->pytorch_lightning->-r ../requirements.txt (line 11))\n",
      "  Using cached aiohttp-3.8.4-cp310-cp310-manylinux_2_17_x86_64.manylinux2014_x86_64.whl (1.0 MB)\n",
      "Requirement already satisfied: six>=1.5 in /usr/lib/python3/dist-packages (from python-dateutil>=2.8.2->pandas==2.0.1->-r ../requirements.txt (line 1)) (1.16.0)\n",
      "Collecting MarkupSafe>=2.0 (from jinja2->torch->-r ../requirements.txt (line 9))\n",
      "  Using cached MarkupSafe-2.1.2-cp310-cp310-manylinux_2_17_x86_64.manylinux2014_x86_64.whl (25 kB)\n",
      "Collecting charset-normalizer<4,>=2 (from requests->transformers->-r ../requirements.txt (line 10))\n",
      "  Using cached charset_normalizer-3.1.0-cp310-cp310-manylinux_2_17_x86_64.manylinux2014_x86_64.whl (199 kB)\n",
      "Collecting idna<4,>=2.5 (from requests->transformers->-r ../requirements.txt (line 10))\n",
      "  Using cached idna-3.4-py3-none-any.whl (61 kB)\n",
      "Requirement already satisfied: urllib3<3,>=1.21.1 in /home/ucloud/.local/lib/python3.10/site-packages (from requests->transformers->-r ../requirements.txt (line 10)) (2.0.2)\n",
      "Collecting certifi>=2017.4.17 (from requests->transformers->-r ../requirements.txt (line 10))\n",
      "  Using cached certifi-2023.5.7-py3-none-any.whl (156 kB)\n",
      "Requirement already satisfied: mpmath>=0.19 in /home/ucloud/.local/lib/python3.10/site-packages (from sympy->torch->-r ../requirements.txt (line 9)) (1.3.0)\n",
      "Collecting attrs>=17.3.0 (from aiohttp!=4.0.0a0,!=4.0.0a1->fsspec[http]>2021.06.0->pytorch_lightning->-r ../requirements.txt (line 11))\n",
      "  Using cached attrs-23.1.0-py3-none-any.whl (61 kB)\n",
      "Collecting multidict<7.0,>=4.5 (from aiohttp!=4.0.0a0,!=4.0.0a1->fsspec[http]>2021.06.0->pytorch_lightning->-r ../requirements.txt (line 11))\n",
      "  Using cached multidict-6.0.4-cp310-cp310-manylinux_2_17_x86_64.manylinux2014_x86_64.whl (114 kB)\n",
      "Collecting async-timeout<5.0,>=4.0.0a3 (from aiohttp!=4.0.0a0,!=4.0.0a1->fsspec[http]>2021.06.0->pytorch_lightning->-r ../requirements.txt (line 11))\n",
      "  Using cached async_timeout-4.0.2-py3-none-any.whl (5.8 kB)\n",
      "Collecting yarl<2.0,>=1.0 (from aiohttp!=4.0.0a0,!=4.0.0a1->fsspec[http]>2021.06.0->pytorch_lightning->-r ../requirements.txt (line 11))\n",
      "  Using cached yarl-1.9.2-cp310-cp310-manylinux_2_17_x86_64.manylinux2014_x86_64.whl (268 kB)\n",
      "Collecting frozenlist>=1.1.1 (from aiohttp!=4.0.0a0,!=4.0.0a1->fsspec[http]>2021.06.0->pytorch_lightning->-r ../requirements.txt (line 11))\n",
      "  Using cached frozenlist-1.3.3-cp310-cp310-manylinux_2_5_x86_64.manylinux1_x86_64.manylinux_2_17_x86_64.manylinux2014_x86_64.whl (149 kB)\n",
      "Collecting aiosignal>=1.1.2 (from aiohttp!=4.0.0a0,!=4.0.0a1->fsspec[http]>2021.06.0->pytorch_lightning->-r ../requirements.txt (line 11))\n",
      "  Using cached aiosignal-1.3.1-py3-none-any.whl (7.6 kB)\n",
      "Installing collected packages: regex, pyyaml, pillow, nvidia-nvtx-cu11, nvidia-nccl-cu11, nvidia-cusparse-cu11, nvidia-curand-cu11, nvidia-cufft-cu11, nvidia-cuda-runtime-cu11, nvidia-cuda-nvrtc-cu11, nvidia-cuda-cupti-cu11, nvidia-cublas-cu11, numpy, networkx, multidict, MarkupSafe, lightning-utilities, kiwisolver, joblib, idna, fsspec, frozenlist, fonttools, filelock, cycler, charset-normalizer, certifi, attrs, async-timeout, yarl, scipy, requests, pandas, nvidia-cusolver-cu11, nvidia-cudnn-cu11, nltk, jinja2, fasttext, contourpy, aiosignal, scikit-learn, matplotlib, huggingface-hub, aiohttp, transformers, seaborn, triton, torch, torchmetrics, pytorch_lightning\n",
      "Successfully installed MarkupSafe-2.1.2 aiohttp-3.8.4 aiosignal-1.3.1 async-timeout-4.0.2 attrs-23.1.0 certifi-2023.5.7 charset-normalizer-3.1.0 contourpy-1.0.7 cycler-0.11.0 fasttext-0.9.2 filelock-3.12.0 fonttools-4.39.4 frozenlist-1.3.3 fsspec-2023.5.0 huggingface-hub-0.14.1 idna-3.4 jinja2-3.1.2 joblib-1.2.0 kiwisolver-1.4.4 lightning-utilities-0.8.0 matplotlib-3.7.1 multidict-6.0.4 networkx-3.1 nltk-3.8.1 numpy-1.24.3 nvidia-cublas-cu11-11.10.3.66 nvidia-cuda-cupti-cu11-11.7.101 nvidia-cuda-nvrtc-cu11-11.7.99 nvidia-cuda-runtime-cu11-11.7.99 nvidia-cudnn-cu11-8.5.0.96 nvidia-cufft-cu11-10.9.0.58 nvidia-curand-cu11-10.2.10.91 nvidia-cusolver-cu11-11.4.0.1 nvidia-cusparse-cu11-11.7.4.91 nvidia-nccl-cu11-2.14.3 nvidia-nvtx-cu11-11.7.91 pandas-2.0.1 pillow-9.5.0 pytorch_lightning-2.0.2 pyyaml-6.0 regex-2023.5.5 requests-2.31.0 scikit-learn-1.2.2 scipy-1.10.1 seaborn-0.12.2 torch-2.0.1 torchmetrics-0.11.4 transformers-4.29.2 triton-2.0.0 yarl-1.9.2\n"
     ]
    }
   ],
   "source": [
    "! pip install -r ../requirements.txt"
   ]
  },
  {
   "cell_type": "code",
   "execution_count": 1,
   "metadata": {},
   "outputs": [
    {
     "name": "stderr",
     "output_type": "stream",
     "text": [
      "[nltk_data] Downloading package stopwords to /home/ucloud/nltk_data...\n",
      "[nltk_data]   Package stopwords is already up-to-date!\n",
      "[nltk_data] Downloading package punkt to /home/ucloud/nltk_data...\n",
      "[nltk_data]   Package punkt is already up-to-date!\n",
      "[nltk_data] Downloading package wordnet to /home/ucloud/nltk_data...\n",
      "[nltk_data]   Package wordnet is already up-to-date!\n"
     ]
    },
    {
     "data": {
      "text/plain": [
       "True"
      ]
     },
     "execution_count": 1,
     "metadata": {},
     "output_type": "execute_result"
    }
   ],
   "source": [
    "import pandas as pd\n",
    "from tqdm import tqdm\n",
    "from multiprocessing import Pool\n",
    "import fasttext\n",
    "import matplotlib.pyplot as plt\n",
    "import seaborn as sns\n",
    "import re\n",
    "import string\n",
    "import nltk\n",
    "from nltk.tokenize import word_tokenize\n",
    "from nltk.corpus import stopwords\n",
    "from nltk.stem.snowball import SnowballStemmer\n",
    "from nltk.stem import WordNetLemmatizer\n",
    "from nltk import NaiveBayesClassifier\n",
    "from concurrent.futures import ThreadPoolExecutor\n",
    "from sklearn.model_selection import train_test_split\n",
    "from sklearn.metrics import classification_report \n",
    "from sklearn.feature_extraction.text import TfidfVectorizer, CountVectorizer\n",
    "from sklearn.model_selection import train_test_split\n",
    "from sklearn.naive_bayes import CategoricalNB\n",
    "from sklearn.naive_bayes import MultinomialNB\n",
    "from sklearn.manifold import TSNE\n",
    "from gensim.models import Word2Vec\n",
    "import gc\n",
    "# Download Stopwords\n",
    "nltk.download('stopwords') \n",
    "# Download Tokenization Requirements\n",
    "nltk.download('punkt') \n",
    "# Download Lemmatization Requirements\n",
    "nltk.download('wordnet') \n",
    "\n"
   ]
  },
  {
   "attachments": {},
   "cell_type": "markdown",
   "metadata": {},
   "source": [
    "## Preprocessing and language filtering"
   ]
  },
  {
   "cell_type": "code",
   "execution_count": 4,
   "metadata": {},
   "outputs": [],
   "source": [
    "df = pd.read_csv('/work/NLP/ds2.csv')"
   ]
  },
  {
   "cell_type": "code",
   "execution_count": 5,
   "metadata": {},
   "outputs": [
    {
     "name": "stdout",
     "output_type": "stream",
     "text": [
      "<class 'pandas.core.frame.DataFrame'>\n",
      "RangeIndex: 5913411 entries, 0 to 5913410\n",
      "Data columns (total 8 columns):\n",
      " #   Column    Dtype \n",
      "---  ------    ----- \n",
      " 0   title     object\n",
      " 1   tag       object\n",
      " 2   artist    object\n",
      " 3   year      int64 \n",
      " 4   views     int64 \n",
      " 5   features  object\n",
      " 6   lyrics    object\n",
      " 7   id        int64 \n",
      "dtypes: int64(3), object(5)\n",
      "memory usage: 360.9+ MB\n"
     ]
    }
   ],
   "source": [
    "df.info()"
   ]
  },
  {
   "cell_type": "code",
   "execution_count": 6,
   "metadata": {},
   "outputs": [
    {
     "data": {
      "text/html": [
       "<div>\n",
       "<style scoped>\n",
       "    .dataframe tbody tr th:only-of-type {\n",
       "        vertical-align: middle;\n",
       "    }\n",
       "\n",
       "    .dataframe tbody tr th {\n",
       "        vertical-align: top;\n",
       "    }\n",
       "\n",
       "    .dataframe thead th {\n",
       "        text-align: right;\n",
       "    }\n",
       "</style>\n",
       "<table border=\"1\" class=\"dataframe\">\n",
       "  <thead>\n",
       "    <tr style=\"text-align: right;\">\n",
       "      <th></th>\n",
       "      <th>title</th>\n",
       "      <th>tag</th>\n",
       "      <th>artist</th>\n",
       "      <th>year</th>\n",
       "      <th>views</th>\n",
       "      <th>features</th>\n",
       "      <th>lyrics</th>\n",
       "      <th>id</th>\n",
       "    </tr>\n",
       "  </thead>\n",
       "  <tbody>\n",
       "    <tr>\n",
       "      <th>0</th>\n",
       "      <td>Killa Cam</td>\n",
       "      <td>rap</td>\n",
       "      <td>Cam'ron</td>\n",
       "      <td>2004</td>\n",
       "      <td>173166</td>\n",
       "      <td>{\"Cam\\\\'ron\",\"Opera Steve\"}</td>\n",
       "      <td>[Chorus: Opera Steve &amp; Cam'ron]\\nKilla Cam, Ki...</td>\n",
       "      <td>1</td>\n",
       "    </tr>\n",
       "    <tr>\n",
       "      <th>1</th>\n",
       "      <td>Can I Live</td>\n",
       "      <td>rap</td>\n",
       "      <td>JAY-Z</td>\n",
       "      <td>1996</td>\n",
       "      <td>468624</td>\n",
       "      <td>{}</td>\n",
       "      <td>[Produced by Irv Gotti]\\n\\n[Intro]\\nYeah, hah,...</td>\n",
       "      <td>3</td>\n",
       "    </tr>\n",
       "    <tr>\n",
       "      <th>2</th>\n",
       "      <td>Forgive Me Father</td>\n",
       "      <td>rap</td>\n",
       "      <td>Fabolous</td>\n",
       "      <td>2003</td>\n",
       "      <td>4743</td>\n",
       "      <td>{}</td>\n",
       "      <td>Maybe cause I'm eatin\\nAnd these bastards fien...</td>\n",
       "      <td>4</td>\n",
       "    </tr>\n",
       "    <tr>\n",
       "      <th>3</th>\n",
       "      <td>Down and Out</td>\n",
       "      <td>rap</td>\n",
       "      <td>Cam'ron</td>\n",
       "      <td>2004</td>\n",
       "      <td>144404</td>\n",
       "      <td>{\"Cam\\\\'ron\",\"Kanye West\",\"Syleena Johnson\"}</td>\n",
       "      <td>[Produced by Kanye West and Brian Miller]\\n\\n[...</td>\n",
       "      <td>5</td>\n",
       "    </tr>\n",
       "    <tr>\n",
       "      <th>4</th>\n",
       "      <td>Fly In</td>\n",
       "      <td>rap</td>\n",
       "      <td>Lil Wayne</td>\n",
       "      <td>2005</td>\n",
       "      <td>78271</td>\n",
       "      <td>{}</td>\n",
       "      <td>[Intro]\\nSo they ask me\\n\"Young boy\\nWhat you ...</td>\n",
       "      <td>6</td>\n",
       "    </tr>\n",
       "  </tbody>\n",
       "</table>\n",
       "</div>"
      ],
      "text/plain": [
       "               title  tag     artist  year   views   \n",
       "0          Killa Cam  rap    Cam'ron  2004  173166  \\\n",
       "1         Can I Live  rap      JAY-Z  1996  468624   \n",
       "2  Forgive Me Father  rap   Fabolous  2003    4743   \n",
       "3       Down and Out  rap    Cam'ron  2004  144404   \n",
       "4             Fly In  rap  Lil Wayne  2005   78271   \n",
       "\n",
       "                                       features   \n",
       "0                   {\"Cam\\\\'ron\",\"Opera Steve\"}  \\\n",
       "1                                            {}   \n",
       "2                                            {}   \n",
       "3  {\"Cam\\\\'ron\",\"Kanye West\",\"Syleena Johnson\"}   \n",
       "4                                            {}   \n",
       "\n",
       "                                              lyrics  id  \n",
       "0  [Chorus: Opera Steve & Cam'ron]\\nKilla Cam, Ki...   1  \n",
       "1  [Produced by Irv Gotti]\\n\\n[Intro]\\nYeah, hah,...   3  \n",
       "2  Maybe cause I'm eatin\\nAnd these bastards fien...   4  \n",
       "3  [Produced by Kanye West and Brian Miller]\\n\\n[...   5  \n",
       "4  [Intro]\\nSo they ask me\\n\"Young boy\\nWhat you ...   6  "
      ]
     },
     "execution_count": 6,
     "metadata": {},
     "output_type": "execute_result"
    }
   ],
   "source": [
    "df.head()"
   ]
  },
  {
   "cell_type": "code",
   "execution_count": 7,
   "metadata": {},
   "outputs": [],
   "source": [
    "# Drop columns that are not needed\n",
    "df.drop(columns=['views', 'features'], inplace=True)"
   ]
  },
  {
   "cell_type": "code",
   "execution_count": 8,
   "metadata": {},
   "outputs": [
    {
     "data": {
      "text/plain": [
       "tag\n",
       "pop        2519256\n",
       "rap        1962010\n",
       "rock        892220\n",
       "rb          225342\n",
       "misc        208714\n",
       "country     105869\n",
       "Name: count, dtype: int64"
      ]
     },
     "execution_count": 8,
     "metadata": {},
     "output_type": "execute_result"
    }
   ],
   "source": [
    "# Value counts for each genre\n",
    "df['tag'].value_counts()"
   ]
  },
  {
   "cell_type": "code",
   "execution_count": 9,
   "metadata": {},
   "outputs": [],
   "source": [
    "# drop genre \"misc\" (miscellaneous) from df\n",
    "df = df[df.tag != 'misc']"
   ]
  },
  {
   "cell_type": "code",
   "execution_count": 10,
   "metadata": {},
   "outputs": [
    {
     "data": {
      "text/plain": [
       "array(['rap', 'rb', 'rock', 'pop', 'country'], dtype=object)"
      ]
     },
     "execution_count": 10,
     "metadata": {},
     "output_type": "execute_result"
    }
   ],
   "source": [
    "# check if only unique genres are in df\n",
    "df['tag'].unique()"
   ]
  },
  {
   "cell_type": "code",
   "execution_count": 11,
   "metadata": {},
   "outputs": [
    {
     "data": {
      "text/plain": [
       "title      407\n",
       "tag          0\n",
       "artist       0\n",
       "year         0\n",
       "lyrics    1011\n",
       "id           0\n",
       "dtype: int64"
      ]
     },
     "execution_count": 11,
     "metadata": {},
     "output_type": "execute_result"
    }
   ],
   "source": [
    "# show nan values in each column\n",
    "df.isnull().sum()"
   ]
  },
  {
   "cell_type": "code",
   "execution_count": 12,
   "metadata": {},
   "outputs": [],
   "source": [
    "# drop nan values in columns lyrics, tag, and title\n",
    "df.dropna(subset=['lyrics', 'title'], inplace=True)"
   ]
  },
  {
   "cell_type": "code",
   "execution_count": 13,
   "metadata": {},
   "outputs": [
    {
     "data": {
      "text/plain": [
       "title     0\n",
       "tag       0\n",
       "artist    0\n",
       "year      0\n",
       "lyrics    0\n",
       "id        0\n",
       "dtype: int64"
      ]
     },
     "execution_count": 13,
     "metadata": {},
     "output_type": "execute_result"
    }
   ],
   "source": [
    "# show nan values in each column\n",
    "df.isnull().sum()"
   ]
  },
  {
   "cell_type": "code",
   "execution_count": 15,
   "metadata": {},
   "outputs": [
    {
     "name": "stderr",
     "output_type": "stream",
     "text": [
      "Warning : `load_model` does not return WordVectorModel or SupervisedModel any more, but a `FastText` object which is very similar.\n"
     ]
    }
   ],
   "source": [
    "# Load FastText's language identification model\n",
    "model = fasttext.load_model('/work/NLP/fasttext/lid.176.bin')\n",
    "\n",
    "# Detect language function\n",
    "def detect_language(text):\n",
    "    text = text.replace('\\n', ' ')  # Replace newline characters with spaces\n",
    "    predictions = model.predict(text, k=1)  # k is the number of language predictions to return\n",
    "    lang = predictions[0][0].replace('__label__','')  # Get the language code\n",
    "    return lang"
   ]
  },
  {
   "cell_type": "code",
   "execution_count": 16,
   "metadata": {},
   "outputs": [
    {
     "name": "stderr",
     "output_type": "stream",
     "text": [
      "Detecting language: 100%|██████████| 5703331/5703331 [11:36<00:00, 8192.42it/s] \n"
     ]
    }
   ],
   "source": [
    "# Detect language for each row in lyrics column\n",
    "tqdm.pandas(desc=\"Detecting language\")\n",
    "df['language'] = df['lyrics'].progress_apply(detect_language)"
   ]
  },
  {
   "cell_type": "code",
   "execution_count": 17,
   "metadata": {},
   "outputs": [
    {
     "data": {
      "text/plain": [
       "language\n",
       "en     4042601\n",
       "es      280481\n",
       "fr      199379\n",
       "pt      171829\n",
       "ru      168636\n",
       "        ...   \n",
       "mhr          1\n",
       "hif          1\n",
       "dsb          1\n",
       "lez          1\n",
       "or           1\n",
       "Name: count, Length: 165, dtype: int64"
      ]
     },
     "execution_count": 17,
     "metadata": {},
     "output_type": "execute_result"
    }
   ],
   "source": [
    "df['language'].value_counts()"
   ]
  },
  {
   "cell_type": "code",
   "execution_count": 18,
   "metadata": {},
   "outputs": [],
   "source": [
    "# keep only english songs\n",
    "df = df[df['language'] == 'en']"
   ]
  },
  {
   "cell_type": "code",
   "execution_count": 19,
   "metadata": {},
   "outputs": [
    {
     "name": "stdout",
     "output_type": "stream",
     "text": [
      "<class 'pandas.core.frame.DataFrame'>\n",
      "Index: 4042601 entries, 0 to 5913410\n",
      "Data columns (total 7 columns):\n",
      " #   Column    Dtype \n",
      "---  ------    ----- \n",
      " 0   title     object\n",
      " 1   tag       object\n",
      " 2   artist    object\n",
      " 3   year      int64 \n",
      " 4   lyrics    object\n",
      " 5   id        int64 \n",
      " 6   language  object\n",
      "dtypes: int64(2), object(5)\n",
      "memory usage: 246.7+ MB\n"
     ]
    }
   ],
   "source": [
    "df.info()"
   ]
  },
  {
   "cell_type": "code",
   "execution_count": 20,
   "metadata": {},
   "outputs": [],
   "source": [
    "# Save df to pickle\n",
    "#df.to_pickle('../data/df_cleaned_engl.pkl')"
   ]
  },
  {
   "cell_type": "code",
   "execution_count": 22,
   "metadata": {},
   "outputs": [
    {
     "data": {
      "text/plain": [
       "1087"
      ]
     },
     "execution_count": 22,
     "metadata": {},
     "output_type": "execute_result"
    }
   ],
   "source": [
    "gc.collect()"
   ]
  },
  {
   "cell_type": "code",
   "execution_count": 24,
   "metadata": {},
   "outputs": [],
   "source": [
    "# Read cleaned and filtered df from pickle\n",
    "df = pd.read_pickle('/work/NLP/df_cleaned_engl.pkl')"
   ]
  },
  {
   "cell_type": "code",
   "execution_count": 25,
   "metadata": {},
   "outputs": [
    {
     "name": "stdout",
     "output_type": "stream",
     "text": [
      "<class 'pandas.core.frame.DataFrame'>\n",
      "Index: 4042601 entries, 0 to 5913410\n",
      "Data columns (total 7 columns):\n",
      " #   Column    Dtype \n",
      "---  ------    ----- \n",
      " 0   title     object\n",
      " 1   tag       object\n",
      " 2   artist    object\n",
      " 3   year      int64 \n",
      " 4   lyrics    object\n",
      " 5   id        int64 \n",
      " 6   language  object\n",
      "dtypes: int64(2), object(5)\n",
      "memory usage: 246.7+ MB\n"
     ]
    }
   ],
   "source": [
    "df.info()"
   ]
  },
  {
   "cell_type": "code",
   "execution_count": 26,
   "metadata": {},
   "outputs": [
    {
     "data": {
      "text/plain": [
       "tag\n",
       "pop        1818130\n",
       "rap        1207176\n",
       "rock        737168\n",
       "rb          187550\n",
       "country      92577\n",
       "Name: count, dtype: int64"
      ]
     },
     "execution_count": 26,
     "metadata": {},
     "output_type": "execute_result"
    }
   ],
   "source": [
    "genre_counts = df['tag'].value_counts()\n",
    "genre_counts"
   ]
  },
  {
   "cell_type": "code",
   "execution_count": 27,
   "metadata": {},
   "outputs": [
    {
     "data": {
      "text/plain": [
       "count    5.000000e+00\n",
       "mean     8.085202e+05\n",
       "std      7.213716e+05\n",
       "min      9.257700e+04\n",
       "25%      1.875500e+05\n",
       "50%      7.371680e+05\n",
       "75%      1.207176e+06\n",
       "max      1.818130e+06\n",
       "Name: count, dtype: float64"
      ]
     },
     "execution_count": 27,
     "metadata": {},
     "output_type": "execute_result"
    }
   ],
   "source": [
    "genre_counts.describe()"
   ]
  },
  {
   "cell_type": "code",
   "execution_count": 29,
   "metadata": {},
   "outputs": [
    {
     "data": {
      "image/png": "[encoded data removed]",
      "text/plain": [
       "<Figure size 1000x500 with 1 Axes>"
      ]
     },
     "metadata": {},
     "output_type": "display_data"
    }
   ],
   "source": [
    "plt.figure(figsize=(10, 5))\n",
    "ax = sns.countplot(data=df, x='tag', order=df['tag'].value_counts().index, color='steelblue')\n",
    "# Add count labels to the columns\n",
    "for p in ax.patches:\n",
    "    ax.annotate(format(p.get_height(), '.0f'), (p.get_x() + p.get_width() / 2., p.get_height()), \n",
    "                 ha = 'center', va = 'center', xytext = (0, 5), textcoords = 'offset points')\n",
    "plt.xticks(rotation=90)\n",
    "plt.title('Genre Distribution')\n",
    "plt.xlabel('Genre')\n",
    "plt.ylabel('Count')\n",
    "plt.show()"
   ]
  },
  {
   "cell_type": "code",
   "execution_count": 30,
   "metadata": {},
   "outputs": [
    {
     "data": {
      "text/plain": [
       "year\n",
       "2020    460151\n",
       "2021    418109\n",
       "2019    396736\n",
       "2015    350990\n",
       "2018    336073\n",
       "         ...  \n",
       "514          1\n",
       "1748         1\n",
       "1633         1\n",
       "1783         1\n",
       "1431         1\n",
       "Name: count, Length: 485, dtype: int64"
      ]
     },
     "execution_count": 30,
     "metadata": {},
     "output_type": "execute_result"
    }
   ],
   "source": [
    "year_counts = df['year'].value_counts()\n",
    "year_counts"
   ]
  },
  {
   "attachments": {},
   "cell_type": "markdown",
   "metadata": {},
   "source": [
    "Most of the songs are from recent years whereas some songs are very old. Since the songs seem really old and the years are a bit odd, we will examine the years with low song counts closer."
   ]
  },
  {
   "cell_type": "code",
   "execution_count": 31,
   "metadata": {},
   "outputs": [
    {
     "data": {
      "text/html": [
       "<div>\n",
       "<style scoped>\n",
       "    .dataframe tbody tr th:only-of-type {\n",
       "        vertical-align: middle;\n",
       "    }\n",
       "\n",
       "    .dataframe tbody tr th {\n",
       "        vertical-align: top;\n",
       "    }\n",
       "\n",
       "    .dataframe thead th {\n",
       "        text-align: right;\n",
       "    }\n",
       "</style>\n",
       "<table border=\"1\" class=\"dataframe\">\n",
       "  <thead>\n",
       "    <tr style=\"text-align: right;\">\n",
       "      <th></th>\n",
       "      <th>title</th>\n",
       "      <th>tag</th>\n",
       "      <th>artist</th>\n",
       "      <th>year</th>\n",
       "      <th>lyrics</th>\n",
       "      <th>id</th>\n",
       "      <th>language</th>\n",
       "    </tr>\n",
       "  </thead>\n",
       "  <tbody>\n",
       "    <tr>\n",
       "      <th>145757</th>\n",
       "      <td>The History of Tom Jones a Foundling Chap. 8.7</td>\n",
       "      <td>rap</td>\n",
       "      <td>Henry Fielding</td>\n",
       "      <td>1749</td>\n",
       "      <td>Containing better reasons than any which have ...</td>\n",
       "      <td>155315</td>\n",
       "      <td>en</td>\n",
       "    </tr>\n",
       "    <tr>\n",
       "      <th>145762</th>\n",
       "      <td>The History of Tom Jones a Foundling Chap. 8.9</td>\n",
       "      <td>rap</td>\n",
       "      <td>Henry Fielding</td>\n",
       "      <td>1749</td>\n",
       "      <td>Containing several dialogues between Jones and...</td>\n",
       "      <td>155320</td>\n",
       "      <td>en</td>\n",
       "    </tr>\n",
       "    <tr>\n",
       "      <th>208036</th>\n",
       "      <td>Advice to a Friend on Choosing a Mistress</td>\n",
       "      <td>rap</td>\n",
       "      <td>Benjamin Franklin</td>\n",
       "      <td>1745</td>\n",
       "      <td>June 25, 1745\\n\\nMy dear Friend\\n\\nI know of n...</td>\n",
       "      <td>223606</td>\n",
       "      <td>en</td>\n",
       "    </tr>\n",
       "    <tr>\n",
       "      <th>216527</th>\n",
       "      <td>Put a Little Umph In It</td>\n",
       "      <td>rb</td>\n",
       "      <td>Jagged Edge</td>\n",
       "      <td>207</td>\n",
       "      <td>[Intro: Jermaine Dupri, Ashtani, Kyle &amp; Jagged...</td>\n",
       "      <td>235635</td>\n",
       "      <td>en</td>\n",
       "    </tr>\n",
       "    <tr>\n",
       "      <th>250149</th>\n",
       "      <td>FDB Fuck Dat Bitch G-Mix</td>\n",
       "      <td>rap</td>\n",
       "      <td>Young Dro</td>\n",
       "      <td>1415</td>\n",
       "      <td>West Side, Bankhead, is where I'm from\\nEveryt...</td>\n",
       "      <td>327414</td>\n",
       "      <td>en</td>\n",
       "    </tr>\n",
       "    <tr>\n",
       "      <th>...</th>\n",
       "      <td>...</td>\n",
       "      <td>...</td>\n",
       "      <td>...</td>\n",
       "      <td>...</td>\n",
       "      <td>...</td>\n",
       "      <td>...</td>\n",
       "      <td>...</td>\n",
       "    </tr>\n",
       "    <tr>\n",
       "      <th>5238604</th>\n",
       "      <td>Mityu pchelatuh</td>\n",
       "      <td>rock</td>\n",
       "      <td>HARMAN TAARSH</td>\n",
       "      <td>205</td>\n",
       "      <td>Kiro cuh e bati pederasa\\nToi e ot romskata ra...</td>\n",
       "      <td>7022057</td>\n",
       "      <td>en</td>\n",
       "    </tr>\n",
       "    <tr>\n",
       "      <th>5553257</th>\n",
       "      <td>I shit fart pee pee</td>\n",
       "      <td>rap</td>\n",
       "      <td>A$AP Rocky</td>\n",
       "      <td>1686</td>\n",
       "      <td>I bee shitting... farting. IM BROWNING\\n\\n\\nIM...</td>\n",
       "      <td>7418234</td>\n",
       "      <td>en</td>\n",
       "    </tr>\n",
       "    <tr>\n",
       "      <th>5566508</th>\n",
       "      <td>Play Me Like That Video Game</td>\n",
       "      <td>pop</td>\n",
       "      <td>Josef Bel Habib</td>\n",
       "      <td>994</td>\n",
       "      <td>Play Me Like That Video Game (Time to Level at...</td>\n",
       "      <td>7434368</td>\n",
       "      <td>en</td>\n",
       "    </tr>\n",
       "    <tr>\n",
       "      <th>5738079</th>\n",
       "      <td>GYM</td>\n",
       "      <td>rap</td>\n",
       "      <td>Tommy Stoner</td>\n",
       "      <td>499</td>\n",
       "      <td>[Instrumental]</td>\n",
       "      <td>7654006</td>\n",
       "      <td>en</td>\n",
       "    </tr>\n",
       "    <tr>\n",
       "      <th>5907088</th>\n",
       "      <td>TOYS  i will always be yours</td>\n",
       "      <td>rap</td>\n",
       "      <td>Joyaisgone</td>\n",
       "      <td>1765</td>\n",
       "      <td>[First Beat]\\nEmotional when rolling dope I as...</td>\n",
       "      <td>7874346</td>\n",
       "      <td>en</td>\n",
       "    </tr>\n",
       "  </tbody>\n",
       "</table>\n",
       "<p>94 rows × 7 columns</p>\n",
       "</div>"
      ],
      "text/plain": [
       "                                                  title   tag   \n",
       "145757   The History of Tom Jones a Foundling Chap. 8.7   rap  \\\n",
       "145762   The History of Tom Jones a Foundling Chap. 8.9   rap   \n",
       "208036        Advice to a Friend on Choosing a Mistress   rap   \n",
       "216527                          Put a Little Umph In It    rb   \n",
       "250149                         FDB Fuck Dat Bitch G-Mix   rap   \n",
       "...                                                 ...   ...   \n",
       "5238604                                 Mityu pchelatuh  rock   \n",
       "5553257                             I shit fart pee pee   rap   \n",
       "5566508                    Play Me Like That Video Game   pop   \n",
       "5738079                                             GYM   rap   \n",
       "5907088                    TOYS  i will always be yours   rap   \n",
       "\n",
       "                    artist  year   \n",
       "145757      Henry Fielding  1749  \\\n",
       "145762      Henry Fielding  1749   \n",
       "208036   Benjamin Franklin  1745   \n",
       "216527         Jagged Edge   207   \n",
       "250149           Young Dro  1415   \n",
       "...                    ...   ...   \n",
       "5238604      HARMAN TAARSH   205   \n",
       "5553257         A$AP Rocky  1686   \n",
       "5566508    Josef Bel Habib   994   \n",
       "5738079       Tommy Stoner   499   \n",
       "5907088         Joyaisgone  1765   \n",
       "\n",
       "                                                    lyrics       id language  \n",
       "145757   Containing better reasons than any which have ...   155315       en  \n",
       "145762   Containing several dialogues between Jones and...   155320       en  \n",
       "208036   June 25, 1745\\n\\nMy dear Friend\\n\\nI know of n...   223606       en  \n",
       "216527   [Intro: Jermaine Dupri, Ashtani, Kyle & Jagged...   235635       en  \n",
       "250149   West Side, Bankhead, is where I'm from\\nEveryt...   327414       en  \n",
       "...                                                    ...      ...      ...  \n",
       "5238604  Kiro cuh e bati pederasa\\nToi e ot romskata ra...  7022057       en  \n",
       "5553257  I bee shitting... farting. IM BROWNING\\n\\n\\nIM...  7418234       en  \n",
       "5566508  Play Me Like That Video Game (Time to Level at...  7434368       en  \n",
       "5738079                                     [Instrumental]  7654006       en  \n",
       "5907088  [First Beat]\\nEmotional when rolling dope I as...  7874346       en  \n",
       "\n",
       "[94 rows x 7 columns]"
      ]
     },
     "execution_count": 31,
     "metadata": {},
     "output_type": "execute_result"
    }
   ],
   "source": [
    "odd_years = year_counts[year_counts == 2].index\n",
    "filtered_df = df[df['year'].isin(odd_years)]\n",
    "filtered_df"
   ]
  },
  {
   "cell_type": "code",
   "execution_count": 32,
   "metadata": {},
   "outputs": [
    {
     "data": {
      "image/png": "[encoded data removed]",
      "text/plain": [
       "<Figure size 1200x600 with 1 Axes>"
      ]
     },
     "metadata": {},
     "output_type": "display_data"
    }
   ],
   "source": [
    "year_counts = df['year'].value_counts()\n",
    "valid_years = year_counts.index\n",
    "\n",
    "year_order = df['year'].sort_values().unique()\n",
    "valid_years = valid_years[valid_years >= 1900]\n",
    "\n",
    "valid_years = sorted(valid_years)  # Sort the valid years in ascending order\n",
    "\n",
    "\n",
    "sns.set(style=\"darkgrid\")\n",
    "plt.figure(figsize=(12, 6))\n",
    "ax = sns.countplot(data=df[df['year'].isin(valid_years)], x='year', order=valid_years, color='steelblue')\n",
    "\n",
    "# Display only every 10th year on the x-axis\n",
    "every_10th_year = [year if i % 10 == 0 else '' for i, year in enumerate(valid_years)]\n",
    "ax.set_xticklabels(every_10th_year)\n",
    "plt.xticks(rotation=90)\n",
    "\n",
    "plt.title('Year Distribution from 1900')\n",
    "plt.xlabel('Year')\n",
    "plt.ylabel('Count')\n",
    "plt.show()"
   ]
  },
  {
   "cell_type": "code",
   "execution_count": 46,
   "metadata": {},
   "outputs": [
    {
     "data": {
      "text/plain": [
       "<Figure size 1200x600 with 0 Axes>"
      ]
     },
     "metadata": {},
     "output_type": "display_data"
    },
    {
     "data": {
      "image/png": "[encoded data removed]",
      "text/plain": [
       "<Figure size 640x480 with 1 Axes>"
      ]
     },
     "metadata": {},
     "output_type": "display_data"
    }
   ],
   "source": [
    "sns.set(style=\"darkgrid\")\n",
    "plt.figure(figsize=(12, 6))\n",
    "\n",
    "# Create a pivot table with counts for each tag and year combination\n",
    "pivot_table = df[df['year'].isin(valid_years)].pivot_table(index='year', columns='tag', aggfunc='size', fill_value=0)\n",
    "\n",
    "# Sort the valid years in ascending order\n",
    "pivot_table = pivot_table.loc[valid_years]\n",
    "\n",
    "# Plot the stacked bar chart\n",
    "ax = pivot_table.plot(kind='bar', stacked=True)\n",
    "\n",
    "# Display only every 10th year on the x-axis\n",
    "every_10th_year = [year if i % 5 == 0 else '' for i, year in enumerate(valid_years)]\n",
    "ax.set_xticklabels(every_10th_year)\n",
    "plt.xticks(rotation=90)\n",
    "\n",
    "plt.title('Year Distribution from 1980')\n",
    "plt.xlabel('Year')\n",
    "plt.ylabel('Count')\n",
    "plt.legend(title='Tag')\n",
    "\n",
    "plt.show()\n"
   ]
  },
  {
   "attachments": {},
   "cell_type": "markdown",
   "metadata": {},
   "source": [
    "Genius expaned in 2014, which could explain the huge growth in songs in the year 2015."
   ]
  },
  {
   "cell_type": "code",
   "execution_count": 52,
   "metadata": {},
   "outputs": [
    {
     "name": "stderr",
     "output_type": "stream",
     "text": [
      "/tmp/ipykernel_1029/2350800110.py:2: SettingWithCopyWarning: \n",
      "A value is trying to be set on a copy of a slice from a DataFrame.\n",
      "Try using .loc[row_indexer,col_indexer] = value instead\n",
      "\n",
      "See the caveats in the documentation: https://pandas.pydata.org/pandas-docs/stable/user_guide/indexing.html#returning-a-view-versus-a-copy\n",
      "  df['word_count'] = df['lyrics'].apply(lambda x: len(x.split()))\n"
     ]
    },
    {
     "data": {
      "text/plain": [
       "count     3044.000000\n",
       "mean      1073.818988\n",
       "std       2458.609085\n",
       "min          1.000000\n",
       "25%          1.000000\n",
       "50%          5.000000\n",
       "75%        334.750000\n",
       "max      10464.000000\n",
       "Name: count, dtype: float64"
      ]
     },
     "execution_count": 52,
     "metadata": {},
     "output_type": "execute_result"
    }
   ],
   "source": [
    "# Examining word_count\n",
    "df['word_count'] = df['lyrics'].apply(lambda x: len(x.split()))\n",
    "\n",
    "df['word_count'].value_counts().describe()"
   ]
  },
  {
   "cell_type": "code",
   "execution_count": 55,
   "metadata": {},
   "outputs": [
    {
     "data": {
      "text/plain": [
       "<Axes: xlabel='word_count', ylabel='Count'>"
      ]
     },
     "execution_count": 55,
     "metadata": {},
     "output_type": "execute_result"
    },
    {
     "data": {
      "image/png": "[encoded data removed]",
      "text/plain": [
       "<Figure size 640x480 with 1 Axes>"
      ]
     },
     "metadata": {},
     "output_type": "display_data"
    }
   ],
   "source": [
    "df = df[(df['word_count'] < 5000) & (df['word_count'] > 50)]\n",
    "\n",
    "sns.histplot(data=df, x='word_count', bins=500, hue='tag', palette='viridis')"
   ]
  },
  {
   "attachments": {},
   "cell_type": "markdown",
   "metadata": {},
   "source": [
    " The histplot above shows that rap songs contain usually more words than the other genres. "
   ]
  },
  {
   "cell_type": "code",
   "execution_count": 71,
   "metadata": {},
   "outputs": [
    {
     "data": {
      "text/plain": [
       "1602"
      ]
     },
     "execution_count": 71,
     "metadata": {},
     "output_type": "execute_result"
    }
   ],
   "source": [
    "gc.collect()"
   ]
  },
  {
   "attachments": {},
   "cell_type": "markdown",
   "metadata": {},
   "source": [
    "## Lyrics Preprocessing"
   ]
  },
  {
   "cell_type": "code",
   "execution_count": 2,
   "metadata": {},
   "outputs": [],
   "source": [
    "# Read cleaned and filtered df from pickle\n",
    "df = pd.read_pickle('/work/NLP/df_cleaned_engl.pkl')"
   ]
  },
  {
   "cell_type": "code",
   "execution_count": 3,
   "metadata": {},
   "outputs": [
    {
     "data": {
      "text/html": [
       "<div>\n",
       "<style scoped>\n",
       "    .dataframe tbody tr th:only-of-type {\n",
       "        vertical-align: middle;\n",
       "    }\n",
       "\n",
       "    .dataframe tbody tr th {\n",
       "        vertical-align: top;\n",
       "    }\n",
       "\n",
       "    .dataframe thead th {\n",
       "        text-align: right;\n",
       "    }\n",
       "</style>\n",
       "<table border=\"1\" class=\"dataframe\">\n",
       "  <thead>\n",
       "    <tr style=\"text-align: right;\">\n",
       "      <th></th>\n",
       "      <th>title</th>\n",
       "      <th>tag</th>\n",
       "      <th>artist</th>\n",
       "      <th>year</th>\n",
       "      <th>lyrics</th>\n",
       "      <th>id</th>\n",
       "      <th>language</th>\n",
       "    </tr>\n",
       "  </thead>\n",
       "  <tbody>\n",
       "    <tr>\n",
       "      <th>0</th>\n",
       "      <td>Killa Cam</td>\n",
       "      <td>rap</td>\n",
       "      <td>Cam'ron</td>\n",
       "      <td>2004</td>\n",
       "      <td>[Chorus: Opera Steve &amp; Cam'ron]\\nKilla Cam, Ki...</td>\n",
       "      <td>1</td>\n",
       "      <td>en</td>\n",
       "    </tr>\n",
       "    <tr>\n",
       "      <th>1</th>\n",
       "      <td>Can I Live</td>\n",
       "      <td>rap</td>\n",
       "      <td>JAY-Z</td>\n",
       "      <td>1996</td>\n",
       "      <td>[Produced by Irv Gotti]\\n\\n[Intro]\\nYeah, hah,...</td>\n",
       "      <td>3</td>\n",
       "      <td>en</td>\n",
       "    </tr>\n",
       "    <tr>\n",
       "      <th>2</th>\n",
       "      <td>Forgive Me Father</td>\n",
       "      <td>rap</td>\n",
       "      <td>Fabolous</td>\n",
       "      <td>2003</td>\n",
       "      <td>Maybe cause I'm eatin\\nAnd these bastards fien...</td>\n",
       "      <td>4</td>\n",
       "      <td>en</td>\n",
       "    </tr>\n",
       "    <tr>\n",
       "      <th>3</th>\n",
       "      <td>Down and Out</td>\n",
       "      <td>rap</td>\n",
       "      <td>Cam'ron</td>\n",
       "      <td>2004</td>\n",
       "      <td>[Produced by Kanye West and Brian Miller]\\n\\n[...</td>\n",
       "      <td>5</td>\n",
       "      <td>en</td>\n",
       "    </tr>\n",
       "    <tr>\n",
       "      <th>4</th>\n",
       "      <td>Fly In</td>\n",
       "      <td>rap</td>\n",
       "      <td>Lil Wayne</td>\n",
       "      <td>2005</td>\n",
       "      <td>[Intro]\\nSo they ask me\\n\"Young boy\\nWhat you ...</td>\n",
       "      <td>6</td>\n",
       "      <td>en</td>\n",
       "    </tr>\n",
       "  </tbody>\n",
       "</table>\n",
       "</div>"
      ],
      "text/plain": [
       "               title  tag     artist  year   \n",
       "0          Killa Cam  rap    Cam'ron  2004  \\\n",
       "1         Can I Live  rap      JAY-Z  1996   \n",
       "2  Forgive Me Father  rap   Fabolous  2003   \n",
       "3       Down and Out  rap    Cam'ron  2004   \n",
       "4             Fly In  rap  Lil Wayne  2005   \n",
       "\n",
       "                                              lyrics  id language  \n",
       "0  [Chorus: Opera Steve & Cam'ron]\\nKilla Cam, Ki...   1       en  \n",
       "1  [Produced by Irv Gotti]\\n\\n[Intro]\\nYeah, hah,...   3       en  \n",
       "2  Maybe cause I'm eatin\\nAnd these bastards fien...   4       en  \n",
       "3  [Produced by Kanye West and Brian Miller]\\n\\n[...   5       en  \n",
       "4  [Intro]\\nSo they ask me\\n\"Young boy\\nWhat you ...   6       en  "
      ]
     },
     "execution_count": 3,
     "metadata": {},
     "output_type": "execute_result"
    }
   ],
   "source": [
    "df.head()"
   ]
  },
  {
   "cell_type": "code",
   "execution_count": 4,
   "metadata": {},
   "outputs": [],
   "source": [
    "def preprocess(df, tokenize=True, lowercase=True, remove_stopwords=True, remove_punctuation=True, stem_or_lemm=None):\n",
    "    # Drop language column\n",
    "    df = df.drop(['language'], axis=1)\n",
    "\n",
    "    # get word count in lyrics\n",
    "    df['lyrics_word_count'] = df['lyrics'].apply(lambda x: len(str(x).split()))\n",
    "\n",
    "    # Filtering songs with lyrics shorter than 25 words and longer than 5000\n",
    "    df = df[(df['lyrics_word_count'] < 5000)]\n",
    "    df = df[(df['lyrics_word_count'] > 25)]\n",
    "\n",
    "    # Filtering songs published earlier than 1960 and before 2024\n",
    "    df = df[(df['year'] >= 1960) & (df['year'] <= 2023)]\n",
    "\n",
    "    # Remove new lines\n",
    "    df['lyrics'] = df['lyrics'].str.replace('\\n', ' ') \n",
    "\n",
    "    # Remove strings enclosed in brackets []\n",
    "    df['lyrics'] = df['lyrics'].str.replace('\\[.*?\\]', '', regex=True) \n",
    "    \n",
    "    # Remove substrings starting with a backslash \\\n",
    "    df['lyrics'] = df['lyrics'].str.replace('\\\\[^\\s]*', '', regex=True) \n",
    "    \n",
    "    # Remove leading and trailing whitespaces\n",
    "    df['lyrics'] = df['lyrics'].str.strip()\n",
    "    \n",
    "    # Strip the string and ensure only one space between words\n",
    "    df['lyrics'] = df['lyrics'].str.replace(r'\\s+', ' ', regex=True).str.strip()\n",
    "\n",
    "    if remove_punctuation == True:\n",
    "        # Remove punctuation from the lyrics\n",
    "        df['lyrics'] = df['lyrics'].str.replace('['+string.punctuation+']', '', regex=True)\n",
    "\n",
    "    if lowercase == True:\n",
    "        #lowercase everything\n",
    "        df['lyrics'] = df['lyrics'].str.lower()\n",
    "    \n",
    "    #remove the words 'chorus' and 'verse'\n",
    "    df['lyrics'] = df['lyrics'].str.replace('chorus', '')\n",
    "    df['lyrics'] = df['lyrics'].str.replace('verse', '')\n",
    "\n",
    "    if remove_stopwords == True:\n",
    "        stop = stopwords.words('english')\n",
    "        df['lyrics'] = df['lyrics'].apply(lambda x: ' '.join([word for word in x.split() if word not in (stop)]))\n",
    "    \n",
    "    if tokenize ==True:\n",
    "        df['lyrics'] = df['lyrics'].apply(nltk.word_tokenize)\n",
    "\n",
    "    if stem_or_lemm == 'stem':\n",
    "        stemmer = SnowballStemmer(\"english\")\n",
    "        df['stemmed_lyrics'] = df['lyrics'].apply(lambda x: [stemmer.stem(word) for word in x])\n",
    "    elif stem_or_lemm == 'lemm':\n",
    "        lemmatizer = WordNetLemmatizer()\n",
    "        df['lemmatized_lyrics'] = df['lyrics'].apply(lambda x: [lemmatizer.lemmatize(word) for word in x])\n",
    "    else:\n",
    "        print('No stemming or lemmatization needed.')\n",
    "\n",
    "    return df"
   ]
  },
  {
   "cell_type": "code",
   "execution_count": 6,
   "metadata": {},
   "outputs": [
    {
     "name": "stdout",
     "output_type": "stream",
     "text": [
      "No stemming or lemmatization needed.\n"
     ]
    }
   ],
   "source": [
    "df_tokenized = preprocess(df.head(100), tokenize=True, lowercase=True, remove_stopwords=True, remove_punctuation=True, stem_or_lemm=None)\n",
    "df_tokenized.to_pickle('/work/NLP/pkl_files_test/tokenized.pkl')"
   ]
  },
  {
   "cell_type": "code",
   "execution_count": 8,
   "metadata": {},
   "outputs": [],
   "source": [
    "df_stemmed = preprocess(df.head(100), tokenize=True, lowercase=True, remove_stopwords=True, remove_punctuation=True, stem_or_lemm='stem')\n",
    "df_stemmed.to_pickle('/work/NLP/pkl_files_test/stemmed.pkl')"
   ]
  },
  {
   "cell_type": "code",
   "execution_count": 10,
   "metadata": {},
   "outputs": [],
   "source": [
    "df_lemmatized = preprocess(df.head(100), tokenize=True, lowercase=True, remove_stopwords=True, remove_punctuation=True, stem_or_lemm='lemm')\n",
    "df_lemmatized.to_pickle('/work/NLP/pkl_files_test/lemmatized.pkl')"
   ]
  },
  {
   "cell_type": "code",
   "execution_count": null,
   "metadata": {},
   "outputs": [],
   "source": [
    "df_word2vec = preprocess(df.head(100), tokenize=True, lowercase=True, remove_stopwords=False, remove_punctuation=True, stem_or_lemm=None)\n",
    "df_word2vec.to_pickle('/work/NLP/pkl_files_test/word2vec_tokenized.pkl')"
   ]
  },
  {
   "cell_type": "code",
   "execution_count": 5,
   "metadata": {},
   "outputs": [
    {
     "name": "stdout",
     "output_type": "stream",
     "text": [
      "No stemming or lemmatization needed.\n"
     ]
    }
   ],
   "source": [
    "df_bert = preprocess(df, tokenize=False, lowercase=False, remove_stopwords=False, remove_punctuation=False, stem_or_lemm=None)\n",
    "df_bert.to_pickle('/work/NLP/pkl_files_test/20230524_BERT.pkl')"
   ]
  },
  {
   "attachments": {},
   "cell_type": "markdown",
   "metadata": {},
   "source": [
    "## NB Classification"
   ]
  },
  {
   "cell_type": "code",
   "execution_count": 4,
   "metadata": {},
   "outputs": [],
   "source": [
    "def nb_classification(train, label, vectorizer='bow'):\n",
    "\n",
    "    train = train.apply(' '.join)\n",
    "\n",
    "    # Split the data into training and testing sets\n",
    "    X_train, X_temp, y_train, y_temp = train_test_split(train, label, test_size=0.3, stratify=y, random_state=42)\n",
    "    # Split test into test and validation set\n",
    "    X_test, X_val, y_test, y_val = train_test_split(X_temp, y_temp, test_size=0.5, stratify=y_temp, random_state=42)\n",
    "\n",
    "    if vectorizer == 'bow':\n",
    "        vec = CountVectorizer()\n",
    "    elif vectorizer == 'tfidf':\n",
    "        vec = TfidfVectorizer()\n",
    "\n",
    "    X_train_vec = vec.fit_transform(X_train)\n",
    "    X_test_vec = vec.transform(X_test)\n",
    "\n",
    "    # Initialize the MultinomialNB\n",
    "    nb = MultinomialNB()\n",
    "\n",
    "    # Fit the model to the training data\n",
    "    nb.fit(X_train_vec, y_train)\n",
    "\n",
    "    # Predict the labels of the test set\n",
    "    y_pred = nb.predict(X_test_vec)\n",
    "\n",
    "    # Generate classification report\n",
    "    report = classification_report(y_test, y_pred)\n",
    "    return report"
   ]
  },
  {
   "attachments": {},
   "cell_type": "markdown",
   "metadata": {},
   "source": [
    "## Random Forest Classification"
   ]
  },
  {
   "cell_type": "code",
   "execution_count": null,
   "metadata": {},
   "outputs": [],
   "source": [
    "def rf_classification(train, label):\n",
    "\n",
    "    # Initialize Random Over Sampler to handle imbalance\n",
    "    oversampler = RandomOverSampler(random_state=42)\n",
    "\n",
    "    # Split the data into training and testing sets\n",
    "    X_train, X_temp, y_train, y_temp = train_test_split(train, label, test_size=0.3, stratify=y, random_state=42)\n",
    "    # Split test into test and validation set\n",
    "    X_test, X_val, y_test, y_val = train_test_split(X_temp, y_temp, test_size=0.5, stratify=y_temp, random_state=42)\n",
    "\n",
    "    # Oversample only train set \n",
    "    X_train_res, y_train_res = oversampler.fit_resample(X_train, y_train)\n",
    "\n",
    "    # Initialize the RF - class weight balanced to assist imbalance\n",
    "    clf = RandomForestClassifier(n_jobs=-1, verbose=2, class_weight='balanced', random_state=42)\n",
    "\n",
    "    # Fit the model to the oversampled training data\n",
    "    clf.fit(X_train_res, y_train_res)\n",
    "\n",
    "    # Predict the labels of the test set\n",
    "    y_test_pred = clf.predict(X_test)\n",
    "\n",
    "    # Generate classification report\n",
    "    report = classification_report(y_test, y_pred)\n",
    "    return report"
   ]
  },
  {
   "attachments": {},
   "cell_type": "markdown",
   "metadata": {},
   "source": [
    "### Tokenized"
   ]
  },
  {
   "cell_type": "code",
   "execution_count": 17,
   "metadata": {},
   "outputs": [],
   "source": [
    "df = pd.read_pickle('/work/NLP/pkl_files/tokenized.pkl')"
   ]
  },
  {
   "cell_type": "code",
   "execution_count": 18,
   "metadata": {},
   "outputs": [
    {
     "data": {
      "text/html": [
       "<div>\n",
       "<style scoped>\n",
       "    .dataframe tbody tr th:only-of-type {\n",
       "        vertical-align: middle;\n",
       "    }\n",
       "\n",
       "    .dataframe tbody tr th {\n",
       "        vertical-align: top;\n",
       "    }\n",
       "\n",
       "    .dataframe thead th {\n",
       "        text-align: right;\n",
       "    }\n",
       "</style>\n",
       "<table border=\"1\" class=\"dataframe\">\n",
       "  <thead>\n",
       "    <tr style=\"text-align: right;\">\n",
       "      <th></th>\n",
       "      <th>title</th>\n",
       "      <th>tag</th>\n",
       "      <th>artist</th>\n",
       "      <th>year</th>\n",
       "      <th>lyrics</th>\n",
       "      <th>id</th>\n",
       "      <th>lyrics_word_count</th>\n",
       "    </tr>\n",
       "  </thead>\n",
       "  <tbody>\n",
       "    <tr>\n",
       "      <th>0</th>\n",
       "      <td>Killa Cam</td>\n",
       "      <td>rap</td>\n",
       "      <td>Cam'ron</td>\n",
       "      <td>2004</td>\n",
       "      <td>[killa, cam, killa, cam, cam, killa, cam, kill...</td>\n",
       "      <td>1</td>\n",
       "      <td>762</td>\n",
       "    </tr>\n",
       "    <tr>\n",
       "      <th>1</th>\n",
       "      <td>Can I Live</td>\n",
       "      <td>rap</td>\n",
       "      <td>JAY-Z</td>\n",
       "      <td>1996</td>\n",
       "      <td>[yeah, hah, yeah, rocafella, invite, somethin,...</td>\n",
       "      <td>3</td>\n",
       "      <td>548</td>\n",
       "    </tr>\n",
       "    <tr>\n",
       "      <th>2</th>\n",
       "      <td>Forgive Me Father</td>\n",
       "      <td>rap</td>\n",
       "      <td>Fabolous</td>\n",
       "      <td>2003</td>\n",
       "      <td>[maybe, cause, im, eatin, bastards, fiend, gru...</td>\n",
       "      <td>4</td>\n",
       "      <td>574</td>\n",
       "    </tr>\n",
       "    <tr>\n",
       "      <th>3</th>\n",
       "      <td>Down and Out</td>\n",
       "      <td>rap</td>\n",
       "      <td>Cam'ron</td>\n",
       "      <td>2004</td>\n",
       "      <td>[ugh, killa, baby, kanye, 1970s, heron, flow, ...</td>\n",
       "      <td>5</td>\n",
       "      <td>760</td>\n",
       "    </tr>\n",
       "    <tr>\n",
       "      <th>4</th>\n",
       "      <td>Fly In</td>\n",
       "      <td>rap</td>\n",
       "      <td>Lil Wayne</td>\n",
       "      <td>2005</td>\n",
       "      <td>[ask, young, boy, gon, second, time, around, g...</td>\n",
       "      <td>6</td>\n",
       "      <td>432</td>\n",
       "    </tr>\n",
       "  </tbody>\n",
       "</table>\n",
       "</div>"
      ],
      "text/plain": [
       "               title  tag     artist  year   \n",
       "0          Killa Cam  rap    Cam'ron  2004  \\\n",
       "1         Can I Live  rap      JAY-Z  1996   \n",
       "2  Forgive Me Father  rap   Fabolous  2003   \n",
       "3       Down and Out  rap    Cam'ron  2004   \n",
       "4             Fly In  rap  Lil Wayne  2005   \n",
       "\n",
       "                                              lyrics  id  lyrics_word_count  \n",
       "0  [killa, cam, killa, cam, cam, killa, cam, kill...   1                762  \n",
       "1  [yeah, hah, yeah, rocafella, invite, somethin,...   3                548  \n",
       "2  [maybe, cause, im, eatin, bastards, fiend, gru...   4                574  \n",
       "3  [ugh, killa, baby, kanye, 1970s, heron, flow, ...   5                760  \n",
       "4  [ask, young, boy, gon, second, time, around, g...   6                432  "
      ]
     },
     "execution_count": 18,
     "metadata": {},
     "output_type": "execute_result"
    }
   ],
   "source": [
    "df.head()"
   ]
  },
  {
   "cell_type": "code",
   "execution_count": 20,
   "metadata": {},
   "outputs": [
    {
     "name": "stdout",
     "output_type": "stream",
     "text": [
      "              precision    recall  f1-score   support\n",
      "\n",
      "     country       0.33      0.18      0.23     25477\n",
      "         pop       0.65      0.49      0.56    430965\n",
      "         rap       0.83      0.79      0.81    298959\n",
      "          rb       0.24      0.35      0.29     47343\n",
      "        rock       0.40      0.62      0.48    191812\n",
      "\n",
      "    accuracy                           0.59    994556\n",
      "   macro avg       0.49      0.49      0.48    994556\n",
      "weighted avg       0.63      0.59      0.60    994556\n",
      "\n"
     ]
    }
   ],
   "source": [
    "#bow\n",
    "bow_report = nb_classification(df['lyrics'], df['tag'], vectorizer='bow')\n",
    "print(bow_report)"
   ]
  },
  {
   "cell_type": "code",
   "execution_count": 21,
   "metadata": {},
   "outputs": [
    {
     "name": "stdout",
     "output_type": "stream",
     "text": [
      "              precision    recall  f1-score   support\n",
      "\n",
      "     country       0.00      0.00      0.00     25477\n",
      "         pop       0.58      0.91      0.71    430965\n",
      "         rap       0.80      0.83      0.82    298959\n",
      "          rb       0.13      0.00      0.00     47343\n",
      "        rock       0.69      0.05      0.09    191812\n",
      "\n",
      "    accuracy                           0.65    994556\n",
      "   macro avg       0.44      0.36      0.32    994556\n",
      "weighted avg       0.63      0.65      0.57    994556\n",
      "\n"
     ]
    }
   ],
   "source": [
    "#tfidf\n",
    "tfidf_report = nb_classification(df['lyrics'], df['tag'], vectorizer='tfidf')\n",
    "print(tfidf_report)"
   ]
  },
  {
   "cell_type": "code",
   "execution_count": 26,
   "metadata": {},
   "outputs": [
    {
     "data": {
      "text/plain": [
       "184"
      ]
     },
     "execution_count": 26,
     "metadata": {},
     "output_type": "execute_result"
    }
   ],
   "source": [
    "# Collect garbage from RAM to prevent kernel from dying\n",
    "gc.collect()"
   ]
  },
  {
   "attachments": {},
   "cell_type": "markdown",
   "metadata": {},
   "source": [
    "### Stemmed"
   ]
  },
  {
   "cell_type": "code",
   "execution_count": 3,
   "metadata": {},
   "outputs": [],
   "source": [
    "df = pd.read_pickle('/work/NLP/pkl_files/stemmed.pkl')"
   ]
  },
  {
   "cell_type": "code",
   "execution_count": 4,
   "metadata": {},
   "outputs": [
    {
     "data": {
      "text/html": [
       "<div>\n",
       "<style scoped>\n",
       "    .dataframe tbody tr th:only-of-type {\n",
       "        vertical-align: middle;\n",
       "    }\n",
       "\n",
       "    .dataframe tbody tr th {\n",
       "        vertical-align: top;\n",
       "    }\n",
       "\n",
       "    .dataframe thead th {\n",
       "        text-align: right;\n",
       "    }\n",
       "</style>\n",
       "<table border=\"1\" class=\"dataframe\">\n",
       "  <thead>\n",
       "    <tr style=\"text-align: right;\">\n",
       "      <th></th>\n",
       "      <th>title</th>\n",
       "      <th>tag</th>\n",
       "      <th>artist</th>\n",
       "      <th>year</th>\n",
       "      <th>lyrics</th>\n",
       "      <th>id</th>\n",
       "      <th>lyrics_word_count</th>\n",
       "      <th>stemmed_lyrics</th>\n",
       "    </tr>\n",
       "  </thead>\n",
       "  <tbody>\n",
       "    <tr>\n",
       "      <th>0</th>\n",
       "      <td>Killa Cam</td>\n",
       "      <td>rap</td>\n",
       "      <td>Cam'ron</td>\n",
       "      <td>2004</td>\n",
       "      <td>[killa, cam, killa, cam, cam, killa, cam, kill...</td>\n",
       "      <td>1</td>\n",
       "      <td>762</td>\n",
       "      <td>[killa, cam, killa, cam, cam, killa, cam, kill...</td>\n",
       "    </tr>\n",
       "    <tr>\n",
       "      <th>1</th>\n",
       "      <td>Can I Live</td>\n",
       "      <td>rap</td>\n",
       "      <td>JAY-Z</td>\n",
       "      <td>1996</td>\n",
       "      <td>[yeah, hah, yeah, rocafella, invite, somethin,...</td>\n",
       "      <td>3</td>\n",
       "      <td>548</td>\n",
       "      <td>[yeah, hah, yeah, rocafella, invit, somethin, ...</td>\n",
       "    </tr>\n",
       "    <tr>\n",
       "      <th>2</th>\n",
       "      <td>Forgive Me Father</td>\n",
       "      <td>rap</td>\n",
       "      <td>Fabolous</td>\n",
       "      <td>2003</td>\n",
       "      <td>[maybe, cause, im, eatin, bastards, fiend, gru...</td>\n",
       "      <td>4</td>\n",
       "      <td>574</td>\n",
       "      <td>[mayb, caus, im, eatin, bastard, fiend, grub, ...</td>\n",
       "    </tr>\n",
       "    <tr>\n",
       "      <th>3</th>\n",
       "      <td>Down and Out</td>\n",
       "      <td>rap</td>\n",
       "      <td>Cam'ron</td>\n",
       "      <td>2004</td>\n",
       "      <td>[ugh, killa, baby, kanye, 1970s, heron, flow, ...</td>\n",
       "      <td>5</td>\n",
       "      <td>760</td>\n",
       "      <td>[ugh, killa, babi, kany, 1970s, heron, flow, h...</td>\n",
       "    </tr>\n",
       "    <tr>\n",
       "      <th>4</th>\n",
       "      <td>Fly In</td>\n",
       "      <td>rap</td>\n",
       "      <td>Lil Wayne</td>\n",
       "      <td>2005</td>\n",
       "      <td>[ask, young, boy, gon, second, time, around, g...</td>\n",
       "      <td>6</td>\n",
       "      <td>432</td>\n",
       "      <td>[ask, young, boy, gon, second, time, around, g...</td>\n",
       "    </tr>\n",
       "  </tbody>\n",
       "</table>\n",
       "</div>"
      ],
      "text/plain": [
       "               title  tag     artist  year   \n",
       "0          Killa Cam  rap    Cam'ron  2004  \\\n",
       "1         Can I Live  rap      JAY-Z  1996   \n",
       "2  Forgive Me Father  rap   Fabolous  2003   \n",
       "3       Down and Out  rap    Cam'ron  2004   \n",
       "4             Fly In  rap  Lil Wayne  2005   \n",
       "\n",
       "                                              lyrics  id  lyrics_word_count   \n",
       "0  [killa, cam, killa, cam, cam, killa, cam, kill...   1                762  \\\n",
       "1  [yeah, hah, yeah, rocafella, invite, somethin,...   3                548   \n",
       "2  [maybe, cause, im, eatin, bastards, fiend, gru...   4                574   \n",
       "3  [ugh, killa, baby, kanye, 1970s, heron, flow, ...   5                760   \n",
       "4  [ask, young, boy, gon, second, time, around, g...   6                432   \n",
       "\n",
       "                                      stemmed_lyrics  \n",
       "0  [killa, cam, killa, cam, cam, killa, cam, kill...  \n",
       "1  [yeah, hah, yeah, rocafella, invit, somethin, ...  \n",
       "2  [mayb, caus, im, eatin, bastard, fiend, grub, ...  \n",
       "3  [ugh, killa, babi, kany, 1970s, heron, flow, h...  \n",
       "4  [ask, young, boy, gon, second, time, around, g...  "
      ]
     },
     "execution_count": 4,
     "metadata": {},
     "output_type": "execute_result"
    }
   ],
   "source": [
    "df.head()"
   ]
  },
  {
   "cell_type": "code",
   "execution_count": 5,
   "metadata": {},
   "outputs": [
    {
     "name": "stdout",
     "output_type": "stream",
     "text": [
      "              precision    recall  f1-score   support\n",
      "\n",
      "     country       0.32      0.18      0.23     25477\n",
      "         pop       0.65      0.48      0.55    430965\n",
      "         rap       0.83      0.79      0.81    298959\n",
      "          rb       0.24      0.35      0.28     47343\n",
      "        rock       0.39      0.63      0.48    191812\n",
      "\n",
      "    accuracy                           0.59    994556\n",
      "   macro avg       0.48      0.49      0.47    994556\n",
      "weighted avg       0.63      0.59      0.59    994556\n",
      "\n"
     ]
    }
   ],
   "source": [
    "#bow\n",
    "bow_report = nb_classification(df['stemmed_lyrics'], df['tag'], vectorizer='bow')\n",
    "print(bow_report)"
   ]
  },
  {
   "cell_type": "code",
   "execution_count": 6,
   "metadata": {},
   "outputs": [
    {
     "name": "stdout",
     "output_type": "stream",
     "text": [
      "              precision    recall  f1-score   support\n",
      "\n",
      "     country       0.00      0.00      0.00     25477\n",
      "         pop       0.58      0.91      0.71    430965\n",
      "         rap       0.80      0.83      0.81    298959\n",
      "          rb       0.14      0.00      0.00     47343\n",
      "        rock       0.70      0.05      0.09    191812\n",
      "\n",
      "    accuracy                           0.65    994556\n",
      "   macro avg       0.44      0.36      0.32    994556\n",
      "weighted avg       0.63      0.65      0.57    994556\n",
      "\n"
     ]
    }
   ],
   "source": [
    "#tfidf\n",
    "tfidf_report = nb_classification(df['stemmed_lyrics'], df['tag'], vectorizer='tfidf')\n",
    "print(tfidf_report)"
   ]
  },
  {
   "cell_type": "code",
   "execution_count": 7,
   "metadata": {},
   "outputs": [
    {
     "data": {
      "text/plain": [
       "0"
      ]
     },
     "execution_count": 7,
     "metadata": {},
     "output_type": "execute_result"
    }
   ],
   "source": [
    "# Collect garbage from RAM to prevent kernel from dying\n",
    "gc.collect()"
   ]
  },
  {
   "attachments": {},
   "cell_type": "markdown",
   "metadata": {},
   "source": [
    "### Lemmatized"
   ]
  },
  {
   "cell_type": "code",
   "execution_count": 2,
   "metadata": {},
   "outputs": [],
   "source": [
    "df = pd.read_pickle('/work/NLP/pkl_files/lemmatized.pkl')"
   ]
  },
  {
   "cell_type": "code",
   "execution_count": 3,
   "metadata": {},
   "outputs": [
    {
     "data": {
      "text/html": [
       "<div>\n",
       "<style scoped>\n",
       "    .dataframe tbody tr th:only-of-type {\n",
       "        vertical-align: middle;\n",
       "    }\n",
       "\n",
       "    .dataframe tbody tr th {\n",
       "        vertical-align: top;\n",
       "    }\n",
       "\n",
       "    .dataframe thead th {\n",
       "        text-align: right;\n",
       "    }\n",
       "</style>\n",
       "<table border=\"1\" class=\"dataframe\">\n",
       "  <thead>\n",
       "    <tr style=\"text-align: right;\">\n",
       "      <th></th>\n",
       "      <th>title</th>\n",
       "      <th>tag</th>\n",
       "      <th>artist</th>\n",
       "      <th>year</th>\n",
       "      <th>lyrics</th>\n",
       "      <th>id</th>\n",
       "      <th>lyrics_word_count</th>\n",
       "      <th>lemmatized_lyrics</th>\n",
       "    </tr>\n",
       "  </thead>\n",
       "  <tbody>\n",
       "    <tr>\n",
       "      <th>0</th>\n",
       "      <td>Killa Cam</td>\n",
       "      <td>rap</td>\n",
       "      <td>Cam'ron</td>\n",
       "      <td>2004</td>\n",
       "      <td>[killa, cam, killa, cam, cam, killa, cam, kill...</td>\n",
       "      <td>1</td>\n",
       "      <td>762</td>\n",
       "      <td>[killa, cam, killa, cam, cam, killa, cam, kill...</td>\n",
       "    </tr>\n",
       "    <tr>\n",
       "      <th>1</th>\n",
       "      <td>Can I Live</td>\n",
       "      <td>rap</td>\n",
       "      <td>JAY-Z</td>\n",
       "      <td>1996</td>\n",
       "      <td>[yeah, hah, yeah, rocafella, invite, somethin,...</td>\n",
       "      <td>3</td>\n",
       "      <td>548</td>\n",
       "      <td>[yeah, hah, yeah, rocafella, invite, somethin,...</td>\n",
       "    </tr>\n",
       "    <tr>\n",
       "      <th>2</th>\n",
       "      <td>Forgive Me Father</td>\n",
       "      <td>rap</td>\n",
       "      <td>Fabolous</td>\n",
       "      <td>2003</td>\n",
       "      <td>[maybe, cause, im, eatin, bastards, fiend, gru...</td>\n",
       "      <td>4</td>\n",
       "      <td>574</td>\n",
       "      <td>[maybe, cause, im, eatin, bastard, fiend, grub...</td>\n",
       "    </tr>\n",
       "    <tr>\n",
       "      <th>3</th>\n",
       "      <td>Down and Out</td>\n",
       "      <td>rap</td>\n",
       "      <td>Cam'ron</td>\n",
       "      <td>2004</td>\n",
       "      <td>[ugh, killa, baby, kanye, 1970s, heron, flow, ...</td>\n",
       "      <td>5</td>\n",
       "      <td>760</td>\n",
       "      <td>[ugh, killa, baby, kanye, 1970s, heron, flow, ...</td>\n",
       "    </tr>\n",
       "    <tr>\n",
       "      <th>4</th>\n",
       "      <td>Fly In</td>\n",
       "      <td>rap</td>\n",
       "      <td>Lil Wayne</td>\n",
       "      <td>2005</td>\n",
       "      <td>[ask, young, boy, gon, second, time, around, g...</td>\n",
       "      <td>6</td>\n",
       "      <td>432</td>\n",
       "      <td>[ask, young, boy, gon, second, time, around, g...</td>\n",
       "    </tr>\n",
       "  </tbody>\n",
       "</table>\n",
       "</div>"
      ],
      "text/plain": [
       "               title  tag     artist  year   \n",
       "0          Killa Cam  rap    Cam'ron  2004  \\\n",
       "1         Can I Live  rap      JAY-Z  1996   \n",
       "2  Forgive Me Father  rap   Fabolous  2003   \n",
       "3       Down and Out  rap    Cam'ron  2004   \n",
       "4             Fly In  rap  Lil Wayne  2005   \n",
       "\n",
       "                                              lyrics  id  lyrics_word_count   \n",
       "0  [killa, cam, killa, cam, cam, killa, cam, kill...   1                762  \\\n",
       "1  [yeah, hah, yeah, rocafella, invite, somethin,...   3                548   \n",
       "2  [maybe, cause, im, eatin, bastards, fiend, gru...   4                574   \n",
       "3  [ugh, killa, baby, kanye, 1970s, heron, flow, ...   5                760   \n",
       "4  [ask, young, boy, gon, second, time, around, g...   6                432   \n",
       "\n",
       "                                   lemmatized_lyrics  \n",
       "0  [killa, cam, killa, cam, cam, killa, cam, kill...  \n",
       "1  [yeah, hah, yeah, rocafella, invite, somethin,...  \n",
       "2  [maybe, cause, im, eatin, bastard, fiend, grub...  \n",
       "3  [ugh, killa, baby, kanye, 1970s, heron, flow, ...  \n",
       "4  [ask, young, boy, gon, second, time, around, g...  "
      ]
     },
     "execution_count": 3,
     "metadata": {},
     "output_type": "execute_result"
    }
   ],
   "source": [
    "df.head()"
   ]
  },
  {
   "cell_type": "code",
   "execution_count": 5,
   "metadata": {},
   "outputs": [
    {
     "name": "stdout",
     "output_type": "stream",
     "text": [
      "              precision    recall  f1-score   support\n",
      "\n",
      "     country       0.33      0.17      0.23     25477\n",
      "         pop       0.65      0.49      0.56    430965\n",
      "         rap       0.83      0.79      0.81    298959\n",
      "          rb       0.24      0.34      0.28     47343\n",
      "        rock       0.40      0.62      0.48    191812\n",
      "\n",
      "    accuracy                           0.59    994556\n",
      "   macro avg       0.49      0.48      0.47    994556\n",
      "weighted avg       0.63      0.59      0.60    994556\n",
      "\n"
     ]
    }
   ],
   "source": [
    "#bow\n",
    "bow_report = nb_classification(df['lemmatized_lyrics'], df['tag'], vectorizer='bow')\n",
    "print(bow_report)\n"
   ]
  },
  {
   "cell_type": "code",
   "execution_count": 6,
   "metadata": {},
   "outputs": [
    {
     "name": "stdout",
     "output_type": "stream",
     "text": [
      "              precision    recall  f1-score   support\n",
      "\n",
      "     country       0.00      0.00      0.00     25477\n",
      "         pop       0.58      0.91      0.71    430965\n",
      "         rap       0.80      0.83      0.82    298959\n",
      "          rb       0.13      0.00      0.00     47343\n",
      "        rock       0.70      0.05      0.09    191812\n",
      "\n",
      "    accuracy                           0.65    994556\n",
      "   macro avg       0.44      0.36      0.32    994556\n",
      "weighted avg       0.63      0.65      0.57    994556\n",
      "\n"
     ]
    }
   ],
   "source": [
    "#tfidf\n",
    "tfidf_report = nb_classification(df['lemmatized_lyrics'], df['tag'], vectorizer='tfidf')\n",
    "print(tfidf_report)"
   ]
  },
  {
   "cell_type": "code",
   "execution_count": 7,
   "metadata": {},
   "outputs": [
    {
     "data": {
      "text/plain": [
       "0"
      ]
     },
     "execution_count": 7,
     "metadata": {},
     "output_type": "execute_result"
    }
   ],
   "source": [
    "# Collect garbage from RAM to prevent kernel from dying\n",
    "gc.collect()"
   ]
  },
  {
   "attachments": {},
   "cell_type": "markdown",
   "metadata": {},
   "source": [
    "## Word2Vec"
   ]
  },
  {
   "attachments": {},
   "cell_type": "markdown",
   "metadata": {},
   "source": [
    "### Building Average Vector Model"
   ]
  },
  {
   "cell_type": "code",
   "execution_count": null,
   "metadata": {},
   "outputs": [],
   "source": [
    "df = pd.read_pickle('/work/NLP/pkl_files/word2vec_tokenized.pkl')\n",
    "df.head()"
   ]
  },
  {
   "cell_type": "code",
   "execution_count": null,
   "metadata": {},
   "outputs": [],
   "source": [
    "# Train Word2Vec model on entire corpus of lyrics\n",
    "# Parameters set - individuals words must appear minimum of 5 times\n",
    "# Window set to 5 words distance \n",
    "# CBOW algorithm\n",
    "# Vector size = 100 \n",
    "\n",
    "w2v = Word2Vec(df['tokenized_lyrics'].to_list(), min_count=5, workers=-1, window=5)"
   ]
  },
  {
   "cell_type": "code",
   "execution_count": null,
   "metadata": {},
   "outputs": [],
   "source": [
    "# Iterate through songs/rows of df, check word exists in model vocab, if so find the vector\n",
    "# calculate the mean for each row and return the average vector representation for song\n",
    "df['word2vec_lyrics'] = df['tokenized_lyrics'].apply(lambda x: np.mean([w2v.wv[word] for word in x if word in w2v_model.wv.key_to_index], axis=0))\n"
   ]
  },
  {
   "cell_type": "code",
   "execution_count": null,
   "metadata": {},
   "outputs": [],
   "source": [
    "# A few NaN vectors materialise - remove\n",
    "df = df.dropna(subset=['word2vec_lyrics'])"
   ]
  },
  {
   "cell_type": "code",
   "execution_count": null,
   "metadata": {},
   "outputs": [],
   "source": [
    "# Visualising Word2Vec embeddings using subsample of all songs\n",
    "\n",
    "# Take a subsample with same number of songs per genre  \n",
    "df_sample = df.groupby('tag').apply(lambda x: x.sample(n=1000, replace=True)).reset_index(drop=True)\n",
    "\n",
    "# Extract the respective vectors\n",
    "vectors = np.array(df_sample['word2vec_lyrics'].tolist())\n",
    "\n",
    "# t-SNE reduces vectors from 100 dimensions to 2 \n",
    "tsne = TSNE(n_components=2, random_state=42)\n",
    "vectors_2d = tsne.fit_transform(vectors)\n",
    "\n",
    "plt.figure(figsize=(10, 10))\n",
    "scatter = plt.scatter(vectors_2d[:, 0], vectors_2d[:, 1], c=df_sample['tag'].astype('category').cat.codes, alpha=0.7)\n",
    "\n",
    "handles, labels = scatter.legend_elements(prop=\"colors\")\n",
    "plt.legend(handles, df_sample['tag'].astype('category').cat.categories, title=\"Genres\")\n",
    "\n",
    "plt.show()\n"
   ]
  },
  {
   "cell_type": "code",
   "execution_count": null,
   "metadata": {},
   "outputs": [],
   "source": [
    "# Visualising top 100 most frequently occured   \n",
    "\n",
    "top_words = w2v.wv.index_to_key[:100]\n",
    "word_vectors = np.array([w2v.wv[word] for word in top_words])\n",
    "\n",
    "# t-SNE reduces vectors from 100 dimensions to 2 \n",
    "tsne = TSNE(n_components=2, random_state=42)\n",
    "word_vectors_2d = tsne.fit_transform(word_vectors)\n",
    "\n",
    "plt.figure(figsize=(10, 10))\n",
    "plt.scatter(word_vectors_2d[:, 0], word_vectors_2d[:, 1])\n",
    "for word, (x, y) in zip(top_words, word_vectors_2d):\n",
    "    plt.annotate(word, (x, y))\n",
    "plt.show()\n"
   ]
  },
  {
   "attachments": {},
   "cell_type": "markdown",
   "metadata": {},
   "source": [
    "### Random Forest - Average Vector"
   ]
  },
  {
   "cell_type": "code",
   "execution_count": null,
   "metadata": {},
   "outputs": [],
   "source": [
    "rf_report = rf_classification(np.vstack(df['word2vec_lyrics'].values), df['tag'])\n",
    "print(rf_report)"
   ]
  },
  {
   "attachments": {},
   "cell_type": "markdown",
   "metadata": {},
   "source": [
    "## Word2Vec - Embedding Layer Model"
   ]
  },
  {
   "attachments": {},
   "cell_type": "markdown",
   "metadata": {},
   "source": []
  }
 ],
 "metadata": {
  "kernelspec": {
   "display_name": "Python 3",
   "language": "python",
   "name": "python3"
  },
  "language_info": {
   "codemirror_mode": {
    "name": "ipython",
    "version": 3
   },
   "file_extension": ".py",
   "mimetype": "text/x-python",
   "name": "python",
   "nbconvert_exporter": "python",
   "pygments_lexer": "ipython3",
   "version": "3.10.7"
  },
  "orig_nbformat": 4
 },
 "nbformat": 4,
 "nbformat_minor": 2
}
