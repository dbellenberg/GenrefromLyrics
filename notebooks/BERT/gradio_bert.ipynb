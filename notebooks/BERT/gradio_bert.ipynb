{
 "cells": [
  {
   "cell_type": "code",
   "execution_count": 31,
   "metadata": {},
   "outputs": [
    {
     "name": "stderr",
     "output_type": "stream",
     "text": [
      "Downloading (…)solve/main/vocab.txt: 100%|██████████| 232k/232k [00:00<00:00, 2.21MB/s]\n",
      "Downloading (…)okenizer_config.json: 100%|██████████| 28.0/28.0 [00:00<00:00, 44.8kB/s]\n",
      "Downloading (…)lve/main/config.json: 100%|██████████| 570/570 [00:00<00:00, 944kB/s]\n"
     ]
    },
    {
     "ename": "NameError",
     "evalue": "name 'number_of_genres' is not defined",
     "output_type": "error",
     "traceback": [
      "\u001b[0;31m---------------------------------------------------------------------------\u001b[0m",
      "\u001b[0;31mNameError\u001b[0m                                 Traceback (most recent call last)",
      "Cell \u001b[0;32mIn[31], line 7\u001b[0m\n\u001b[1;32m      5\u001b[0m \u001b[39m# Load BERT model and tokenizer\u001b[39;00m\n\u001b[1;32m      6\u001b[0m tokenizer \u001b[39m=\u001b[39m BertTokenizer\u001b[39m.\u001b[39mfrom_pretrained(\u001b[39m'\u001b[39m\u001b[39mbert-base-uncased\u001b[39m\u001b[39m'\u001b[39m)\n\u001b[0;32m----> 7\u001b[0m model \u001b[39m=\u001b[39m BertForSequenceClassification\u001b[39m.\u001b[39mfrom_pretrained(\u001b[39m'\u001b[39m\u001b[39m/work/NLP_Project/GenreFromLyricsShared/\u001b[39m\u001b[39m'\u001b[39m, num_labels\u001b[39m=\u001b[39mnumber_of_genres)  \u001b[39m# specify the number of genres\u001b[39;00m\n\u001b[1;32m      9\u001b[0m \u001b[39mdef\u001b[39;00m \u001b[39mpreprocess\u001b[39m(lyrics):\n\u001b[1;32m     10\u001b[0m     \u001b[39mreturn\u001b[39;00m tokenizer\u001b[39m.\u001b[39mencode_plus(lyrics, return_tensors\u001b[39m=\u001b[39m\u001b[39m'\u001b[39m\u001b[39mpt\u001b[39m\u001b[39m'\u001b[39m, truncation\u001b[39m=\u001b[39m\u001b[39mTrue\u001b[39;00m, padding\u001b[39m=\u001b[39m\u001b[39mTrue\u001b[39;00m)\n",
      "\u001b[0;31mNameError\u001b[0m: name 'number_of_genres' is not defined"
     ]
    }
   ],
   "source": [
    "\n",
    "import numpy as np\n",
    "import nltk\n",
    "nltk.download('punkt')\n",
    "from nltk.corpus import stopwords\n",
    "import string\n",
    "from gensim.models import Word2Vec\n",
    "import joblib\n",
    "import re\n",
    "import gradio as gr\n",
    "\n",
    "\n",
    "def predict_genre(Artist, Title, Lyrics, File):\n",
    "    # Preprocess the lyrics\n",
    "    vector = preprocess(lyrics)\n",
    "\n",
    "    # Reshape the vector to 2D array as the model.predict expects 2D array\n",
    "    vector = vector.reshape(1, -1)\n",
    "\n",
    "    # Load the trained Random Forest Classifier\n",
    "    clf = joblib.load('/work/NLP_Project/GenreFromLyricsShared/random_forest.sav')\n",
    "\n",
    "    # Get the probabilities of each class\n",
    "    probabilities = clf.predict_proba(vector)[0]\n",
    "\n",
    "    # Map each probability with the corresponding genre\n",
    "    genres = clf.classes_\n",
    "    result = {genre: prob for genre, prob in zip(genres, probabilities)}\n",
    "\n",
    "    return result\n",
    "\n",
    "\n",
    "\n",
    "description = '<img src=\"https://storage.googleapis.com/pr-newsroom-wp/1/2018/11/Spotify_Logo_CMYK_Green.png\" alt=\"Spotify Logo\">'\n",
    "\n",
    "iface = gr.Interface(\n",
    "    fn=predict_genre,\n",
    "    inputs=[\n",
    "        gr.inputs.Textbox(lines=1, placeholder='Artist Here...'),\n",
    "        gr.inputs.Textbox(lines=1, placeholder='Title Here...'),\n",
    "        gr.inputs.Textbox(lines=4, placeholder='Lyrics Here...'),\n",
    "        #gr.inputs.File()\n",
    "    ],\n",
    "    outputs=gr.outputs.Label(label=\"Genre Suggestion\"),\n",
    "    description=description\n",
    ")\n",
    "iface.launch(debug=True, share=True)\n",
    "\n"
   ]
  }
 ],
 "metadata": {
  "kernelspec": {
   "display_name": "Python 3",
   "language": "python",
   "name": "python3"
  },
  "language_info": {
   "codemirror_mode": {
    "name": "ipython",
    "version": 3
   },
   "file_extension": ".py",
   "mimetype": "text/x-python",
   "name": "python",
   "nbconvert_exporter": "python",
   "pygments_lexer": "ipython3",
   "version": "3.10.7"
  },
  "orig_nbformat": 4
 },
 "nbformat": 4,
 "nbformat_minor": 2
}
