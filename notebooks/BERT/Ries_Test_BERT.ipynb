{
  "cells": [
    {
      "cell_type": "code",
      "execution_count": 1,
      "metadata": {},
      "outputs": [
        {
          "name": "stdout",
          "output_type": "stream",
          "text": [
            "Defaulting to user installation because normal site-packages is not writeable\n",
            "Requirement already satisfied: pandas==2.0.1 in /home/ucloud/.local/lib/python3.10/site-packages (from -r requirements_bert.txt (line 1)) (2.0.1)\n",
            "Requirement already satisfied: numpy==1.24.3 in /home/ucloud/.local/lib/python3.10/site-packages (from -r requirements_bert.txt (line 2)) (1.24.3)\n",
            "Requirement already satisfied: matplotlib==3.7.1 in /home/ucloud/.local/lib/python3.10/site-packages (from -r requirements_bert.txt (line 3)) (3.7.1)\n",
            "Requirement already satisfied: tqdm==4.65.0 in /home/ucloud/.local/lib/python3.10/site-packages (from -r requirements_bert.txt (line 4)) (4.65.0)\n",
            "Requirement already satisfied: fasttext==0.9.2 in /home/ucloud/.local/lib/python3.10/site-packages (from -r requirements_bert.txt (line 5)) (0.9.2)\n",
            "Requirement already satisfied: seaborn==0.12.2 in /home/ucloud/.local/lib/python3.10/site-packages (from -r requirements_bert.txt (line 6)) (0.12.2)\n",
            "Requirement already satisfied: nltk==3.8.1 in /home/ucloud/.local/lib/python3.10/site-packages (from -r requirements_bert.txt (line 7)) (3.8.1)\n",
            "Requirement already satisfied: scikit-learn==1.2.2 in /home/ucloud/.local/lib/python3.10/site-packages (from -r requirements_bert.txt (line 8)) (1.2.2)\n",
            "Requirement already satisfied: torch in /home/ucloud/.local/lib/python3.10/site-packages (from -r requirements_bert.txt (line 9)) (2.0.1)\n",
            "Requirement already satisfied: transformers in /home/ucloud/.local/lib/python3.10/site-packages (from -r requirements_bert.txt (line 10)) (4.29.2)\n",
            "Requirement already satisfied: pytorch_lightning in /home/ucloud/.local/lib/python3.10/site-packages (from -r requirements_bert.txt (line 11)) (2.0.2)\n",
            "Requirement already satisfied: python-dateutil>=2.8.2 in /home/ucloud/.local/lib/python3.10/site-packages (from pandas==2.0.1->-r requirements_bert.txt (line 1)) (2.8.2)\n",
            "Requirement already satisfied: pytz>=2020.1 in /home/ucloud/.local/lib/python3.10/site-packages (from pandas==2.0.1->-r requirements_bert.txt (line 1)) (2023.3)\n",
            "Requirement already satisfied: tzdata>=2022.1 in /home/ucloud/.local/lib/python3.10/site-packages (from pandas==2.0.1->-r requirements_bert.txt (line 1)) (2023.3)\n",
            "Requirement already satisfied: contourpy>=1.0.1 in /home/ucloud/.local/lib/python3.10/site-packages (from matplotlib==3.7.1->-r requirements_bert.txt (line 3)) (1.0.7)\n",
            "Requirement already satisfied: cycler>=0.10 in /home/ucloud/.local/lib/python3.10/site-packages (from matplotlib==3.7.1->-r requirements_bert.txt (line 3)) (0.11.0)\n",
            "Requirement already satisfied: fonttools>=4.22.0 in /home/ucloud/.local/lib/python3.10/site-packages (from matplotlib==3.7.1->-r requirements_bert.txt (line 3)) (4.39.4)\n",
            "Requirement already satisfied: kiwisolver>=1.0.1 in /home/ucloud/.local/lib/python3.10/site-packages (from matplotlib==3.7.1->-r requirements_bert.txt (line 3)) (1.4.4)\n",
            "Requirement already satisfied: packaging>=20.0 in /home/ucloud/.local/lib/python3.10/site-packages (from matplotlib==3.7.1->-r requirements_bert.txt (line 3)) (23.1)\n",
            "Requirement already satisfied: pillow>=6.2.0 in /home/ucloud/.local/lib/python3.10/site-packages (from matplotlib==3.7.1->-r requirements_bert.txt (line 3)) (9.5.0)\n",
            "Requirement already satisfied: pyparsing>=2.3.1 in /usr/lib/python3/dist-packages (from matplotlib==3.7.1->-r requirements_bert.txt (line 3)) (3.0.7)\n",
            "Requirement already satisfied: pybind11>=2.2 in /home/ucloud/.local/lib/python3.10/site-packages (from fasttext==0.9.2->-r requirements_bert.txt (line 5)) (2.10.4)\n",
            "Requirement already satisfied: setuptools>=0.7.0 in /usr/lib/python3/dist-packages (from fasttext==0.9.2->-r requirements_bert.txt (line 5)) (59.6.0)\n",
            "Requirement already satisfied: click in /usr/lib/python3/dist-packages (from nltk==3.8.1->-r requirements_bert.txt (line 7)) (8.0.3)\n",
            "Requirement already satisfied: joblib in /home/ucloud/.local/lib/python3.10/site-packages (from nltk==3.8.1->-r requirements_bert.txt (line 7)) (1.2.0)\n",
            "Requirement already satisfied: regex>=2021.8.3 in /home/ucloud/.local/lib/python3.10/site-packages (from nltk==3.8.1->-r requirements_bert.txt (line 7)) (2023.5.5)\n",
            "Requirement already satisfied: scipy>=1.3.2 in /home/ucloud/.local/lib/python3.10/site-packages (from scikit-learn==1.2.2->-r requirements_bert.txt (line 8)) (1.10.1)\n",
            "Requirement already satisfied: threadpoolctl>=2.0.0 in /home/ucloud/.local/lib/python3.10/site-packages (from scikit-learn==1.2.2->-r requirements_bert.txt (line 8)) (3.1.0)\n",
            "Requirement already satisfied: filelock in /home/ucloud/.local/lib/python3.10/site-packages (from torch->-r requirements_bert.txt (line 9)) (3.12.0)\n",
            "Requirement already satisfied: typing-extensions in /home/ucloud/.local/lib/python3.10/site-packages (from torch->-r requirements_bert.txt (line 9)) (4.6.1)\n",
            "Requirement already satisfied: sympy in /home/ucloud/.local/lib/python3.10/site-packages (from torch->-r requirements_bert.txt (line 9)) (1.12)\n",
            "Requirement already satisfied: networkx in /home/ucloud/.local/lib/python3.10/site-packages (from torch->-r requirements_bert.txt (line 9)) (3.1)\n",
            "Requirement already satisfied: jinja2 in /home/ucloud/.local/lib/python3.10/site-packages (from torch->-r requirements_bert.txt (line 9)) (3.1.2)\n",
            "Requirement already satisfied: nvidia-cuda-nvrtc-cu11==11.7.99 in /home/ucloud/.local/lib/python3.10/site-packages (from torch->-r requirements_bert.txt (line 9)) (11.7.99)\n",
            "Requirement already satisfied: nvidia-cuda-runtime-cu11==11.7.99 in /home/ucloud/.local/lib/python3.10/site-packages (from torch->-r requirements_bert.txt (line 9)) (11.7.99)\n",
            "Requirement already satisfied: nvidia-cuda-cupti-cu11==11.7.101 in /home/ucloud/.local/lib/python3.10/site-packages (from torch->-r requirements_bert.txt (line 9)) (11.7.101)\n",
            "Requirement already satisfied: nvidia-cudnn-cu11==8.5.0.96 in /home/ucloud/.local/lib/python3.10/site-packages (from torch->-r requirements_bert.txt (line 9)) (8.5.0.96)\n",
            "Requirement already satisfied: nvidia-cublas-cu11==11.10.3.66 in /home/ucloud/.local/lib/python3.10/site-packages (from torch->-r requirements_bert.txt (line 9)) (11.10.3.66)\n",
            "Requirement already satisfied: nvidia-cufft-cu11==10.9.0.58 in /home/ucloud/.local/lib/python3.10/site-packages (from torch->-r requirements_bert.txt (line 9)) (10.9.0.58)\n",
            "Requirement already satisfied: nvidia-curand-cu11==10.2.10.91 in /home/ucloud/.local/lib/python3.10/site-packages (from torch->-r requirements_bert.txt (line 9)) (10.2.10.91)\n",
            "Requirement already satisfied: nvidia-cusolver-cu11==11.4.0.1 in /home/ucloud/.local/lib/python3.10/site-packages (from torch->-r requirements_bert.txt (line 9)) (11.4.0.1)\n",
            "Requirement already satisfied: nvidia-cusparse-cu11==11.7.4.91 in /home/ucloud/.local/lib/python3.10/site-packages (from torch->-r requirements_bert.txt (line 9)) (11.7.4.91)\n",
            "Requirement already satisfied: nvidia-nccl-cu11==2.14.3 in /home/ucloud/.local/lib/python3.10/site-packages (from torch->-r requirements_bert.txt (line 9)) (2.14.3)\n",
            "Requirement already satisfied: nvidia-nvtx-cu11==11.7.91 in /home/ucloud/.local/lib/python3.10/site-packages (from torch->-r requirements_bert.txt (line 9)) (11.7.91)\n",
            "Requirement already satisfied: triton==2.0.0 in /home/ucloud/.local/lib/python3.10/site-packages (from torch->-r requirements_bert.txt (line 9)) (2.0.0)\n",
            "Requirement already satisfied: wheel in /usr/lib/python3/dist-packages (from nvidia-cublas-cu11==11.10.3.66->torch->-r requirements_bert.txt (line 9)) (0.37.1)\n",
            "Requirement already satisfied: cmake in /home/ucloud/.local/lib/python3.10/site-packages (from triton==2.0.0->torch->-r requirements_bert.txt (line 9)) (3.26.3)\n",
            "Requirement already satisfied: lit in /home/ucloud/.local/lib/python3.10/site-packages (from triton==2.0.0->torch->-r requirements_bert.txt (line 9)) (16.0.5)\n",
            "Requirement already satisfied: huggingface-hub<1.0,>=0.14.1 in /home/ucloud/.local/lib/python3.10/site-packages (from transformers->-r requirements_bert.txt (line 10)) (0.14.1)\n",
            "Requirement already satisfied: pyyaml>=5.1 in /home/ucloud/.local/lib/python3.10/site-packages (from transformers->-r requirements_bert.txt (line 10)) (6.0)\n",
            "Requirement already satisfied: requests in /home/ucloud/.local/lib/python3.10/site-packages (from transformers->-r requirements_bert.txt (line 10)) (2.31.0)\n",
            "Requirement already satisfied: tokenizers!=0.11.3,<0.14,>=0.11.1 in /home/ucloud/.local/lib/python3.10/site-packages (from transformers->-r requirements_bert.txt (line 10)) (0.13.3)\n",
            "Requirement already satisfied: fsspec[http]>2021.06.0 in /home/ucloud/.local/lib/python3.10/site-packages (from pytorch_lightning->-r requirements_bert.txt (line 11)) (2023.5.0)\n",
            "Requirement already satisfied: torchmetrics>=0.7.0 in /home/ucloud/.local/lib/python3.10/site-packages (from pytorch_lightning->-r requirements_bert.txt (line 11)) (0.11.4)\n",
            "Requirement already satisfied: lightning-utilities>=0.7.0 in /home/ucloud/.local/lib/python3.10/site-packages (from pytorch_lightning->-r requirements_bert.txt (line 11)) (0.8.0)\n",
            "Requirement already satisfied: aiohttp!=4.0.0a0,!=4.0.0a1 in /home/ucloud/.local/lib/python3.10/site-packages (from fsspec[http]>2021.06.0->pytorch_lightning->-r requirements_bert.txt (line 11)) (3.8.4)\n",
            "Requirement already satisfied: six>=1.5 in /usr/lib/python3/dist-packages (from python-dateutil>=2.8.2->pandas==2.0.1->-r requirements_bert.txt (line 1)) (1.16.0)\n",
            "Requirement already satisfied: MarkupSafe>=2.0 in /home/ucloud/.local/lib/python3.10/site-packages (from jinja2->torch->-r requirements_bert.txt (line 9)) (2.1.2)\n",
            "Requirement already satisfied: charset-normalizer<4,>=2 in /home/ucloud/.local/lib/python3.10/site-packages (from requests->transformers->-r requirements_bert.txt (line 10)) (3.1.0)\n",
            "Requirement already satisfied: idna<4,>=2.5 in /home/ucloud/.local/lib/python3.10/site-packages (from requests->transformers->-r requirements_bert.txt (line 10)) (3.4)\n",
            "Requirement already satisfied: urllib3<3,>=1.21.1 in /home/ucloud/.local/lib/python3.10/site-packages (from requests->transformers->-r requirements_bert.txt (line 10)) (2.0.2)\n",
            "Requirement already satisfied: certifi>=2017.4.17 in /home/ucloud/.local/lib/python3.10/site-packages (from requests->transformers->-r requirements_bert.txt (line 10)) (2023.5.7)\n",
            "Requirement already satisfied: mpmath>=0.19 in /home/ucloud/.local/lib/python3.10/site-packages (from sympy->torch->-r requirements_bert.txt (line 9)) (1.3.0)\n",
            "Requirement already satisfied: attrs>=17.3.0 in /home/ucloud/.local/lib/python3.10/site-packages (from aiohttp!=4.0.0a0,!=4.0.0a1->fsspec[http]>2021.06.0->pytorch_lightning->-r requirements_bert.txt (line 11)) (23.1.0)\n",
            "Requirement already satisfied: multidict<7.0,>=4.5 in /home/ucloud/.local/lib/python3.10/site-packages (from aiohttp!=4.0.0a0,!=4.0.0a1->fsspec[http]>2021.06.0->pytorch_lightning->-r requirements_bert.txt (line 11)) (6.0.4)\n",
            "Requirement already satisfied: async-timeout<5.0,>=4.0.0a3 in /home/ucloud/.local/lib/python3.10/site-packages (from aiohttp!=4.0.0a0,!=4.0.0a1->fsspec[http]>2021.06.0->pytorch_lightning->-r requirements_bert.txt (line 11)) (4.0.2)\n",
            "Requirement already satisfied: yarl<2.0,>=1.0 in /home/ucloud/.local/lib/python3.10/site-packages (from aiohttp!=4.0.0a0,!=4.0.0a1->fsspec[http]>2021.06.0->pytorch_lightning->-r requirements_bert.txt (line 11)) (1.9.2)\n",
            "Requirement already satisfied: frozenlist>=1.1.1 in /home/ucloud/.local/lib/python3.10/site-packages (from aiohttp!=4.0.0a0,!=4.0.0a1->fsspec[http]>2021.06.0->pytorch_lightning->-r requirements_bert.txt (line 11)) (1.3.3)\n",
            "Requirement already satisfied: aiosignal>=1.1.2 in /home/ucloud/.local/lib/python3.10/site-packages (from aiohttp!=4.0.0a0,!=4.0.0a1->fsspec[http]>2021.06.0->pytorch_lightning->-r requirements_bert.txt (line 11)) (1.3.1)\n"
          ]
        }
      ],
      "source": [
        "! pip install -r requirements_bert.txt"
      ]
    },
    {
      "cell_type": "code",
      "execution_count": 1,
      "metadata": {
        "id": "yrOcTixveomR"
      },
      "outputs": [],
      "source": [
        "import pandas as pd  \n",
        "from sklearn.preprocessing import LabelEncoder\n",
        "from sklearn.model_selection import train_test_split\n",
        "from sklearn.metrics import classification_report\n",
        "import torch\n",
        "from matplotlib import pyplot as plt"
      ]
    },
    {
      "cell_type": "code",
      "execution_count": 2,
      "metadata": {
        "id": "sKgtWIxherlL"
      },
      "outputs": [],
      "source": [
        "# Load BERT data\n",
        "df = pd.read_pickle('/work/NLP/pkl_files_test/20230524_BERT.pkl')"
      ]
    },
    {
      "cell_type": "code",
      "execution_count": 3,
      "metadata": {
        "colab": {
          "base_uri": "https://localhost:8080/",
          "height": 206
        },
        "id": "BLXd8d7perij",
        "outputId": "7993452d-d15b-485d-a56d-2cab4c288aab"
      },
      "outputs": [
        {
          "data": {
            "text/html": [
              "<div>\n",
              "<style scoped>\n",
              "    .dataframe tbody tr th:only-of-type {\n",
              "        vertical-align: middle;\n",
              "    }\n",
              "\n",
              "    .dataframe tbody tr th {\n",
              "        vertical-align: top;\n",
              "    }\n",
              "\n",
              "    .dataframe thead th {\n",
              "        text-align: right;\n",
              "    }\n",
              "</style>\n",
              "<table border=\"1\" class=\"dataframe\">\n",
              "  <thead>\n",
              "    <tr style=\"text-align: right;\">\n",
              "      <th></th>\n",
              "      <th>title</th>\n",
              "      <th>tag</th>\n",
              "      <th>artist</th>\n",
              "      <th>year</th>\n",
              "      <th>lyrics</th>\n",
              "      <th>id</th>\n",
              "      <th>lyrics_word_count</th>\n",
              "    </tr>\n",
              "  </thead>\n",
              "  <tbody>\n",
              "    <tr>\n",
              "      <th>0</th>\n",
              "      <td>Killa Cam</td>\n",
              "      <td>rap</td>\n",
              "      <td>Cam'ron</td>\n",
              "      <td>2004</td>\n",
              "      <td>Killa Cam, Killa Cam, Cam Killa Cam, Killa Cam...</td>\n",
              "      <td>1</td>\n",
              "      <td>762</td>\n",
              "    </tr>\n",
              "    <tr>\n",
              "      <th>1</th>\n",
              "      <td>Can I Live</td>\n",
              "      <td>rap</td>\n",
              "      <td>JAY-Z</td>\n",
              "      <td>1996</td>\n",
              "      <td>Yeah, hah, yeah, Roc-A-Fella We invite you to ...</td>\n",
              "      <td>3</td>\n",
              "      <td>548</td>\n",
              "    </tr>\n",
              "    <tr>\n",
              "      <th>2</th>\n",
              "      <td>Forgive Me Father</td>\n",
              "      <td>rap</td>\n",
              "      <td>Fabolous</td>\n",
              "      <td>2003</td>\n",
              "      <td>Maybe cause I'm eatin And these bastards fiend...</td>\n",
              "      <td>4</td>\n",
              "      <td>574</td>\n",
              "    </tr>\n",
              "    <tr>\n",
              "      <th>3</th>\n",
              "      <td>Down and Out</td>\n",
              "      <td>rap</td>\n",
              "      <td>Cam'ron</td>\n",
              "      <td>2004</td>\n",
              "      <td>Ugh, Killa! Baby! Kanye, this that 1970s Heron...</td>\n",
              "      <td>5</td>\n",
              "      <td>760</td>\n",
              "    </tr>\n",
              "    <tr>\n",
              "      <th>4</th>\n",
              "      <td>Fly In</td>\n",
              "      <td>rap</td>\n",
              "      <td>Lil Wayne</td>\n",
              "      <td>2005</td>\n",
              "      <td>So they ask me \"Young boy What you gon' do the...</td>\n",
              "      <td>6</td>\n",
              "      <td>432</td>\n",
              "    </tr>\n",
              "  </tbody>\n",
              "</table>\n",
              "</div>"
            ],
            "text/plain": [
              "               title  tag     artist  year   \n",
              "0          Killa Cam  rap    Cam'ron  2004  \\\n",
              "1         Can I Live  rap      JAY-Z  1996   \n",
              "2  Forgive Me Father  rap   Fabolous  2003   \n",
              "3       Down and Out  rap    Cam'ron  2004   \n",
              "4             Fly In  rap  Lil Wayne  2005   \n",
              "\n",
              "                                              lyrics  id  lyrics_word_count  \n",
              "0  Killa Cam, Killa Cam, Cam Killa Cam, Killa Cam...   1                762  \n",
              "1  Yeah, hah, yeah, Roc-A-Fella We invite you to ...   3                548  \n",
              "2  Maybe cause I'm eatin And these bastards fiend...   4                574  \n",
              "3  Ugh, Killa! Baby! Kanye, this that 1970s Heron...   5                760  \n",
              "4  So they ask me \"Young boy What you gon' do the...   6                432  "
            ]
          },
          "execution_count": 3,
          "metadata": {},
          "output_type": "execute_result"
        }
      ],
      "source": [
        "df.head()"
      ]
    },
    {
      "cell_type": "code",
      "execution_count": 10,
      "metadata": {
        "id": "YOmKUOxdergE"
      },
      "outputs": [],
      "source": [
        "# Generate Subset\n",
        "sample_size = 10000\n",
        "df_sub = df.groupby('tag').apply(lambda x: x.sample(n=sample_size, random_state=1)).reset_index(drop=True)"
      ]
    },
    {
      "cell_type": "code",
      "execution_count": 11,
      "metadata": {
        "colab": {
          "base_uri": "https://localhost:8080/"
        },
        "id": "XFMroijuerbP",
        "outputId": "1f38e5c5-6330-449a-ba98-0ffc18f4a838"
      },
      "outputs": [
        {
          "data": {
            "text/plain": [
              "50000"
            ]
          },
          "execution_count": 11,
          "metadata": {},
          "output_type": "execute_result"
        }
      ],
      "source": [
        "len(df_sub)"
      ]
    },
    {
      "cell_type": "code",
      "execution_count": 12,
      "metadata": {
        "colab": {
          "base_uri": "https://localhost:8080/",
          "height": 206
        },
        "id": "sqQFavvwerSc",
        "outputId": "79169ecb-edff-4399-9a9f-92efdf6456f4"
      },
      "outputs": [
        {
          "data": {
            "text/html": [
              "<div>\n",
              "<style scoped>\n",
              "    .dataframe tbody tr th:only-of-type {\n",
              "        vertical-align: middle;\n",
              "    }\n",
              "\n",
              "    .dataframe tbody tr th {\n",
              "        vertical-align: top;\n",
              "    }\n",
              "\n",
              "    .dataframe thead th {\n",
              "        text-align: right;\n",
              "    }\n",
              "</style>\n",
              "<table border=\"1\" class=\"dataframe\">\n",
              "  <thead>\n",
              "    <tr style=\"text-align: right;\">\n",
              "      <th></th>\n",
              "      <th>title</th>\n",
              "      <th>tag</th>\n",
              "      <th>artist</th>\n",
              "      <th>year</th>\n",
              "      <th>lyrics</th>\n",
              "      <th>id</th>\n",
              "      <th>lyrics_word_count</th>\n",
              "    </tr>\n",
              "  </thead>\n",
              "  <tbody>\n",
              "    <tr>\n",
              "      <th>0</th>\n",
              "      <td>No More</td>\n",
              "      <td>country</td>\n",
              "      <td>Brandon Jenkins</td>\n",
              "      <td>2011</td>\n",
              "      <td>I graduated school and set out my way To the w...</td>\n",
              "      <td>857688</td>\n",
              "      <td>277</td>\n",
              "    </tr>\n",
              "    <tr>\n",
              "      <th>1</th>\n",
              "      <td>Shes Crazy for Leaving</td>\n",
              "      <td>country</td>\n",
              "      <td>Guy Clark</td>\n",
              "      <td>2015</td>\n",
              "      <td>Well the bus pulled away In a roaring black cl...</td>\n",
              "      <td>675197</td>\n",
              "      <td>186</td>\n",
              "    </tr>\n",
              "    <tr>\n",
              "      <th>2</th>\n",
              "      <td>On the One Road</td>\n",
              "      <td>country</td>\n",
              "      <td>Musical Blades</td>\n",
              "      <td>2020</td>\n",
              "      <td>We're on the one road Sharing the one load We'...</td>\n",
              "      <td>6013368</td>\n",
              "      <td>266</td>\n",
              "    </tr>\n",
              "    <tr>\n",
              "      <th>3</th>\n",
              "      <td>Wisdom Of A Fool</td>\n",
              "      <td>country</td>\n",
              "      <td>Jacky Ward</td>\n",
              "      <td>1978</td>\n",
              "      <td>If you're lucky enough To have someone who lov...</td>\n",
              "      <td>2962678</td>\n",
              "      <td>155</td>\n",
              "    </tr>\n",
              "    <tr>\n",
              "      <th>4</th>\n",
              "      <td>Same Ol Story</td>\n",
              "      <td>country</td>\n",
              "      <td>Rhett Akins</td>\n",
              "      <td>1995</td>\n",
              "      <td>You let him by with another line again And oh ...</td>\n",
              "      <td>1208546</td>\n",
              "      <td>190</td>\n",
              "    </tr>\n",
              "  </tbody>\n",
              "</table>\n",
              "</div>"
            ],
            "text/plain": [
              "                    title      tag           artist  year   \n",
              "0                 No More  country  Brandon Jenkins  2011  \\\n",
              "1  Shes Crazy for Leaving  country        Guy Clark  2015   \n",
              "2         On the One Road  country   Musical Blades  2020   \n",
              "3        Wisdom Of A Fool  country       Jacky Ward  1978   \n",
              "4           Same Ol Story  country      Rhett Akins  1995   \n",
              "\n",
              "                                              lyrics       id   \n",
              "0  I graduated school and set out my way To the w...   857688  \\\n",
              "1  Well the bus pulled away In a roaring black cl...   675197   \n",
              "2  We're on the one road Sharing the one load We'...  6013368   \n",
              "3  If you're lucky enough To have someone who lov...  2962678   \n",
              "4  You let him by with another line again And oh ...  1208546   \n",
              "\n",
              "   lyrics_word_count  \n",
              "0                277  \n",
              "1                186  \n",
              "2                266  \n",
              "3                155  \n",
              "4                190  "
            ]
          },
          "execution_count": 12,
          "metadata": {},
          "output_type": "execute_result"
        }
      ],
      "source": [
        "df_sub.head()"
      ]
    },
    {
      "cell_type": "code",
      "execution_count": 4,
      "metadata": {
        "id": "iwkiG_I1a7IF"
      },
      "outputs": [],
      "source": [
        "df_sub = df.copy()"
      ]
    },
    {
      "cell_type": "code",
      "execution_count": 5,
      "metadata": {
        "id": "8ahUQVsfe5o5"
      },
      "outputs": [],
      "source": [
        "# Create an instance of LabelEncoder\n",
        "label_encoder = LabelEncoder()\n",
        "\n",
        "# Assuming your DataFrame is called df and 'tag' is the column you want to encode\n",
        "tags = df_sub['tag']\n",
        "\n",
        "# Fit the label encoder on the tags and transform the tags column\n",
        "encoded_tags = label_encoder.fit_transform(tags)\n",
        "\n",
        "# Replace the original 'tag' column with the encoded values\n",
        "df_sub['tag'] = encoded_tags"
      ]
    },
    {
      "cell_type": "code",
      "execution_count": 6,
      "metadata": {
        "colab": {
          "base_uri": "https://localhost:8080/",
          "height": 206
        },
        "id": "s98-X78HOE_I",
        "outputId": "40c5510c-c75b-4180-9a07-c6afa97cdb36"
      },
      "outputs": [
        {
          "data": {
            "text/html": [
              "<div>\n",
              "<style scoped>\n",
              "    .dataframe tbody tr th:only-of-type {\n",
              "        vertical-align: middle;\n",
              "    }\n",
              "\n",
              "    .dataframe tbody tr th {\n",
              "        vertical-align: top;\n",
              "    }\n",
              "\n",
              "    .dataframe thead th {\n",
              "        text-align: right;\n",
              "    }\n",
              "</style>\n",
              "<table border=\"1\" class=\"dataframe\">\n",
              "  <thead>\n",
              "    <tr style=\"text-align: right;\">\n",
              "      <th></th>\n",
              "      <th>title</th>\n",
              "      <th>tag</th>\n",
              "      <th>artist</th>\n",
              "      <th>year</th>\n",
              "      <th>lyrics</th>\n",
              "      <th>id</th>\n",
              "      <th>lyrics_word_count</th>\n",
              "    </tr>\n",
              "  </thead>\n",
              "  <tbody>\n",
              "    <tr>\n",
              "      <th>0</th>\n",
              "      <td>Killa Cam</td>\n",
              "      <td>2</td>\n",
              "      <td>Cam'ron</td>\n",
              "      <td>2004</td>\n",
              "      <td>Killa Cam, Killa Cam, Cam Killa Cam, Killa Cam...</td>\n",
              "      <td>1</td>\n",
              "      <td>762</td>\n",
              "    </tr>\n",
              "    <tr>\n",
              "      <th>1</th>\n",
              "      <td>Can I Live</td>\n",
              "      <td>2</td>\n",
              "      <td>JAY-Z</td>\n",
              "      <td>1996</td>\n",
              "      <td>Yeah, hah, yeah, Roc-A-Fella We invite you to ...</td>\n",
              "      <td>3</td>\n",
              "      <td>548</td>\n",
              "    </tr>\n",
              "    <tr>\n",
              "      <th>2</th>\n",
              "      <td>Forgive Me Father</td>\n",
              "      <td>2</td>\n",
              "      <td>Fabolous</td>\n",
              "      <td>2003</td>\n",
              "      <td>Maybe cause I'm eatin And these bastards fiend...</td>\n",
              "      <td>4</td>\n",
              "      <td>574</td>\n",
              "    </tr>\n",
              "    <tr>\n",
              "      <th>3</th>\n",
              "      <td>Down and Out</td>\n",
              "      <td>2</td>\n",
              "      <td>Cam'ron</td>\n",
              "      <td>2004</td>\n",
              "      <td>Ugh, Killa! Baby! Kanye, this that 1970s Heron...</td>\n",
              "      <td>5</td>\n",
              "      <td>760</td>\n",
              "    </tr>\n",
              "    <tr>\n",
              "      <th>4</th>\n",
              "      <td>Fly In</td>\n",
              "      <td>2</td>\n",
              "      <td>Lil Wayne</td>\n",
              "      <td>2005</td>\n",
              "      <td>So they ask me \"Young boy What you gon' do the...</td>\n",
              "      <td>6</td>\n",
              "      <td>432</td>\n",
              "    </tr>\n",
              "  </tbody>\n",
              "</table>\n",
              "</div>"
            ],
            "text/plain": [
              "               title  tag     artist  year   \n",
              "0          Killa Cam    2    Cam'ron  2004  \\\n",
              "1         Can I Live    2      JAY-Z  1996   \n",
              "2  Forgive Me Father    2   Fabolous  2003   \n",
              "3       Down and Out    2    Cam'ron  2004   \n",
              "4             Fly In    2  Lil Wayne  2005   \n",
              "\n",
              "                                              lyrics  id  lyrics_word_count  \n",
              "0  Killa Cam, Killa Cam, Cam Killa Cam, Killa Cam...   1                762  \n",
              "1  Yeah, hah, yeah, Roc-A-Fella We invite you to ...   3                548  \n",
              "2  Maybe cause I'm eatin And these bastards fiend...   4                574  \n",
              "3  Ugh, Killa! Baby! Kanye, this that 1970s Heron...   5                760  \n",
              "4  So they ask me \"Young boy What you gon' do the...   6                432  "
            ]
          },
          "execution_count": 6,
          "metadata": {},
          "output_type": "execute_result"
        }
      ],
      "source": [
        "df_sub.head()"
      ]
    },
    {
      "cell_type": "code",
      "execution_count": 7,
      "metadata": {
        "id": "xMGG0Bnme5mf"
      },
      "outputs": [],
      "source": [
        "# Split into train and test sets, with stratifying\n",
        "X_train, X_temp, y_train, y_temp = train_test_split(df_sub['lyrics'], df_sub['tag'], test_size=0.3, random_state=42, stratify=df_sub['tag'])\n",
        "\n",
        "# Split the temporary test set into 50% test and 50% validation (15% of the total data each)\n",
        "X_test, X_val, y_test, y_val = train_test_split(X_temp, y_temp, test_size=0.5, random_state=42, stratify=y_temp)"
      ]
    },
    {
      "cell_type": "code",
      "execution_count": 8,
      "metadata": {
        "colab": {
          "base_uri": "https://localhost:8080/"
        },
        "id": "MhtEg1o7e5kL",
        "outputId": "68ebaf4b-face-43e6-932b-c053a61b6477"
      },
      "outputs": [
        {
          "data": {
            "text/plain": [
              "tag\n",
              "1    1005005\n",
              "2     697605\n",
              "4     447783\n",
              "3     111075\n",
              "0      59161\n",
              "Name: count, dtype: int64"
            ]
          },
          "execution_count": 8,
          "metadata": {},
          "output_type": "execute_result"
        }
      ],
      "source": [
        "y_train.value_counts()"
      ]
    },
    {
      "cell_type": "code",
      "execution_count": 8,
      "metadata": {
        "colab": {
          "base_uri": "https://localhost:8080/"
        },
        "id": "RgjX2GnrOr5l",
        "outputId": "26728ca6-b15e-405e-e225-e58446632d46"
      },
      "outputs": [
        {
          "name": "stdout",
          "output_type": "stream",
          "text": [
            "Defaulting to user installation because normal site-packages is not writeable\n",
            "Requirement already satisfied: transformers in /home/ucloud/.local/lib/python3.10/site-packages (4.29.2)\n",
            "Requirement already satisfied: filelock in /home/ucloud/.local/lib/python3.10/site-packages (from transformers) (3.12.0)\n",
            "Requirement already satisfied: huggingface-hub<1.0,>=0.14.1 in /home/ucloud/.local/lib/python3.10/site-packages (from transformers) (0.14.1)\n",
            "Requirement already satisfied: numpy>=1.17 in /home/ucloud/.local/lib/python3.10/site-packages (from transformers) (1.24.3)\n",
            "Requirement already satisfied: packaging>=20.0 in /home/ucloud/.local/lib/python3.10/site-packages (from transformers) (23.1)\n",
            "Requirement already satisfied: pyyaml>=5.1 in /home/ucloud/.local/lib/python3.10/site-packages (from transformers) (6.0)\n",
            "Requirement already satisfied: regex!=2019.12.17 in /home/ucloud/.local/lib/python3.10/site-packages (from transformers) (2023.5.5)\n",
            "Requirement already satisfied: requests in /home/ucloud/.local/lib/python3.10/site-packages (from transformers) (2.31.0)\n",
            "Requirement already satisfied: tokenizers!=0.11.3,<0.14,>=0.11.1 in /home/ucloud/.local/lib/python3.10/site-packages (from transformers) (0.13.3)\n",
            "Requirement already satisfied: tqdm>=4.27 in /home/ucloud/.local/lib/python3.10/site-packages (from transformers) (4.65.0)\n",
            "Requirement already satisfied: fsspec in /home/ucloud/.local/lib/python3.10/site-packages (from huggingface-hub<1.0,>=0.14.1->transformers) (2023.5.0)\n",
            "Requirement already satisfied: typing-extensions>=3.7.4.3 in /home/ucloud/.local/lib/python3.10/site-packages (from huggingface-hub<1.0,>=0.14.1->transformers) (4.6.1)\n",
            "Requirement already satisfied: charset-normalizer<4,>=2 in /home/ucloud/.local/lib/python3.10/site-packages (from requests->transformers) (3.1.0)\n",
            "Requirement already satisfied: idna<4,>=2.5 in /home/ucloud/.local/lib/python3.10/site-packages (from requests->transformers) (3.4)\n",
            "Requirement already satisfied: urllib3<3,>=1.21.1 in /home/ucloud/.local/lib/python3.10/site-packages (from requests->transformers) (2.0.2)\n",
            "Requirement already satisfied: certifi>=2017.4.17 in /home/ucloud/.local/lib/python3.10/site-packages (from requests->transformers) (2023.5.7)\n"
          ]
        }
      ],
      "source": [
        "! pip install transformers"
      ]
    },
    {
      "cell_type": "code",
      "execution_count": 9,
      "metadata": {
        "colab": {
          "base_uri": "https://localhost:8080/"
        },
        "id": "pjyVllx5OZur",
        "outputId": "0c5d44db-0b4a-4261-d1c2-8d3becf77e60"
      },
      "outputs": [
        {
          "name": "stderr",
          "output_type": "stream",
          "text": [
            "/home/ucloud/.local/lib/python3.10/site-packages/tqdm/auto.py:21: TqdmWarning: IProgress not found. Please update jupyter and ipywidgets. See https://ipywidgets.readthedocs.io/en/stable/user_install.html\n",
            "  from .autonotebook import tqdm as notebook_tqdm\n"
          ]
        },
        {
          "data": {
            "text/plain": [
              "BertTokenizerFast(name_or_path='bert-base-cased', vocab_size=28996, model_max_length=512, is_fast=True, padding_side='right', truncation_side='right', special_tokens={'unk_token': '[UNK]', 'sep_token': '[SEP]', 'pad_token': '[PAD]', 'cls_token': '[CLS]', 'mask_token': '[MASK]'}, clean_up_tokenization_spaces=True)"
            ]
          },
          "execution_count": 9,
          "metadata": {},
          "output_type": "execute_result"
        }
      ],
      "source": [
        "from transformers import AutoTokenizer\n",
        "PRETRAINED_LM = \"bert-base-cased\"\n",
        "tokenizer = AutoTokenizer.from_pretrained(PRETRAINED_LM)\n",
        "tokenizer"
      ]
    },
    {
      "cell_type": "code",
      "execution_count": 10,
      "metadata": {},
      "outputs": [
        {
          "data": {
            "text/plain": [
              "True"
            ]
          },
          "execution_count": 10,
          "metadata": {},
          "output_type": "execute_result"
        }
      ],
      "source": [
        "tokenizer.is_fast"
      ]
    },
    {
      "cell_type": "code",
      "execution_count": 11,
      "metadata": {
        "id": "aB8KuJOgfSg6"
      },
      "outputs": [],
      "source": [
        "def encode(docs):\n",
        "    '''\n",
        "    This function takes list of texts and returns input_ids and attention_mask of texts\n",
        "    '''\n",
        "    encoded_dict = tokenizer.batch_encode_plus(docs, add_special_tokens=True, max_length=512, padding='max_length',\n",
        "                            return_attention_mask=True, truncation=True, return_tensors='pt')\n",
        "    input_ids = encoded_dict['input_ids']\n",
        "    attention_masks = encoded_dict['attention_mask']\n",
        "    return input_ids, attention_masks"
      ]
    },
    {
      "cell_type": "code",
      "execution_count": 12,
      "metadata": {
        "id": "0XbzQw4YfSZW"
      },
      "outputs": [
        {
          "ename": "",
          "evalue": "",
          "output_type": "error",
          "traceback": [
            "\u001b[1;31mCanceled future for execute_request message before replies were done"
          ]
        },
        {
          "ename": "",
          "evalue": "",
          "output_type": "error",
          "traceback": [
            "\u001b[1;31mThe Kernel crashed while executing code in the the current cell or a previous cell. Please review the code in the cell(s) to identify a possible cause of the failure. Click <a href='https://aka.ms/vscodeJupyterKernelCrash'>here</a> for more info. View Jupyter <a href='command:jupyter.viewOutput'>log</a> for further details."
          ]
        }
      ],
      "source": [
        "train_input_ids, train_att_masks = encode(X_train.values.tolist())\n",
        "# Save the tensor to disk\n",
        "torch.save(train_input_ids, './ries_tensors/bert_cased_train_input_id.pt')\n",
        "torch.save(train_att_masks, './ries_tensors/bert_cased_train_att_masks.pt')\n"
      ]
    },
    {
      "cell_type": "code",
      "execution_count": null,
      "metadata": {},
      "outputs": [],
      "source": [
        "valid_input_ids, valid_att_masks = encode(X_val.values.tolist())\n",
        "# Save the tensor to disk\n",
        "torch.save(valid_input_ids, './ries_tensors/bert_cased_valid_input_ids.pt')\n",
        "torch.save(valid_att_masks, './ries_tensors/bert_cased_valid_att_masks.pt')\n"
      ]
    },
    {
      "cell_type": "code",
      "execution_count": null,
      "metadata": {},
      "outputs": [],
      "source": [
        "test_input_ids, test_att_masks = encode(X_test.values.tolist())\n",
        "# Save the tensor to disk\n",
        "torch.save(test_input_ids, './ries_tensors/bert_cased_test_input_ids.pt')\n",
        "torch.save(test_att_masks, './ries_tensors/bert_cased_test_att_masks.pt')"
      ]
    },
    {
      "cell_type": "code",
      "execution_count": 37,
      "metadata": {},
      "outputs": [
        {
          "name": "stdout",
          "output_type": "stream",
          "text": [
            "tensor([[  101,   146,  9562,  ...,  4218,  1136,   102],\n",
            "        [  101,  1284,  1202,  ...,     0,     0,     0],\n",
            "        [  101,   146,  1821,  ...,     0,     0,     0],\n",
            "        ...,\n",
            "        [  101,   157,  8167,  ...,     0,     0,     0],\n",
            "        [  101,   146,  1180,  ...,     0,     0,     0],\n",
            "        [  101,   113, 12511,  ...,     0,     0,     0]])\n"
          ]
        }
      ],
      "source": [
        "# How to load the tensors\n",
        "loaded_tensor = torch.load('bert_cased_trained_input_id.pt')\n",
        "print(loaded_tensor)"
      ]
    },
    {
      "cell_type": "code",
      "execution_count": null,
      "metadata": {
        "id": "yF38arj-PfzK"
      },
      "outputs": [],
      "source": [
        "! pip install torch"
      ]
    },
    {
      "cell_type": "code",
      "execution_count": null,
      "metadata": {
        "id": "eCaOVDmePfPo"
      },
      "outputs": [],
      "source": [
        "import torch\n",
        "train_y = torch.LongTensor(y_train.values.tolist())\n",
        "valid_y = torch.LongTensor(y_val.values.tolist())\n",
        "test_y = torch.LongTensor(y_test.values.tolist())\n",
        "train_y.size(),valid_y.size(),test_y.size()"
      ]
    },
    {
      "cell_type": "code",
      "execution_count": 17,
      "metadata": {
        "id": "k51apuH0e5h8"
      },
      "outputs": [],
      "source": [
        "from torch.utils.data import TensorDataset, DataLoader, RandomSampler, SequentialSampler\n",
        "\n",
        "BATCH_SIZE = 16\n",
        "train_dataset = TensorDataset(train_input_ids, train_att_masks, train_y)\n",
        "train_sampler = RandomSampler(train_dataset)\n",
        "train_dataloader = DataLoader(train_dataset, sampler=train_sampler, batch_size=BATCH_SIZE)\n",
        "\n",
        "valid_dataset = TensorDataset(valid_input_ids, valid_att_masks, valid_y)\n",
        "valid_sampler = SequentialSampler(valid_dataset)\n",
        "valid_dataloader = DataLoader(valid_dataset, sampler=valid_sampler, batch_size=BATCH_SIZE)\n",
        "\n",
        "test_dataset = TensorDataset(test_input_ids, test_att_masks, test_y)\n",
        "test_sampler = SequentialSampler(test_dataset)\n",
        "test_dataloader = DataLoader(test_dataset, sampler=test_sampler, batch_size=BATCH_SIZE)"
      ]
    },
    {
      "cell_type": "code",
      "execution_count": 18,
      "metadata": {
        "colab": {
          "base_uri": "https://localhost:8080/",
          "height": 156,
          "referenced_widgets": [
            "461ae06f3180436da7d5657c079d1f0f",
            "2de9f1551ac74795aaf7de37f162df80",
            "df972da055904b8c850eb714436f86ad",
            "a639607525b44960842a244e695a9c03",
            "acd7af1a58e645ac81447a2a9ffda910",
            "bce7d4268c7e49b1ac100ca44626d9e6",
            "092b45d06da74db79d8e09a49ce80104",
            "b2bcc569ac5c4078b069fe7749f9ef28",
            "dea0a4c4cb2a4c38b990aa8fa9056401",
            "c9d08ccd8dfa49bcacf4788de5288e70",
            "26c983b1b5704a409f5bc545beb6a96b"
          ]
        },
        "id": "Nmr_DA3yP_o-",
        "outputId": "94e400c9-4820-4c39-fc97-85e20b9973d5"
      },
      "outputs": [
        {
          "data": {
            "application/vnd.jupyter.widget-view+json": {
              "model_id": "461ae06f3180436da7d5657c079d1f0f",
              "version_major": 2,
              "version_minor": 0
            },
            "text/plain": [
              "Downloading pytorch_model.bin:   0%|          | 0.00/440M [00:00<?, ?B/s]"
            ]
          },
          "metadata": {},
          "output_type": "display_data"
        },
        {
          "name": "stderr",
          "output_type": "stream",
          "text": [
            "Some weights of the model checkpoint at bert-base-uncased were not used when initializing BertForSequenceClassification: ['cls.predictions.transform.LayerNorm.bias', 'cls.predictions.decoder.weight', 'cls.seq_relationship.bias', 'cls.predictions.transform.LayerNorm.weight', 'cls.seq_relationship.weight', 'cls.predictions.transform.dense.weight', 'cls.predictions.bias', 'cls.predictions.transform.dense.bias']\n",
            "- This IS expected if you are initializing BertForSequenceClassification from the checkpoint of a model trained on another task or with another architecture (e.g. initializing a BertForSequenceClassification model from a BertForPreTraining model).\n",
            "- This IS NOT expected if you are initializing BertForSequenceClassification from the checkpoint of a model that you expect to be exactly identical (initializing a BertForSequenceClassification model from a BertForSequenceClassification model).\n",
            "Some weights of BertForSequenceClassification were not initialized from the model checkpoint at bert-base-uncased and are newly initialized: ['classifier.weight', 'classifier.bias']\n",
            "You should probably TRAIN this model on a down-stream task to be able to use it for predictions and inference.\n"
          ]
        }
      ],
      "source": [
        "from transformers import BertForSequenceClassification\n",
        "N_labels = len(y_train.unique())\n",
        "model = BertForSequenceClassification.from_pretrained(PRETRAINED_LM,\n",
        "                                                      num_labels=N_labels,\n",
        "                                                      output_attentions=False,\n",
        "                                                      output_hidden_states=False)"
      ]
    },
    {
      "cell_type": "code",
      "execution_count": 19,
      "metadata": {
        "colab": {
          "base_uri": "https://localhost:8080/"
        },
        "id": "QG52iPK4P_mk",
        "outputId": "6df40c64-2df7-43b0-d331-df732786ae4b"
      },
      "outputs": [
        {
          "data": {
            "text/plain": [
              "device(type='cuda')"
            ]
          },
          "execution_count": 19,
          "metadata": {},
          "output_type": "execute_result"
        }
      ],
      "source": [
        "device = torch.device(\"cuda\" if torch.cuda.is_available() else \"cpu\")\n",
        "device"
      ]
    },
    {
      "cell_type": "code",
      "execution_count": 20,
      "metadata": {
        "id": "2Fsewpq9P_j_"
      },
      "outputs": [],
      "source": [
        "model = model.cuda()"
      ]
    },
    {
      "cell_type": "code",
      "execution_count": 23,
      "metadata": {
        "id": "JFaWq2P-P_hY"
      },
      "outputs": [],
      "source": [
        "from torch.optim import AdamW\n",
        "from transformers import get_linear_schedule_with_warmup\n",
        "\n",
        "EPOCHS = 2\n",
        "LEARNING_RATE = 2e-6\n",
        "\n",
        "optimizer = AdamW(model.parameters(), lr=LEARNING_RATE)\n",
        "scheduler = get_linear_schedule_with_warmup(optimizer, \n",
        "             num_warmup_steps=0,\n",
        "            num_training_steps=len(train_dataloader)*EPOCHS )"
      ]
    },
    {
      "cell_type": "code",
      "execution_count": 24,
      "metadata": {
        "colab": {
          "base_uri": "https://localhost:8080/",
          "height": 249,
          "referenced_widgets": [
            "55170403fb3040a28245bbea7f67d848",
            "df8e6b21b4504ae3b5e17248e5a38bf7",
            "40193d925e654d7db653eda70e82a345",
            "d692fd7eda7d4a79b07ac0b9b016514a",
            "fd69e3eecd3549efb8a5f82c101b29fa",
            "2dc8f58d53bd46f7be08b9d0b594a3e2",
            "882bdd394492416fbeb83d4978f59cce",
            "aa25277ecb5c4bed8ef27989409b85d8",
            "ce8d023b400447c7a6fe267451dbb6bc",
            "c36c413ceee844918bd62e7653c26aa5",
            "805cf93c2c024f189f41b624a755bd21",
            "b99a6fa138844e26a3be8119c28dd1ab",
            "f4d538e89ace483c86afcba9dc1cf122",
            "1bd7997e158e4d7d8f869acaaf0cf56d",
            "15e59aeb7f634a47897e0b3e853077bb",
            "369c6859c1d34be59a4d27457fa9ba03",
            "3bfb7d8c0c1a4e1fa453353ddc1ebb3d",
            "b76f9ac3264d42ce8ead091724f72d12",
            "2ec63f1bb6cf48448fcd1b7c5d05be0d",
            "c46e53720372497d97eba296b5b4caf4",
            "122992ef9de9488fab7b1a8f4cddf249",
            "47bf79730b8d4599b30842bad192a377",
            "8e507afce6eb4bd1bf553aff5a2a5a50",
            "a549b51cdb6141d8bf428fac85e5e8e4",
            "6f121ff574cb4170bb5faada080fdd1a",
            "751452d661354069bbed71ff41d859e8",
            "84a8c2a3a2b04943b9cd20931693bdd0",
            "52de633df5e040eabda9903c6ff51265",
            "cd4f5108c58f48c3b79ee463c96afc9c",
            "5614b27c5f51498b86c219dbbbaf1fc0",
            "cbcdc14967c6460bb66e707c992ecd32",
            "fdab48ba45bb41a884746c5730f1fb2b",
            "63278186c2744d8ea3e1d1f5fba80bd4",
            "09aa7e901e1c462888865dac6dfd705a",
            "b434ba9a68a44429a313da1e099c7687",
            "e8b7d83da69a4d8ca9542962db8f73db",
            "ddb0ee8e7c6e44c7ba86ca2821c59490",
            "616e3558d22a4852bf20f1c8f421871d",
            "93400c3506ed46118852dcc8e92ae709",
            "0fc2f4479ada45eba41eb3415f581ddb",
            "72c0795b85cc4304a86846b1b5229107",
            "8eacf28193d74bd9b64654cf91fdc8f2",
            "c3b8b78919d9456f8683e64c4d9d9023",
            "b109b08df67640d4a768b44ce346f8d6"
          ]
        },
        "id": "RH6j5uw3P_e4",
        "outputId": "dee64443-bd53-426c-8676-7f95209109c1"
      },
      "outputs": [
        {
          "name": "stdout",
          "output_type": "stream",
          "text": [
            "Epoch:  1\n"
          ]
        },
        {
          "data": {
            "application/vnd.jupyter.widget-view+json": {
              "model_id": "55170403fb3040a28245bbea7f67d848",
              "version_major": 2,
              "version_minor": 0
            },
            "text/plain": [
              "Training:   0%|          | 0/2188 [00:00<?, ?it/s]"
            ]
          },
          "metadata": {},
          "output_type": "display_data"
        },
        {
          "data": {
            "application/vnd.jupyter.widget-view+json": {
              "model_id": "b99a6fa138844e26a3be8119c28dd1ab",
              "version_major": 2,
              "version_minor": 0
            },
            "text/plain": [
              "Validation:   0%|          | 0/469 [00:00<?, ?it/s]"
            ]
          },
          "metadata": {},
          "output_type": "display_data"
        },
        {
          "name": "stdout",
          "output_type": "stream",
          "text": [
            "2188/2188 train loss: 0.8226824172277011 \n",
            "469/469 val loss: 1.0291805156766733 \n",
            "Epoch:  2\n"
          ]
        },
        {
          "data": {
            "application/vnd.jupyter.widget-view+json": {
              "model_id": "8e507afce6eb4bd1bf553aff5a2a5a50",
              "version_major": 2,
              "version_minor": 0
            },
            "text/plain": [
              "Training:   0%|          | 0/2188 [00:00<?, ?it/s]"
            ]
          },
          "metadata": {},
          "output_type": "display_data"
        },
        {
          "data": {
            "application/vnd.jupyter.widget-view+json": {
              "model_id": "09aa7e901e1c462888865dac6dfd705a",
              "version_major": 2,
              "version_minor": 0
            },
            "text/plain": [
              "Validation:   0%|          | 0/469 [00:00<?, ?it/s]"
            ]
          },
          "metadata": {},
          "output_type": "display_data"
        },
        {
          "name": "stdout",
          "output_type": "stream",
          "text": [
            "2188/2188 train loss: 0.7801189320996214 \n",
            "469/469 val loss: 1.0365972937678478 \n"
          ]
        }
      ],
      "source": [
        "from torch.nn.utils import clip_grad_norm_\n",
        "from tqdm.notebook import tqdm\n",
        "import numpy as np\n",
        "import math\n",
        "\n",
        "train_loss_per_epoch = []\n",
        "val_loss_per_epoch = []\n",
        "\n",
        "\n",
        "for epoch_num in range(EPOCHS):\n",
        "    print('Epoch: ', epoch_num + 1)\n",
        "    '''\n",
        "    Training\n",
        "    '''\n",
        "    model.train()\n",
        "    train_loss = 0\n",
        "    for step_num, batch_data in enumerate(tqdm(train_dataloader,desc='Training')):\n",
        "        input_ids, att_mask, labels = [data.to(device) for data in batch_data]\n",
        "        output = model(input_ids = input_ids, attention_mask=att_mask, labels= labels)\n",
        "        \n",
        "        loss = output.loss\n",
        "        train_loss += loss.item()\n",
        "\n",
        "        model.zero_grad()\n",
        "        loss.backward()\n",
        "        del loss\n",
        "\n",
        "        clip_grad_norm_(parameters=model.parameters(), max_norm=1.0)\n",
        "        optimizer.step()\n",
        "        scheduler.step()\n",
        "\n",
        "    train_loss_per_epoch.append(train_loss / (step_num + 1))              \n",
        "\n",
        "\n",
        "    '''\n",
        "    Validation\n",
        "    '''\n",
        "    model.eval()\n",
        "    valid_loss = 0\n",
        "    valid_pred = []\n",
        "    with torch.no_grad():\n",
        "        for step_num_e, batch_data in enumerate(tqdm(valid_dataloader,desc='Validation')):\n",
        "            input_ids, att_mask, labels = [data.to(device) for data in batch_data]\n",
        "            output = model(input_ids = input_ids, attention_mask=att_mask, labels= labels)\n",
        "\n",
        "            loss = output.loss\n",
        "            valid_loss += loss.item()\n",
        "   \n",
        "            valid_pred.append(np.argmax(output.logits.cpu().detach().numpy(),axis=-1))\n",
        "        \n",
        "    val_loss_per_epoch.append(valid_loss / (step_num_e + 1))\n",
        "    valid_pred = np.concatenate(valid_pred)\n",
        "\n",
        "    '''\n",
        "    Loss message\n",
        "    '''\n",
        "    print(\"{0}/{1} train loss: {2} \".format(step_num+1, math.ceil(len(X_train) / BATCH_SIZE), train_loss / (step_num + 1)))\n",
        "    print(\"{0}/{1} val loss: {2} \".format(step_num_e+1, math.ceil(len(X_val) / BATCH_SIZE), valid_loss / (step_num_e + 1)))"
      ]
    },
    {
      "cell_type": "code",
      "execution_count": 25,
      "metadata": {
        "colab": {
          "base_uri": "https://localhost:8080/",
          "height": 472
        },
        "id": "biTWm569P_cg",
        "outputId": "bb940c12-3434-4b8a-f9f1-e7f63f48e886"
      },
      "outputs": [
        {
          "data": {
            "image/png": "[encoded data removed]",
            "text/plain": [
              "<Figure size 640x480 with 1 Axes>"
            ]
          },
          "metadata": {},
          "output_type": "display_data"
        }
      ],
      "source": [
        "from matplotlib import pyplot as plt\n",
        "epochs = range(1, EPOCHS +1 )\n",
        "fig, ax = plt.subplots()\n",
        "ax.plot(epochs,train_loss_per_epoch,label ='training loss')\n",
        "ax.plot(epochs, val_loss_per_epoch, label = 'validation loss' )\n",
        "ax.set_title('Training and Validation loss')\n",
        "ax.set_xlabel('Epochs')\n",
        "ax.set_ylabel('Loss')\n",
        "ax.legend()\n",
        "plt.show()"
      ]
    },
    {
      "cell_type": "code",
      "execution_count": 26,
      "metadata": {
        "colab": {
          "base_uri": "https://localhost:8080/"
        },
        "id": "-cI0CGMMP_aX",
        "outputId": "99fd1713-304f-40a1-84b5-e4a0a287ec49"
      },
      "outputs": [
        {
          "name": "stdout",
          "output_type": "stream",
          "text": [
            "classifiation report\n",
            "              precision    recall  f1-score   support\n",
            "\n",
            "           0       0.76      0.65      0.70      1766\n",
            "           1       0.30      0.38      0.33      1183\n",
            "           2       0.76      0.80      0.78      1424\n",
            "           3       0.59      0.61      0.60      1462\n",
            "           4       0.60      0.54      0.56      1665\n",
            "\n",
            "    accuracy                           0.60      7500\n",
            "   macro avg       0.60      0.59      0.60      7500\n",
            "weighted avg       0.62      0.60      0.61      7500\n",
            "\n"
          ]
        }
      ],
      "source": [
        "from sklearn.metrics import classification_report\n",
        "print('classifiation report')\n",
        "print(classification_report(valid_pred, y_val))"
      ]
    },
    {
      "cell_type": "code",
      "execution_count": 27,
      "metadata": {
        "id": "wYwK9ZNOP_YH"
      },
      "outputs": [],
      "source": [
        "from sklearn.metrics import ConfusionMatrixDisplay, confusion_matrix\n",
        "def plot_confusion_matrix(y_preds, y_true, labels=None):\n",
        "  cm = confusion_matrix(y_true, y_preds, normalize=\"true\")\n",
        "  fig, ax = plt.subplots(figsize=(6, 6))\n",
        "  disp = ConfusionMatrixDisplay(confusion_matrix=cm, display_labels=labels) \n",
        "  disp.plot(cmap=\"Blues\", values_format=\".2f\", ax=ax, colorbar=False) \n",
        "  plt.title(\"Normalized confusion matrix\")\n",
        "  plt.show()"
      ]
    },
    {
      "cell_type": "code",
      "execution_count": 28,
      "metadata": {
        "colab": {
          "base_uri": "https://localhost:8080/",
          "height": 564
        },
        "id": "OGrYIF02P_V0",
        "outputId": "950abfd5-21bc-453e-acbe-ce37271b0641"
      },
      "outputs": [
        {
          "data": {
            "image/png": "[encoded data removed]",
            "text/plain": [
              "<Figure size 600x600 with 1 Axes>"
            ]
          },
          "metadata": {},
          "output_type": "display_data"
        }
      ],
      "source": [
        "plot_confusion_matrix(valid_pred,y_val)"
      ]
    }
  ],
  "metadata": {
    "accelerator": "GPU",
    "colab": {
      "gpuType": "A100",
      "machine_shape": "hm",
      "provenance": []
    },
    "gpuClass": "standard",
    "kernelspec": {
      "display_name": "Python 3",
      "name": "python3"
    },
    "language_info": {
      "codemirror_mode": {
        "name": "ipython",
        "version": 3
      },
      "file_extension": ".py",
      "mimetype": "text/x-python",
      "name": "python",
      "nbconvert_exporter": "python",
      "pygments_lexer": "ipython3",
      "version": "3.10.7"
    },
    "widgets": {
      "application/vnd.jupyter.widget-state+json": {
        "092b45d06da74db79d8e09a49ce80104": {
          "model_module": "@jupyter-widgets/controls",
          "model_module_version": "1.5.0",
          "model_name": "DescriptionStyleModel",
          "state": {
            "_model_module": "@jupyter-widgets/controls",
            "_model_module_version": "1.5.0",
            "_model_name": "DescriptionStyleModel",
            "_view_count": null,
            "_view_module": "@jupyter-widgets/base",
            "_view_module_version": "1.2.0",
            "_view_name": "StyleView",
            "description_width": ""
          }
        },
        "09aa7e901e1c462888865dac6dfd705a": {
          "model_module": "@jupyter-widgets/controls",
          "model_module_version": "1.5.0",
          "model_name": "HBoxModel",
          "state": {
            "_dom_classes": [],
            "_model_module": "@jupyter-widgets/controls",
            "_model_module_version": "1.5.0",
            "_model_name": "HBoxModel",
            "_view_count": null,
            "_view_module": "@jupyter-widgets/controls",
            "_view_module_version": "1.5.0",
            "_view_name": "HBoxView",
            "box_style": "",
            "children": [
              "IPY_MODEL_b434ba9a68a44429a313da1e099c7687",
              "IPY_MODEL_e8b7d83da69a4d8ca9542962db8f73db",
              "IPY_MODEL_ddb0ee8e7c6e44c7ba86ca2821c59490"
            ],
            "layout": "IPY_MODEL_616e3558d22a4852bf20f1c8f421871d"
          }
        },
        "0fc2f4479ada45eba41eb3415f581ddb": {
          "model_module": "@jupyter-widgets/controls",
          "model_module_version": "1.5.0",
          "model_name": "DescriptionStyleModel",
          "state": {
            "_model_module": "@jupyter-widgets/controls",
            "_model_module_version": "1.5.0",
            "_model_name": "DescriptionStyleModel",
            "_view_count": null,
            "_view_module": "@jupyter-widgets/base",
            "_view_module_version": "1.2.0",
            "_view_name": "StyleView",
            "description_width": ""
          }
        },
        "122992ef9de9488fab7b1a8f4cddf249": {
          "model_module": "@jupyter-widgets/base",
          "model_module_version": "1.2.0",
          "model_name": "LayoutModel",
          "state": {
            "_model_module": "@jupyter-widgets/base",
            "_model_module_version": "1.2.0",
            "_model_name": "LayoutModel",
            "_view_count": null,
            "_view_module": "@jupyter-widgets/base",
            "_view_module_version": "1.2.0",
            "_view_name": "LayoutView",
            "align_content": null,
            "align_items": null,
            "align_self": null,
            "border": null,
            "bottom": null,
            "display": null,
            "flex": null,
            "flex_flow": null,
            "grid_area": null,
            "grid_auto_columns": null,
            "grid_auto_flow": null,
            "grid_auto_rows": null,
            "grid_column": null,
            "grid_gap": null,
            "grid_row": null,
            "grid_template_areas": null,
            "grid_template_columns": null,
            "grid_template_rows": null,
            "height": null,
            "justify_content": null,
            "justify_items": null,
            "left": null,
            "margin": null,
            "max_height": null,
            "max_width": null,
            "min_height": null,
            "min_width": null,
            "object_fit": null,
            "object_position": null,
            "order": null,
            "overflow": null,
            "overflow_x": null,
            "overflow_y": null,
            "padding": null,
            "right": null,
            "top": null,
            "visibility": null,
            "width": null
          }
        },
        "15e59aeb7f634a47897e0b3e853077bb": {
          "model_module": "@jupyter-widgets/controls",
          "model_module_version": "1.5.0",
          "model_name": "HTMLModel",
          "state": {
            "_dom_classes": [],
            "_model_module": "@jupyter-widgets/controls",
            "_model_module_version": "1.5.0",
            "_model_name": "HTMLModel",
            "_view_count": null,
            "_view_module": "@jupyter-widgets/controls",
            "_view_module_version": "1.5.0",
            "_view_name": "HTMLView",
            "description": "",
            "description_tooltip": null,
            "layout": "IPY_MODEL_122992ef9de9488fab7b1a8f4cddf249",
            "placeholder": "​",
            "style": "IPY_MODEL_47bf79730b8d4599b30842bad192a377",
            "value": " 469/469 [00:12&lt;00:00, 36.22it/s]"
          }
        },
        "1bd7997e158e4d7d8f869acaaf0cf56d": {
          "model_module": "@jupyter-widgets/controls",
          "model_module_version": "1.5.0",
          "model_name": "FloatProgressModel",
          "state": {
            "_dom_classes": [],
            "_model_module": "@jupyter-widgets/controls",
            "_model_module_version": "1.5.0",
            "_model_name": "FloatProgressModel",
            "_view_count": null,
            "_view_module": "@jupyter-widgets/controls",
            "_view_module_version": "1.5.0",
            "_view_name": "ProgressView",
            "bar_style": "success",
            "description": "",
            "description_tooltip": null,
            "layout": "IPY_MODEL_2ec63f1bb6cf48448fcd1b7c5d05be0d",
            "max": 469,
            "min": 0,
            "orientation": "horizontal",
            "style": "IPY_MODEL_c46e53720372497d97eba296b5b4caf4",
            "value": 469
          }
        },
        "26c983b1b5704a409f5bc545beb6a96b": {
          "model_module": "@jupyter-widgets/controls",
          "model_module_version": "1.5.0",
          "model_name": "DescriptionStyleModel",
          "state": {
            "_model_module": "@jupyter-widgets/controls",
            "_model_module_version": "1.5.0",
            "_model_name": "DescriptionStyleModel",
            "_view_count": null,
            "_view_module": "@jupyter-widgets/base",
            "_view_module_version": "1.2.0",
            "_view_name": "StyleView",
            "description_width": ""
          }
        },
        "2dc8f58d53bd46f7be08b9d0b594a3e2": {
          "model_module": "@jupyter-widgets/base",
          "model_module_version": "1.2.0",
          "model_name": "LayoutModel",
          "state": {
            "_model_module": "@jupyter-widgets/base",
            "_model_module_version": "1.2.0",
            "_model_name": "LayoutModel",
            "_view_count": null,
            "_view_module": "@jupyter-widgets/base",
            "_view_module_version": "1.2.0",
            "_view_name": "LayoutView",
            "align_content": null,
            "align_items": null,
            "align_self": null,
            "border": null,
            "bottom": null,
            "display": null,
            "flex": null,
            "flex_flow": null,
            "grid_area": null,
            "grid_auto_columns": null,
            "grid_auto_flow": null,
            "grid_auto_rows": null,
            "grid_column": null,
            "grid_gap": null,
            "grid_row": null,
            "grid_template_areas": null,
            "grid_template_columns": null,
            "grid_template_rows": null,
            "height": null,
            "justify_content": null,
            "justify_items": null,
            "left": null,
            "margin": null,
            "max_height": null,
            "max_width": null,
            "min_height": null,
            "min_width": null,
            "object_fit": null,
            "object_position": null,
            "order": null,
            "overflow": null,
            "overflow_x": null,
            "overflow_y": null,
            "padding": null,
            "right": null,
            "top": null,
            "visibility": null,
            "width": null
          }
        },
        "2de9f1551ac74795aaf7de37f162df80": {
          "model_module": "@jupyter-widgets/controls",
          "model_module_version": "1.5.0",
          "model_name": "HTMLModel",
          "state": {
            "_dom_classes": [],
            "_model_module": "@jupyter-widgets/controls",
            "_model_module_version": "1.5.0",
            "_model_name": "HTMLModel",
            "_view_count": null,
            "_view_module": "@jupyter-widgets/controls",
            "_view_module_version": "1.5.0",
            "_view_name": "HTMLView",
            "description": "",
            "description_tooltip": null,
            "layout": "IPY_MODEL_bce7d4268c7e49b1ac100ca44626d9e6",
            "placeholder": "​",
            "style": "IPY_MODEL_092b45d06da74db79d8e09a49ce80104",
            "value": "Downloading pytorch_model.bin: 100%"
          }
        },
        "2ec63f1bb6cf48448fcd1b7c5d05be0d": {
          "model_module": "@jupyter-widgets/base",
          "model_module_version": "1.2.0",
          "model_name": "LayoutModel",
          "state": {
            "_model_module": "@jupyter-widgets/base",
            "_model_module_version": "1.2.0",
            "_model_name": "LayoutModel",
            "_view_count": null,
            "_view_module": "@jupyter-widgets/base",
            "_view_module_version": "1.2.0",
            "_view_name": "LayoutView",
            "align_content": null,
            "align_items": null,
            "align_self": null,
            "border": null,
            "bottom": null,
            "display": null,
            "flex": null,
            "flex_flow": null,
            "grid_area": null,
            "grid_auto_columns": null,
            "grid_auto_flow": null,
            "grid_auto_rows": null,
            "grid_column": null,
            "grid_gap": null,
            "grid_row": null,
            "grid_template_areas": null,
            "grid_template_columns": null,
            "grid_template_rows": null,
            "height": null,
            "justify_content": null,
            "justify_items": null,
            "left": null,
            "margin": null,
            "max_height": null,
            "max_width": null,
            "min_height": null,
            "min_width": null,
            "object_fit": null,
            "object_position": null,
            "order": null,
            "overflow": null,
            "overflow_x": null,
            "overflow_y": null,
            "padding": null,
            "right": null,
            "top": null,
            "visibility": null,
            "width": null
          }
        },
        "369c6859c1d34be59a4d27457fa9ba03": {
          "model_module": "@jupyter-widgets/base",
          "model_module_version": "1.2.0",
          "model_name": "LayoutModel",
          "state": {
            "_model_module": "@jupyter-widgets/base",
            "_model_module_version": "1.2.0",
            "_model_name": "LayoutModel",
            "_view_count": null,
            "_view_module": "@jupyter-widgets/base",
            "_view_module_version": "1.2.0",
            "_view_name": "LayoutView",
            "align_content": null,
            "align_items": null,
            "align_self": null,
            "border": null,
            "bottom": null,
            "display": null,
            "flex": null,
            "flex_flow": null,
            "grid_area": null,
            "grid_auto_columns": null,
            "grid_auto_flow": null,
            "grid_auto_rows": null,
            "grid_column": null,
            "grid_gap": null,
            "grid_row": null,
            "grid_template_areas": null,
            "grid_template_columns": null,
            "grid_template_rows": null,
            "height": null,
            "justify_content": null,
            "justify_items": null,
            "left": null,
            "margin": null,
            "max_height": null,
            "max_width": null,
            "min_height": null,
            "min_width": null,
            "object_fit": null,
            "object_position": null,
            "order": null,
            "overflow": null,
            "overflow_x": null,
            "overflow_y": null,
            "padding": null,
            "right": null,
            "top": null,
            "visibility": null,
            "width": null
          }
        },
        "3bfb7d8c0c1a4e1fa453353ddc1ebb3d": {
          "model_module": "@jupyter-widgets/base",
          "model_module_version": "1.2.0",
          "model_name": "LayoutModel",
          "state": {
            "_model_module": "@jupyter-widgets/base",
            "_model_module_version": "1.2.0",
            "_model_name": "LayoutModel",
            "_view_count": null,
            "_view_module": "@jupyter-widgets/base",
            "_view_module_version": "1.2.0",
            "_view_name": "LayoutView",
            "align_content": null,
            "align_items": null,
            "align_self": null,
            "border": null,
            "bottom": null,
            "display": null,
            "flex": null,
            "flex_flow": null,
            "grid_area": null,
            "grid_auto_columns": null,
            "grid_auto_flow": null,
            "grid_auto_rows": null,
            "grid_column": null,
            "grid_gap": null,
            "grid_row": null,
            "grid_template_areas": null,
            "grid_template_columns": null,
            "grid_template_rows": null,
            "height": null,
            "justify_content": null,
            "justify_items": null,
            "left": null,
            "margin": null,
            "max_height": null,
            "max_width": null,
            "min_height": null,
            "min_width": null,
            "object_fit": null,
            "object_position": null,
            "order": null,
            "overflow": null,
            "overflow_x": null,
            "overflow_y": null,
            "padding": null,
            "right": null,
            "top": null,
            "visibility": null,
            "width": null
          }
        },
        "40193d925e654d7db653eda70e82a345": {
          "model_module": "@jupyter-widgets/controls",
          "model_module_version": "1.5.0",
          "model_name": "FloatProgressModel",
          "state": {
            "_dom_classes": [],
            "_model_module": "@jupyter-widgets/controls",
            "_model_module_version": "1.5.0",
            "_model_name": "FloatProgressModel",
            "_view_count": null,
            "_view_module": "@jupyter-widgets/controls",
            "_view_module_version": "1.5.0",
            "_view_name": "ProgressView",
            "bar_style": "success",
            "description": "",
            "description_tooltip": null,
            "layout": "IPY_MODEL_aa25277ecb5c4bed8ef27989409b85d8",
            "max": 2188,
            "min": 0,
            "orientation": "horizontal",
            "style": "IPY_MODEL_ce8d023b400447c7a6fe267451dbb6bc",
            "value": 2188
          }
        },
        "461ae06f3180436da7d5657c079d1f0f": {
          "model_module": "@jupyter-widgets/controls",
          "model_module_version": "1.5.0",
          "model_name": "HBoxModel",
          "state": {
            "_dom_classes": [],
            "_model_module": "@jupyter-widgets/controls",
            "_model_module_version": "1.5.0",
            "_model_name": "HBoxModel",
            "_view_count": null,
            "_view_module": "@jupyter-widgets/controls",
            "_view_module_version": "1.5.0",
            "_view_name": "HBoxView",
            "box_style": "",
            "children": [
              "IPY_MODEL_2de9f1551ac74795aaf7de37f162df80",
              "IPY_MODEL_df972da055904b8c850eb714436f86ad",
              "IPY_MODEL_a639607525b44960842a244e695a9c03"
            ],
            "layout": "IPY_MODEL_acd7af1a58e645ac81447a2a9ffda910"
          }
        },
        "47bf79730b8d4599b30842bad192a377": {
          "model_module": "@jupyter-widgets/controls",
          "model_module_version": "1.5.0",
          "model_name": "DescriptionStyleModel",
          "state": {
            "_model_module": "@jupyter-widgets/controls",
            "_model_module_version": "1.5.0",
            "_model_name": "DescriptionStyleModel",
            "_view_count": null,
            "_view_module": "@jupyter-widgets/base",
            "_view_module_version": "1.2.0",
            "_view_name": "StyleView",
            "description_width": ""
          }
        },
        "52de633df5e040eabda9903c6ff51265": {
          "model_module": "@jupyter-widgets/base",
          "model_module_version": "1.2.0",
          "model_name": "LayoutModel",
          "state": {
            "_model_module": "@jupyter-widgets/base",
            "_model_module_version": "1.2.0",
            "_model_name": "LayoutModel",
            "_view_count": null,
            "_view_module": "@jupyter-widgets/base",
            "_view_module_version": "1.2.0",
            "_view_name": "LayoutView",
            "align_content": null,
            "align_items": null,
            "align_self": null,
            "border": null,
            "bottom": null,
            "display": null,
            "flex": null,
            "flex_flow": null,
            "grid_area": null,
            "grid_auto_columns": null,
            "grid_auto_flow": null,
            "grid_auto_rows": null,
            "grid_column": null,
            "grid_gap": null,
            "grid_row": null,
            "grid_template_areas": null,
            "grid_template_columns": null,
            "grid_template_rows": null,
            "height": null,
            "justify_content": null,
            "justify_items": null,
            "left": null,
            "margin": null,
            "max_height": null,
            "max_width": null,
            "min_height": null,
            "min_width": null,
            "object_fit": null,
            "object_position": null,
            "order": null,
            "overflow": null,
            "overflow_x": null,
            "overflow_y": null,
            "padding": null,
            "right": null,
            "top": null,
            "visibility": null,
            "width": null
          }
        },
        "55170403fb3040a28245bbea7f67d848": {
          "model_module": "@jupyter-widgets/controls",
          "model_module_version": "1.5.0",
          "model_name": "HBoxModel",
          "state": {
            "_dom_classes": [],
            "_model_module": "@jupyter-widgets/controls",
            "_model_module_version": "1.5.0",
            "_model_name": "HBoxModel",
            "_view_count": null,
            "_view_module": "@jupyter-widgets/controls",
            "_view_module_version": "1.5.0",
            "_view_name": "HBoxView",
            "box_style": "",
            "children": [
              "IPY_MODEL_df8e6b21b4504ae3b5e17248e5a38bf7",
              "IPY_MODEL_40193d925e654d7db653eda70e82a345",
              "IPY_MODEL_d692fd7eda7d4a79b07ac0b9b016514a"
            ],
            "layout": "IPY_MODEL_fd69e3eecd3549efb8a5f82c101b29fa"
          }
        },
        "5614b27c5f51498b86c219dbbbaf1fc0": {
          "model_module": "@jupyter-widgets/base",
          "model_module_version": "1.2.0",
          "model_name": "LayoutModel",
          "state": {
            "_model_module": "@jupyter-widgets/base",
            "_model_module_version": "1.2.0",
            "_model_name": "LayoutModel",
            "_view_count": null,
            "_view_module": "@jupyter-widgets/base",
            "_view_module_version": "1.2.0",
            "_view_name": "LayoutView",
            "align_content": null,
            "align_items": null,
            "align_self": null,
            "border": null,
            "bottom": null,
            "display": null,
            "flex": null,
            "flex_flow": null,
            "grid_area": null,
            "grid_auto_columns": null,
            "grid_auto_flow": null,
            "grid_auto_rows": null,
            "grid_column": null,
            "grid_gap": null,
            "grid_row": null,
            "grid_template_areas": null,
            "grid_template_columns": null,
            "grid_template_rows": null,
            "height": null,
            "justify_content": null,
            "justify_items": null,
            "left": null,
            "margin": null,
            "max_height": null,
            "max_width": null,
            "min_height": null,
            "min_width": null,
            "object_fit": null,
            "object_position": null,
            "order": null,
            "overflow": null,
            "overflow_x": null,
            "overflow_y": null,
            "padding": null,
            "right": null,
            "top": null,
            "visibility": null,
            "width": null
          }
        },
        "616e3558d22a4852bf20f1c8f421871d": {
          "model_module": "@jupyter-widgets/base",
          "model_module_version": "1.2.0",
          "model_name": "LayoutModel",
          "state": {
            "_model_module": "@jupyter-widgets/base",
            "_model_module_version": "1.2.0",
            "_model_name": "LayoutModel",
            "_view_count": null,
            "_view_module": "@jupyter-widgets/base",
            "_view_module_version": "1.2.0",
            "_view_name": "LayoutView",
            "align_content": null,
            "align_items": null,
            "align_self": null,
            "border": null,
            "bottom": null,
            "display": null,
            "flex": null,
            "flex_flow": null,
            "grid_area": null,
            "grid_auto_columns": null,
            "grid_auto_flow": null,
            "grid_auto_rows": null,
            "grid_column": null,
            "grid_gap": null,
            "grid_row": null,
            "grid_template_areas": null,
            "grid_template_columns": null,
            "grid_template_rows": null,
            "height": null,
            "justify_content": null,
            "justify_items": null,
            "left": null,
            "margin": null,
            "max_height": null,
            "max_width": null,
            "min_height": null,
            "min_width": null,
            "object_fit": null,
            "object_position": null,
            "order": null,
            "overflow": null,
            "overflow_x": null,
            "overflow_y": null,
            "padding": null,
            "right": null,
            "top": null,
            "visibility": null,
            "width": null
          }
        },
        "63278186c2744d8ea3e1d1f5fba80bd4": {
          "model_module": "@jupyter-widgets/controls",
          "model_module_version": "1.5.0",
          "model_name": "DescriptionStyleModel",
          "state": {
            "_model_module": "@jupyter-widgets/controls",
            "_model_module_version": "1.5.0",
            "_model_name": "DescriptionStyleModel",
            "_view_count": null,
            "_view_module": "@jupyter-widgets/base",
            "_view_module_version": "1.2.0",
            "_view_name": "StyleView",
            "description_width": ""
          }
        },
        "6f121ff574cb4170bb5faada080fdd1a": {
          "model_module": "@jupyter-widgets/controls",
          "model_module_version": "1.5.0",
          "model_name": "FloatProgressModel",
          "state": {
            "_dom_classes": [],
            "_model_module": "@jupyter-widgets/controls",
            "_model_module_version": "1.5.0",
            "_model_name": "FloatProgressModel",
            "_view_count": null,
            "_view_module": "@jupyter-widgets/controls",
            "_view_module_version": "1.5.0",
            "_view_name": "ProgressView",
            "bar_style": "success",
            "description": "",
            "description_tooltip": null,
            "layout": "IPY_MODEL_5614b27c5f51498b86c219dbbbaf1fc0",
            "max": 2188,
            "min": 0,
            "orientation": "horizontal",
            "style": "IPY_MODEL_cbcdc14967c6460bb66e707c992ecd32",
            "value": 2188
          }
        },
        "72c0795b85cc4304a86846b1b5229107": {
          "model_module": "@jupyter-widgets/base",
          "model_module_version": "1.2.0",
          "model_name": "LayoutModel",
          "state": {
            "_model_module": "@jupyter-widgets/base",
            "_model_module_version": "1.2.0",
            "_model_name": "LayoutModel",
            "_view_count": null,
            "_view_module": "@jupyter-widgets/base",
            "_view_module_version": "1.2.0",
            "_view_name": "LayoutView",
            "align_content": null,
            "align_items": null,
            "align_self": null,
            "border": null,
            "bottom": null,
            "display": null,
            "flex": null,
            "flex_flow": null,
            "grid_area": null,
            "grid_auto_columns": null,
            "grid_auto_flow": null,
            "grid_auto_rows": null,
            "grid_column": null,
            "grid_gap": null,
            "grid_row": null,
            "grid_template_areas": null,
            "grid_template_columns": null,
            "grid_template_rows": null,
            "height": null,
            "justify_content": null,
            "justify_items": null,
            "left": null,
            "margin": null,
            "max_height": null,
            "max_width": null,
            "min_height": null,
            "min_width": null,
            "object_fit": null,
            "object_position": null,
            "order": null,
            "overflow": null,
            "overflow_x": null,
            "overflow_y": null,
            "padding": null,
            "right": null,
            "top": null,
            "visibility": null,
            "width": null
          }
        },
        "751452d661354069bbed71ff41d859e8": {
          "model_module": "@jupyter-widgets/controls",
          "model_module_version": "1.5.0",
          "model_name": "HTMLModel",
          "state": {
            "_dom_classes": [],
            "_model_module": "@jupyter-widgets/controls",
            "_model_module_version": "1.5.0",
            "_model_name": "HTMLModel",
            "_view_count": null,
            "_view_module": "@jupyter-widgets/controls",
            "_view_module_version": "1.5.0",
            "_view_name": "HTMLView",
            "description": "",
            "description_tooltip": null,
            "layout": "IPY_MODEL_fdab48ba45bb41a884746c5730f1fb2b",
            "placeholder": "​",
            "style": "IPY_MODEL_63278186c2744d8ea3e1d1f5fba80bd4",
            "value": " 2188/2188 [03:16&lt;00:00, 11.15it/s]"
          }
        },
        "805cf93c2c024f189f41b624a755bd21": {
          "model_module": "@jupyter-widgets/controls",
          "model_module_version": "1.5.0",
          "model_name": "DescriptionStyleModel",
          "state": {
            "_model_module": "@jupyter-widgets/controls",
            "_model_module_version": "1.5.0",
            "_model_name": "DescriptionStyleModel",
            "_view_count": null,
            "_view_module": "@jupyter-widgets/base",
            "_view_module_version": "1.2.0",
            "_view_name": "StyleView",
            "description_width": ""
          }
        },
        "84a8c2a3a2b04943b9cd20931693bdd0": {
          "model_module": "@jupyter-widgets/base",
          "model_module_version": "1.2.0",
          "model_name": "LayoutModel",
          "state": {
            "_model_module": "@jupyter-widgets/base",
            "_model_module_version": "1.2.0",
            "_model_name": "LayoutModel",
            "_view_count": null,
            "_view_module": "@jupyter-widgets/base",
            "_view_module_version": "1.2.0",
            "_view_name": "LayoutView",
            "align_content": null,
            "align_items": null,
            "align_self": null,
            "border": null,
            "bottom": null,
            "display": null,
            "flex": null,
            "flex_flow": null,
            "grid_area": null,
            "grid_auto_columns": null,
            "grid_auto_flow": null,
            "grid_auto_rows": null,
            "grid_column": null,
            "grid_gap": null,
            "grid_row": null,
            "grid_template_areas": null,
            "grid_template_columns": null,
            "grid_template_rows": null,
            "height": null,
            "justify_content": null,
            "justify_items": null,
            "left": null,
            "margin": null,
            "max_height": null,
            "max_width": null,
            "min_height": null,
            "min_width": null,
            "object_fit": null,
            "object_position": null,
            "order": null,
            "overflow": null,
            "overflow_x": null,
            "overflow_y": null,
            "padding": null,
            "right": null,
            "top": null,
            "visibility": null,
            "width": null
          }
        },
        "882bdd394492416fbeb83d4978f59cce": {
          "model_module": "@jupyter-widgets/controls",
          "model_module_version": "1.5.0",
          "model_name": "DescriptionStyleModel",
          "state": {
            "_model_module": "@jupyter-widgets/controls",
            "_model_module_version": "1.5.0",
            "_model_name": "DescriptionStyleModel",
            "_view_count": null,
            "_view_module": "@jupyter-widgets/base",
            "_view_module_version": "1.2.0",
            "_view_name": "StyleView",
            "description_width": ""
          }
        },
        "8e507afce6eb4bd1bf553aff5a2a5a50": {
          "model_module": "@jupyter-widgets/controls",
          "model_module_version": "1.5.0",
          "model_name": "HBoxModel",
          "state": {
            "_dom_classes": [],
            "_model_module": "@jupyter-widgets/controls",
            "_model_module_version": "1.5.0",
            "_model_name": "HBoxModel",
            "_view_count": null,
            "_view_module": "@jupyter-widgets/controls",
            "_view_module_version": "1.5.0",
            "_view_name": "HBoxView",
            "box_style": "",
            "children": [
              "IPY_MODEL_a549b51cdb6141d8bf428fac85e5e8e4",
              "IPY_MODEL_6f121ff574cb4170bb5faada080fdd1a",
              "IPY_MODEL_751452d661354069bbed71ff41d859e8"
            ],
            "layout": "IPY_MODEL_84a8c2a3a2b04943b9cd20931693bdd0"
          }
        },
        "8eacf28193d74bd9b64654cf91fdc8f2": {
          "model_module": "@jupyter-widgets/controls",
          "model_module_version": "1.5.0",
          "model_name": "ProgressStyleModel",
          "state": {
            "_model_module": "@jupyter-widgets/controls",
            "_model_module_version": "1.5.0",
            "_model_name": "ProgressStyleModel",
            "_view_count": null,
            "_view_module": "@jupyter-widgets/base",
            "_view_module_version": "1.2.0",
            "_view_name": "StyleView",
            "bar_color": null,
            "description_width": ""
          }
        },
        "93400c3506ed46118852dcc8e92ae709": {
          "model_module": "@jupyter-widgets/base",
          "model_module_version": "1.2.0",
          "model_name": "LayoutModel",
          "state": {
            "_model_module": "@jupyter-widgets/base",
            "_model_module_version": "1.2.0",
            "_model_name": "LayoutModel",
            "_view_count": null,
            "_view_module": "@jupyter-widgets/base",
            "_view_module_version": "1.2.0",
            "_view_name": "LayoutView",
            "align_content": null,
            "align_items": null,
            "align_self": null,
            "border": null,
            "bottom": null,
            "display": null,
            "flex": null,
            "flex_flow": null,
            "grid_area": null,
            "grid_auto_columns": null,
            "grid_auto_flow": null,
            "grid_auto_rows": null,
            "grid_column": null,
            "grid_gap": null,
            "grid_row": null,
            "grid_template_areas": null,
            "grid_template_columns": null,
            "grid_template_rows": null,
            "height": null,
            "justify_content": null,
            "justify_items": null,
            "left": null,
            "margin": null,
            "max_height": null,
            "max_width": null,
            "min_height": null,
            "min_width": null,
            "object_fit": null,
            "object_position": null,
            "order": null,
            "overflow": null,
            "overflow_x": null,
            "overflow_y": null,
            "padding": null,
            "right": null,
            "top": null,
            "visibility": null,
            "width": null
          }
        },
        "a549b51cdb6141d8bf428fac85e5e8e4": {
          "model_module": "@jupyter-widgets/controls",
          "model_module_version": "1.5.0",
          "model_name": "HTMLModel",
          "state": {
            "_dom_classes": [],
            "_model_module": "@jupyter-widgets/controls",
            "_model_module_version": "1.5.0",
            "_model_name": "HTMLModel",
            "_view_count": null,
            "_view_module": "@jupyter-widgets/controls",
            "_view_module_version": "1.5.0",
            "_view_name": "HTMLView",
            "description": "",
            "description_tooltip": null,
            "layout": "IPY_MODEL_52de633df5e040eabda9903c6ff51265",
            "placeholder": "​",
            "style": "IPY_MODEL_cd4f5108c58f48c3b79ee463c96afc9c",
            "value": "Training: 100%"
          }
        },
        "a639607525b44960842a244e695a9c03": {
          "model_module": "@jupyter-widgets/controls",
          "model_module_version": "1.5.0",
          "model_name": "HTMLModel",
          "state": {
            "_dom_classes": [],
            "_model_module": "@jupyter-widgets/controls",
            "_model_module_version": "1.5.0",
            "_model_name": "HTMLModel",
            "_view_count": null,
            "_view_module": "@jupyter-widgets/controls",
            "_view_module_version": "1.5.0",
            "_view_name": "HTMLView",
            "description": "",
            "description_tooltip": null,
            "layout": "IPY_MODEL_c9d08ccd8dfa49bcacf4788de5288e70",
            "placeholder": "​",
            "style": "IPY_MODEL_26c983b1b5704a409f5bc545beb6a96b",
            "value": " 440M/440M [00:00&lt;00:00, 482MB/s]"
          }
        },
        "aa25277ecb5c4bed8ef27989409b85d8": {
          "model_module": "@jupyter-widgets/base",
          "model_module_version": "1.2.0",
          "model_name": "LayoutModel",
          "state": {
            "_model_module": "@jupyter-widgets/base",
            "_model_module_version": "1.2.0",
            "_model_name": "LayoutModel",
            "_view_count": null,
            "_view_module": "@jupyter-widgets/base",
            "_view_module_version": "1.2.0",
            "_view_name": "LayoutView",
            "align_content": null,
            "align_items": null,
            "align_self": null,
            "border": null,
            "bottom": null,
            "display": null,
            "flex": null,
            "flex_flow": null,
            "grid_area": null,
            "grid_auto_columns": null,
            "grid_auto_flow": null,
            "grid_auto_rows": null,
            "grid_column": null,
            "grid_gap": null,
            "grid_row": null,
            "grid_template_areas": null,
            "grid_template_columns": null,
            "grid_template_rows": null,
            "height": null,
            "justify_content": null,
            "justify_items": null,
            "left": null,
            "margin": null,
            "max_height": null,
            "max_width": null,
            "min_height": null,
            "min_width": null,
            "object_fit": null,
            "object_position": null,
            "order": null,
            "overflow": null,
            "overflow_x": null,
            "overflow_y": null,
            "padding": null,
            "right": null,
            "top": null,
            "visibility": null,
            "width": null
          }
        },
        "acd7af1a58e645ac81447a2a9ffda910": {
          "model_module": "@jupyter-widgets/base",
          "model_module_version": "1.2.0",
          "model_name": "LayoutModel",
          "state": {
            "_model_module": "@jupyter-widgets/base",
            "_model_module_version": "1.2.0",
            "_model_name": "LayoutModel",
            "_view_count": null,
            "_view_module": "@jupyter-widgets/base",
            "_view_module_version": "1.2.0",
            "_view_name": "LayoutView",
            "align_content": null,
            "align_items": null,
            "align_self": null,
            "border": null,
            "bottom": null,
            "display": null,
            "flex": null,
            "flex_flow": null,
            "grid_area": null,
            "grid_auto_columns": null,
            "grid_auto_flow": null,
            "grid_auto_rows": null,
            "grid_column": null,
            "grid_gap": null,
            "grid_row": null,
            "grid_template_areas": null,
            "grid_template_columns": null,
            "grid_template_rows": null,
            "height": null,
            "justify_content": null,
            "justify_items": null,
            "left": null,
            "margin": null,
            "max_height": null,
            "max_width": null,
            "min_height": null,
            "min_width": null,
            "object_fit": null,
            "object_position": null,
            "order": null,
            "overflow": null,
            "overflow_x": null,
            "overflow_y": null,
            "padding": null,
            "right": null,
            "top": null,
            "visibility": null,
            "width": null
          }
        },
        "b109b08df67640d4a768b44ce346f8d6": {
          "model_module": "@jupyter-widgets/controls",
          "model_module_version": "1.5.0",
          "model_name": "DescriptionStyleModel",
          "state": {
            "_model_module": "@jupyter-widgets/controls",
            "_model_module_version": "1.5.0",
            "_model_name": "DescriptionStyleModel",
            "_view_count": null,
            "_view_module": "@jupyter-widgets/base",
            "_view_module_version": "1.2.0",
            "_view_name": "StyleView",
            "description_width": ""
          }
        },
        "b2bcc569ac5c4078b069fe7749f9ef28": {
          "model_module": "@jupyter-widgets/base",
          "model_module_version": "1.2.0",
          "model_name": "LayoutModel",
          "state": {
            "_model_module": "@jupyter-widgets/base",
            "_model_module_version": "1.2.0",
            "_model_name": "LayoutModel",
            "_view_count": null,
            "_view_module": "@jupyter-widgets/base",
            "_view_module_version": "1.2.0",
            "_view_name": "LayoutView",
            "align_content": null,
            "align_items": null,
            "align_self": null,
            "border": null,
            "bottom": null,
            "display": null,
            "flex": null,
            "flex_flow": null,
            "grid_area": null,
            "grid_auto_columns": null,
            "grid_auto_flow": null,
            "grid_auto_rows": null,
            "grid_column": null,
            "grid_gap": null,
            "grid_row": null,
            "grid_template_areas": null,
            "grid_template_columns": null,
            "grid_template_rows": null,
            "height": null,
            "justify_content": null,
            "justify_items": null,
            "left": null,
            "margin": null,
            "max_height": null,
            "max_width": null,
            "min_height": null,
            "min_width": null,
            "object_fit": null,
            "object_position": null,
            "order": null,
            "overflow": null,
            "overflow_x": null,
            "overflow_y": null,
            "padding": null,
            "right": null,
            "top": null,
            "visibility": null,
            "width": null
          }
        },
        "b434ba9a68a44429a313da1e099c7687": {
          "model_module": "@jupyter-widgets/controls",
          "model_module_version": "1.5.0",
          "model_name": "HTMLModel",
          "state": {
            "_dom_classes": [],
            "_model_module": "@jupyter-widgets/controls",
            "_model_module_version": "1.5.0",
            "_model_name": "HTMLModel",
            "_view_count": null,
            "_view_module": "@jupyter-widgets/controls",
            "_view_module_version": "1.5.0",
            "_view_name": "HTMLView",
            "description": "",
            "description_tooltip": null,
            "layout": "IPY_MODEL_93400c3506ed46118852dcc8e92ae709",
            "placeholder": "​",
            "style": "IPY_MODEL_0fc2f4479ada45eba41eb3415f581ddb",
            "value": "Validation: 100%"
          }
        },
        "b76f9ac3264d42ce8ead091724f72d12": {
          "model_module": "@jupyter-widgets/controls",
          "model_module_version": "1.5.0",
          "model_name": "DescriptionStyleModel",
          "state": {
            "_model_module": "@jupyter-widgets/controls",
            "_model_module_version": "1.5.0",
            "_model_name": "DescriptionStyleModel",
            "_view_count": null,
            "_view_module": "@jupyter-widgets/base",
            "_view_module_version": "1.2.0",
            "_view_name": "StyleView",
            "description_width": ""
          }
        },
        "b99a6fa138844e26a3be8119c28dd1ab": {
          "model_module": "@jupyter-widgets/controls",
          "model_module_version": "1.5.0",
          "model_name": "HBoxModel",
          "state": {
            "_dom_classes": [],
            "_model_module": "@jupyter-widgets/controls",
            "_model_module_version": "1.5.0",
            "_model_name": "HBoxModel",
            "_view_count": null,
            "_view_module": "@jupyter-widgets/controls",
            "_view_module_version": "1.5.0",
            "_view_name": "HBoxView",
            "box_style": "",
            "children": [
              "IPY_MODEL_f4d538e89ace483c86afcba9dc1cf122",
              "IPY_MODEL_1bd7997e158e4d7d8f869acaaf0cf56d",
              "IPY_MODEL_15e59aeb7f634a47897e0b3e853077bb"
            ],
            "layout": "IPY_MODEL_369c6859c1d34be59a4d27457fa9ba03"
          }
        },
        "bce7d4268c7e49b1ac100ca44626d9e6": {
          "model_module": "@jupyter-widgets/base",
          "model_module_version": "1.2.0",
          "model_name": "LayoutModel",
          "state": {
            "_model_module": "@jupyter-widgets/base",
            "_model_module_version": "1.2.0",
            "_model_name": "LayoutModel",
            "_view_count": null,
            "_view_module": "@jupyter-widgets/base",
            "_view_module_version": "1.2.0",
            "_view_name": "LayoutView",
            "align_content": null,
            "align_items": null,
            "align_self": null,
            "border": null,
            "bottom": null,
            "display": null,
            "flex": null,
            "flex_flow": null,
            "grid_area": null,
            "grid_auto_columns": null,
            "grid_auto_flow": null,
            "grid_auto_rows": null,
            "grid_column": null,
            "grid_gap": null,
            "grid_row": null,
            "grid_template_areas": null,
            "grid_template_columns": null,
            "grid_template_rows": null,
            "height": null,
            "justify_content": null,
            "justify_items": null,
            "left": null,
            "margin": null,
            "max_height": null,
            "max_width": null,
            "min_height": null,
            "min_width": null,
            "object_fit": null,
            "object_position": null,
            "order": null,
            "overflow": null,
            "overflow_x": null,
            "overflow_y": null,
            "padding": null,
            "right": null,
            "top": null,
            "visibility": null,
            "width": null
          }
        },
        "c36c413ceee844918bd62e7653c26aa5": {
          "model_module": "@jupyter-widgets/base",
          "model_module_version": "1.2.0",
          "model_name": "LayoutModel",
          "state": {
            "_model_module": "@jupyter-widgets/base",
            "_model_module_version": "1.2.0",
            "_model_name": "LayoutModel",
            "_view_count": null,
            "_view_module": "@jupyter-widgets/base",
            "_view_module_version": "1.2.0",
            "_view_name": "LayoutView",
            "align_content": null,
            "align_items": null,
            "align_self": null,
            "border": null,
            "bottom": null,
            "display": null,
            "flex": null,
            "flex_flow": null,
            "grid_area": null,
            "grid_auto_columns": null,
            "grid_auto_flow": null,
            "grid_auto_rows": null,
            "grid_column": null,
            "grid_gap": null,
            "grid_row": null,
            "grid_template_areas": null,
            "grid_template_columns": null,
            "grid_template_rows": null,
            "height": null,
            "justify_content": null,
            "justify_items": null,
            "left": null,
            "margin": null,
            "max_height": null,
            "max_width": null,
            "min_height": null,
            "min_width": null,
            "object_fit": null,
            "object_position": null,
            "order": null,
            "overflow": null,
            "overflow_x": null,
            "overflow_y": null,
            "padding": null,
            "right": null,
            "top": null,
            "visibility": null,
            "width": null
          }
        },
        "c3b8b78919d9456f8683e64c4d9d9023": {
          "model_module": "@jupyter-widgets/base",
          "model_module_version": "1.2.0",
          "model_name": "LayoutModel",
          "state": {
            "_model_module": "@jupyter-widgets/base",
            "_model_module_version": "1.2.0",
            "_model_name": "LayoutModel",
            "_view_count": null,
            "_view_module": "@jupyter-widgets/base",
            "_view_module_version": "1.2.0",
            "_view_name": "LayoutView",
            "align_content": null,
            "align_items": null,
            "align_self": null,
            "border": null,
            "bottom": null,
            "display": null,
            "flex": null,
            "flex_flow": null,
            "grid_area": null,
            "grid_auto_columns": null,
            "grid_auto_flow": null,
            "grid_auto_rows": null,
            "grid_column": null,
            "grid_gap": null,
            "grid_row": null,
            "grid_template_areas": null,
            "grid_template_columns": null,
            "grid_template_rows": null,
            "height": null,
            "justify_content": null,
            "justify_items": null,
            "left": null,
            "margin": null,
            "max_height": null,
            "max_width": null,
            "min_height": null,
            "min_width": null,
            "object_fit": null,
            "object_position": null,
            "order": null,
            "overflow": null,
            "overflow_x": null,
            "overflow_y": null,
            "padding": null,
            "right": null,
            "top": null,
            "visibility": null,
            "width": null
          }
        },
        "c46e53720372497d97eba296b5b4caf4": {
          "model_module": "@jupyter-widgets/controls",
          "model_module_version": "1.5.0",
          "model_name": "ProgressStyleModel",
          "state": {
            "_model_module": "@jupyter-widgets/controls",
            "_model_module_version": "1.5.0",
            "_model_name": "ProgressStyleModel",
            "_view_count": null,
            "_view_module": "@jupyter-widgets/base",
            "_view_module_version": "1.2.0",
            "_view_name": "StyleView",
            "bar_color": null,
            "description_width": ""
          }
        },
        "c9d08ccd8dfa49bcacf4788de5288e70": {
          "model_module": "@jupyter-widgets/base",
          "model_module_version": "1.2.0",
          "model_name": "LayoutModel",
          "state": {
            "_model_module": "@jupyter-widgets/base",
            "_model_module_version": "1.2.0",
            "_model_name": "LayoutModel",
            "_view_count": null,
            "_view_module": "@jupyter-widgets/base",
            "_view_module_version": "1.2.0",
            "_view_name": "LayoutView",
            "align_content": null,
            "align_items": null,
            "align_self": null,
            "border": null,
            "bottom": null,
            "display": null,
            "flex": null,
            "flex_flow": null,
            "grid_area": null,
            "grid_auto_columns": null,
            "grid_auto_flow": null,
            "grid_auto_rows": null,
            "grid_column": null,
            "grid_gap": null,
            "grid_row": null,
            "grid_template_areas": null,
            "grid_template_columns": null,
            "grid_template_rows": null,
            "height": null,
            "justify_content": null,
            "justify_items": null,
            "left": null,
            "margin": null,
            "max_height": null,
            "max_width": null,
            "min_height": null,
            "min_width": null,
            "object_fit": null,
            "object_position": null,
            "order": null,
            "overflow": null,
            "overflow_x": null,
            "overflow_y": null,
            "padding": null,
            "right": null,
            "top": null,
            "visibility": null,
            "width": null
          }
        },
        "cbcdc14967c6460bb66e707c992ecd32": {
          "model_module": "@jupyter-widgets/controls",
          "model_module_version": "1.5.0",
          "model_name": "ProgressStyleModel",
          "state": {
            "_model_module": "@jupyter-widgets/controls",
            "_model_module_version": "1.5.0",
            "_model_name": "ProgressStyleModel",
            "_view_count": null,
            "_view_module": "@jupyter-widgets/base",
            "_view_module_version": "1.2.0",
            "_view_name": "StyleView",
            "bar_color": null,
            "description_width": ""
          }
        },
        "cd4f5108c58f48c3b79ee463c96afc9c": {
          "model_module": "@jupyter-widgets/controls",
          "model_module_version": "1.5.0",
          "model_name": "DescriptionStyleModel",
          "state": {
            "_model_module": "@jupyter-widgets/controls",
            "_model_module_version": "1.5.0",
            "_model_name": "DescriptionStyleModel",
            "_view_count": null,
            "_view_module": "@jupyter-widgets/base",
            "_view_module_version": "1.2.0",
            "_view_name": "StyleView",
            "description_width": ""
          }
        },
        "ce8d023b400447c7a6fe267451dbb6bc": {
          "model_module": "@jupyter-widgets/controls",
          "model_module_version": "1.5.0",
          "model_name": "ProgressStyleModel",
          "state": {
            "_model_module": "@jupyter-widgets/controls",
            "_model_module_version": "1.5.0",
            "_model_name": "ProgressStyleModel",
            "_view_count": null,
            "_view_module": "@jupyter-widgets/base",
            "_view_module_version": "1.2.0",
            "_view_name": "StyleView",
            "bar_color": null,
            "description_width": ""
          }
        },
        "d692fd7eda7d4a79b07ac0b9b016514a": {
          "model_module": "@jupyter-widgets/controls",
          "model_module_version": "1.5.0",
          "model_name": "HTMLModel",
          "state": {
            "_dom_classes": [],
            "_model_module": "@jupyter-widgets/controls",
            "_model_module_version": "1.5.0",
            "_model_name": "HTMLModel",
            "_view_count": null,
            "_view_module": "@jupyter-widgets/controls",
            "_view_module_version": "1.5.0",
            "_view_name": "HTMLView",
            "description": "",
            "description_tooltip": null,
            "layout": "IPY_MODEL_c36c413ceee844918bd62e7653c26aa5",
            "placeholder": "​",
            "style": "IPY_MODEL_805cf93c2c024f189f41b624a755bd21",
            "value": " 2188/2188 [03:16&lt;00:00, 11.16it/s]"
          }
        },
        "ddb0ee8e7c6e44c7ba86ca2821c59490": {
          "model_module": "@jupyter-widgets/controls",
          "model_module_version": "1.5.0",
          "model_name": "HTMLModel",
          "state": {
            "_dom_classes": [],
            "_model_module": "@jupyter-widgets/controls",
            "_model_module_version": "1.5.0",
            "_model_name": "HTMLModel",
            "_view_count": null,
            "_view_module": "@jupyter-widgets/controls",
            "_view_module_version": "1.5.0",
            "_view_name": "HTMLView",
            "description": "",
            "description_tooltip": null,
            "layout": "IPY_MODEL_c3b8b78919d9456f8683e64c4d9d9023",
            "placeholder": "​",
            "style": "IPY_MODEL_b109b08df67640d4a768b44ce346f8d6",
            "value": " 469/469 [00:12&lt;00:00, 35.98it/s]"
          }
        },
        "dea0a4c4cb2a4c38b990aa8fa9056401": {
          "model_module": "@jupyter-widgets/controls",
          "model_module_version": "1.5.0",
          "model_name": "ProgressStyleModel",
          "state": {
            "_model_module": "@jupyter-widgets/controls",
            "_model_module_version": "1.5.0",
            "_model_name": "ProgressStyleModel",
            "_view_count": null,
            "_view_module": "@jupyter-widgets/base",
            "_view_module_version": "1.2.0",
            "_view_name": "StyleView",
            "bar_color": null,
            "description_width": ""
          }
        },
        "df8e6b21b4504ae3b5e17248e5a38bf7": {
          "model_module": "@jupyter-widgets/controls",
          "model_module_version": "1.5.0",
          "model_name": "HTMLModel",
          "state": {
            "_dom_classes": [],
            "_model_module": "@jupyter-widgets/controls",
            "_model_module_version": "1.5.0",
            "_model_name": "HTMLModel",
            "_view_count": null,
            "_view_module": "@jupyter-widgets/controls",
            "_view_module_version": "1.5.0",
            "_view_name": "HTMLView",
            "description": "",
            "description_tooltip": null,
            "layout": "IPY_MODEL_2dc8f58d53bd46f7be08b9d0b594a3e2",
            "placeholder": "​",
            "style": "IPY_MODEL_882bdd394492416fbeb83d4978f59cce",
            "value": "Training: 100%"
          }
        },
        "df972da055904b8c850eb714436f86ad": {
          "model_module": "@jupyter-widgets/controls",
          "model_module_version": "1.5.0",
          "model_name": "FloatProgressModel",
          "state": {
            "_dom_classes": [],
            "_model_module": "@jupyter-widgets/controls",
            "_model_module_version": "1.5.0",
            "_model_name": "FloatProgressModel",
            "_view_count": null,
            "_view_module": "@jupyter-widgets/controls",
            "_view_module_version": "1.5.0",
            "_view_name": "ProgressView",
            "bar_style": "success",
            "description": "",
            "description_tooltip": null,
            "layout": "IPY_MODEL_b2bcc569ac5c4078b069fe7749f9ef28",
            "max": 440473133,
            "min": 0,
            "orientation": "horizontal",
            "style": "IPY_MODEL_dea0a4c4cb2a4c38b990aa8fa9056401",
            "value": 440473133
          }
        },
        "e8b7d83da69a4d8ca9542962db8f73db": {
          "model_module": "@jupyter-widgets/controls",
          "model_module_version": "1.5.0",
          "model_name": "FloatProgressModel",
          "state": {
            "_dom_classes": [],
            "_model_module": "@jupyter-widgets/controls",
            "_model_module_version": "1.5.0",
            "_model_name": "FloatProgressModel",
            "_view_count": null,
            "_view_module": "@jupyter-widgets/controls",
            "_view_module_version": "1.5.0",
            "_view_name": "ProgressView",
            "bar_style": "success",
            "description": "",
            "description_tooltip": null,
            "layout": "IPY_MODEL_72c0795b85cc4304a86846b1b5229107",
            "max": 469,
            "min": 0,
            "orientation": "horizontal",
            "style": "IPY_MODEL_8eacf28193d74bd9b64654cf91fdc8f2",
            "value": 469
          }
        },
        "f4d538e89ace483c86afcba9dc1cf122": {
          "model_module": "@jupyter-widgets/controls",
          "model_module_version": "1.5.0",
          "model_name": "HTMLModel",
          "state": {
            "_dom_classes": [],
            "_model_module": "@jupyter-widgets/controls",
            "_model_module_version": "1.5.0",
            "_model_name": "HTMLModel",
            "_view_count": null,
            "_view_module": "@jupyter-widgets/controls",
            "_view_module_version": "1.5.0",
            "_view_name": "HTMLView",
            "description": "",
            "description_tooltip": null,
            "layout": "IPY_MODEL_3bfb7d8c0c1a4e1fa453353ddc1ebb3d",
            "placeholder": "​",
            "style": "IPY_MODEL_b76f9ac3264d42ce8ead091724f72d12",
            "value": "Validation: 100%"
          }
        },
        "fd69e3eecd3549efb8a5f82c101b29fa": {
          "model_module": "@jupyter-widgets/base",
          "model_module_version": "1.2.0",
          "model_name": "LayoutModel",
          "state": {
            "_model_module": "@jupyter-widgets/base",
            "_model_module_version": "1.2.0",
            "_model_name": "LayoutModel",
            "_view_count": null,
            "_view_module": "@jupyter-widgets/base",
            "_view_module_version": "1.2.0",
            "_view_name": "LayoutView",
            "align_content": null,
            "align_items": null,
            "align_self": null,
            "border": null,
            "bottom": null,
            "display": null,
            "flex": null,
            "flex_flow": null,
            "grid_area": null,
            "grid_auto_columns": null,
            "grid_auto_flow": null,
            "grid_auto_rows": null,
            "grid_column": null,
            "grid_gap": null,
            "grid_row": null,
            "grid_template_areas": null,
            "grid_template_columns": null,
            "grid_template_rows": null,
            "height": null,
            "justify_content": null,
            "justify_items": null,
            "left": null,
            "margin": null,
            "max_height": null,
            "max_width": null,
            "min_height": null,
            "min_width": null,
            "object_fit": null,
            "object_position": null,
            "order": null,
            "overflow": null,
            "overflow_x": null,
            "overflow_y": null,
            "padding": null,
            "right": null,
            "top": null,
            "visibility": null,
            "width": null
          }
        },
        "fdab48ba45bb41a884746c5730f1fb2b": {
          "model_module": "@jupyter-widgets/base",
          "model_module_version": "1.2.0",
          "model_name": "LayoutModel",
          "state": {
            "_model_module": "@jupyter-widgets/base",
            "_model_module_version": "1.2.0",
            "_model_name": "LayoutModel",
            "_view_count": null,
            "_view_module": "@jupyter-widgets/base",
            "_view_module_version": "1.2.0",
            "_view_name": "LayoutView",
            "align_content": null,
            "align_items": null,
            "align_self": null,
            "border": null,
            "bottom": null,
            "display": null,
            "flex": null,
            "flex_flow": null,
            "grid_area": null,
            "grid_auto_columns": null,
            "grid_auto_flow": null,
            "grid_auto_rows": null,
            "grid_column": null,
            "grid_gap": null,
            "grid_row": null,
            "grid_template_areas": null,
            "grid_template_columns": null,
            "grid_template_rows": null,
            "height": null,
            "justify_content": null,
            "justify_items": null,
            "left": null,
            "margin": null,
            "max_height": null,
            "max_width": null,
            "min_height": null,
            "min_width": null,
            "object_fit": null,
            "object_position": null,
            "order": null,
            "overflow": null,
            "overflow_x": null,
            "overflow_y": null,
            "padding": null,
            "right": null,
            "top": null,
            "visibility": null,
            "width": null
          }
        }
      }
    }
  },
  "nbformat": 4,
  "nbformat_minor": 0
}
