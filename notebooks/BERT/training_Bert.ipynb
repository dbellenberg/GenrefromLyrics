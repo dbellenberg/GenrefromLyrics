{
 "cells": [
  {
   "cell_type": "code",
   "execution_count": 8,
   "metadata": {},
   "outputs": [],
   "source": [
    "import numpy as np\n",
    "import pandas as pd\n",
    "import torch\n",
    "import os\n",
    "import pickle\n",
    "from sklearn.model_selection import train_test_split\n",
    "from torch.utils.data import DataLoader, Dataset\n",
    "from transformers import BertTokenizerFast, DataCollatorWithPadding\n",
    "from transformers import BertForSequenceClassification, AdamW\n",
    "import pytorch_lightning as pl\n",
    "from transformers import BertTokenizer\n",
    "from tqdm import tqdm\n",
    "tqdm.pandas()"
   ]
  },
  {
   "cell_type": "code",
   "execution_count": null,
   "metadata": {},
   "outputs": [],
   "source": [
    "#TODO: add proper requirements.txt"
   ]
  },
  {
   "attachments": {},
   "cell_type": "markdown",
   "metadata": {},
   "source": [
    "# Bert training (GPU necessary!)"
   ]
  },
  {
   "cell_type": "code",
   "execution_count": null,
   "metadata": {},
   "outputs": [],
   "source": [
    "class LyricsDataset(Dataset):\n",
    "    def __init__(self, encodings, labels):\n",
    "        self.encodings = encodings\n",
    "        self.labels = labels\n",
    "\n",
    "    def __getitem__(self, idx):\n",
    "        item = {'input_ids': self.encodings.iloc[idx] if isinstance(self.encodings.iloc[idx], torch.Tensor) else torch.tensor(self.encodings.iloc[idx])}\n",
    "        item['labels'] = self.labels.iloc[idx] if isinstance(self.labels.iloc[idx], torch.Tensor) else torch.tensor(self.labels.iloc[idx])\n",
    "        return item\n",
    "\n",
    "    def __len__(self):\n",
    "        return len(self.encodings)\n",
    "\n",
    "class LyricsClassifier(pl.LightningModule):\n",
    "    def __init__(self, model_name='bert-base-uncased', num_labels=5):\n",
    "        super().__init__()\n",
    "        self.save_hyperparameters()\n",
    "        self.bert = BertForSequenceClassification.from_pretrained(self.hparams.model_name,\n",
    "                                                                  num_labels=self.hparams.num_labels)\n",
    "\n",
    "    def forward(self, input_ids, labels):\n",
    "        return self.bert(input_ids, labels=labels)\n",
    "\n",
    "    def training_step(self, batch, batch_idx):\n",
    "        outputs = self.forward(batch['input_ids'], batch['labels'])\n",
    "        loss = outputs.loss\n",
    "        return loss\n",
    "\n",
    "    def configure_optimizers(self):\n",
    "        return AdamW(self.parameters(), lr=1e-5)\n",
    "\n",
    "### TODO: Callbacks for logging metrics and saving checkpoints\n",
    "\n",
    "\n",
    "def load_data():\n",
    "    with open(\"/content/drive/MyDrive/NLP/small_sample_tokenized/tokenized_lyrics.pickle\", 'rb') as f:\n",
    "        encodings = pickle.load(f)\n",
    "    with open(\"/content/drive/MyDrive/NLP/small_sample_tokenized/labels_le.pickle\", 'rb') as f:\n",
    "        labels = pickle.load(f)\n",
    "\n",
    "    return encodings, labels\n",
    "\n",
    "\n",
    "def main():\n",
    "    encodings, labels = load_data()\n",
    "\n",
    "    #prepare tokenizer and data collator\n",
    "    tokenizer = BertTokenizerFast.from_pretrained('bert-base-uncased')\n",
    "    data_collator = DataCollatorWithPadding(tokenizer=tokenizer)\n",
    "\n",
    "    #prepare datasets\n",
    "    train_encodings, val_encodings, train_labels, val_labels = train_test_split(encodings, labels, test_size=0.1, random_state=42)\n",
    "    train_dataset = LyricsDataset(train_encodings, train_labels)\n",
    "    val_dataset = LyricsDataset(val_encodings, val_labels)\n",
    "\n",
    "    model = LyricsClassifier()\n",
    "\n",
    "    # data loaders\n",
    "    train_loader = DataLoader(train_dataset, batch_size=16, shuffle=True, collate_fn=data_collator)\n",
    "    val_loader = DataLoader(val_dataset, batch_size=16, shuffle=False, collate_fn=data_collator)\n",
    "\n",
    "    #Prepare trainer\n",
    "    trainer = pl.Trainer(precision=16, limit_train_batches=0.5,max_epochs=3)\n",
    "\n",
    "    # Training\n",
    "    trainer.fit(model, train_loader, val_loader)\n",
    "    \n",
    "    return model\n",
    "\n",
    "model = main()\n"
   ]
  },
  {
   "cell_type": "code",
   "execution_count": null,
   "metadata": {},
   "outputs": [],
   "source": [
    "test_encodings, test_labels = load_test_data()  # assuming you have a function to load your test data\n",
    "test_dataset = LyricsDataset(test_encodings, test_labels)\n",
    "test_loader = DataLoader(test_dataset, batch_size=16, shuffle=False, collate_fn=data_collator)\n",
    "\n",
    "\n",
    "accuracy, conf_matrix = evaluate(model, test_loader)\n",
    "print(\"Accuracy: \", accuracy)\n",
    "print(\"Confusion Matrix: \", conf_matrix)"
   ]
  },
  {
   "attachments": {},
   "cell_type": "markdown",
   "metadata": {},
   "source": [
    "# checking out performance with Checkpoint file"
   ]
  },
  {
   "cell_type": "code",
   "execution_count": null,
   "metadata": {},
   "outputs": [],
   "source": [
    "#!pip install tensorboard"
   ]
  },
  {
   "cell_type": "code",
   "execution_count": null,
   "metadata": {},
   "outputs": [],
   "source": [
    "# TODO: create test_encodings, test_labels for checkpoint testing"
   ]
  },
  {
   "cell_type": "code",
   "execution_count": 3,
   "metadata": {},
   "outputs": [],
   "source": [
    "from transformers import pipeline\n",
    "from sklearn.metrics import classification_report\n",
    "import numpy as np\n",
    "\n",
    "def evaluate_model(model, test_dataset):\n",
    "    # Prepare data loader\n",
    "    data_collator = DataCollatorWithPadding(tokenizer=tokenizer)\n",
    "    test_loader = DataLoader(test_dataset, batch_size=16, shuffle=False, collate_fn=data_collator)\n",
    "\n",
    "    # Move model to evaluation mode\n",
    "    model.eval()\n",
    "\n",
    "    # Prepare prediction and label lists\n",
    "    predictions = []\n",
    "    actuals = []\n",
    "\n",
    "    # Iterate through test data\n",
    "    for batch in test_loader:\n",
    "        # Move batch to device\n",
    "        batch = {k: v.to(model.device) for k, v in batch.items()}\n",
    "        # Forward pass\n",
    "        with torch.no_grad():\n",
    "            outputs = model(**batch)\n",
    "        \n",
    "        # Get the predicted labels\n",
    "        _, preds = torch.max(outputs.logits, dim=1)\n",
    "\n",
    "        # Move preds to CPU\n",
    "        preds = preds.detach().cpu().numpy()\n",
    "        predictions.extend(preds)\n",
    "\n",
    "        # Extract labels and add to list\n",
    "        labels = batch['labels'].detach().cpu().numpy()\n",
    "        actuals.extend(labels)\n",
    "\n",
    "    # Generate classification report\n",
    "    report = classification_report(actuals, predictions, output_dict=True)\n",
    "\n",
    "    return report\n",
    "\n",
    "def load_and_evaluate_model(checkpoint_path, test_dataset):\n",
    "    model = LyricsClassifier.load_from_checkpoint(checkpoint_path)\n",
    "\n",
    "    report = evaluate_model(model, test_dataset)\n",
    "\n",
    "    for label, metrics in report.items():\n",
    "        print(f'\\nClass: {label}')\n",
    "        for metric, value in metrics.items():\n",
    "            print(f'{metric}: {value}')\n",
    "\n"
   ]
  },
  {
   "cell_type": "code",
   "execution_count": null,
   "metadata": {},
   "outputs": [],
   "source": [
    "# Usage example\n",
    "test_dataset = LyricsDataset(test_encodings, test_labels)\n",
    "load_and_evaluate_model('/content/lightning_logs/version_2/checkpoints/epoch=1-step=2812.ckpt', test_dataset)\n"
   ]
  }
 ],
 "metadata": {
  "kernelspec": {
   "display_name": "nlp_env",
   "language": "python",
   "name": "nlp_env"
  },
  "language_info": {
   "codemirror_mode": {
    "name": "ipython",
    "version": 3
   },
   "file_extension": ".py",
   "mimetype": "text/x-python",
   "name": "python",
   "nbconvert_exporter": "python",
   "pygments_lexer": "ipython3",
   "version": "3.8.16"
  },
  "orig_nbformat": 4
 },
 "nbformat": 4,
 "nbformat_minor": 2
}
