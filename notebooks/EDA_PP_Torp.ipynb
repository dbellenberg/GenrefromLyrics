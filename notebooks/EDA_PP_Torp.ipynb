{
 "cells": [
  {
   "cell_type": "code",
   "execution_count": 4,
   "metadata": {},
   "outputs": [
    {
     "name": "stderr",
     "output_type": "stream",
     "text": [
      "[nltk_data] Downloading package punkt to /home/ucloud/nltk_data...\n",
      "[nltk_data]   Package punkt is already up-to-date!\n",
      "[nltk_data] Downloading package stopwords to /home/ucloud/nltk_data...\n",
      "[nltk_data]   Package stopwords is already up-to-date!\n",
      "[nltk_data] Downloading package wordnet to /home/ucloud/nltk_data...\n",
      "[nltk_data]   Package wordnet is already up-to-date!\n"
     ]
    },
    {
     "data": {
      "text/plain": [
       "True"
      ]
     },
     "execution_count": 4,
     "metadata": {},
     "output_type": "execute_result"
    }
   ],
   "source": [
    "import pandas as pd\n",
    "from tqdm import tqdm\n",
    "from multiprocessing import Pool\n",
    "import matplotlib.pyplot as plt\n",
    "import seaborn as sns\n",
    "import re\n",
    "import string\n",
    "import nltk\n",
    "from nltk.tokenize import word_tokenize\n",
    "from nltk.corpus import stopwords\n",
    "from nltk.stem import WordNetLemmatizer\n",
    "from nltk import NaiveBayesClassifier\n",
    "from concurrent.futures import ThreadPoolExecutor\n",
    "from sklearn.model_selection import train_test_split\n",
    "from sklearn.metrics import classification_report\n",
    "\n",
    "\n",
    "\n",
    "nltk.download('punkt')  # Download the required data for tokenization\n",
    "nltk.download('stopwords')  # Download the required data for stopwords\n",
    "nltk.download('wordnet')  # Download the required data for lemmatization"
   ]
  },
  {
   "cell_type": "code",
   "execution_count": null,
   "metadata": {},
   "outputs": [],
   "source": [
    "#! pip install -r requirements.txt"
   ]
  },
  {
   "cell_type": "code",
   "execution_count": 6,
   "metadata": {},
   "outputs": [
    {
     "data": {
      "text/html": [
       "<div>\n",
       "<style scoped>\n",
       "    .dataframe tbody tr th:only-of-type {\n",
       "        vertical-align: middle;\n",
       "    }\n",
       "\n",
       "    .dataframe tbody tr th {\n",
       "        vertical-align: top;\n",
       "    }\n",
       "\n",
       "    .dataframe thead th {\n",
       "        text-align: right;\n",
       "    }\n",
       "</style>\n",
       "<table border=\"1\" class=\"dataframe\">\n",
       "  <thead>\n",
       "    <tr style=\"text-align: right;\">\n",
       "      <th></th>\n",
       "      <th>title</th>\n",
       "      <th>tag</th>\n",
       "      <th>artist</th>\n",
       "      <th>year</th>\n",
       "      <th>lyrics</th>\n",
       "      <th>id</th>\n",
       "      <th>language</th>\n",
       "    </tr>\n",
       "  </thead>\n",
       "  <tbody>\n",
       "    <tr>\n",
       "      <th>0</th>\n",
       "      <td>Killa Cam</td>\n",
       "      <td>rap</td>\n",
       "      <td>Cam'ron</td>\n",
       "      <td>2004</td>\n",
       "      <td>[Chorus: Opera Steve &amp; Cam'ron]\\nKilla Cam, Ki...</td>\n",
       "      <td>1</td>\n",
       "      <td>en</td>\n",
       "    </tr>\n",
       "    <tr>\n",
       "      <th>1</th>\n",
       "      <td>Can I Live</td>\n",
       "      <td>rap</td>\n",
       "      <td>JAY-Z</td>\n",
       "      <td>1996</td>\n",
       "      <td>[Produced by Irv Gotti]\\n\\n[Intro]\\nYeah, hah,...</td>\n",
       "      <td>3</td>\n",
       "      <td>en</td>\n",
       "    </tr>\n",
       "    <tr>\n",
       "      <th>2</th>\n",
       "      <td>Forgive Me Father</td>\n",
       "      <td>rap</td>\n",
       "      <td>Fabolous</td>\n",
       "      <td>2003</td>\n",
       "      <td>Maybe cause I'm eatin\\nAnd these bastards fien...</td>\n",
       "      <td>4</td>\n",
       "      <td>en</td>\n",
       "    </tr>\n",
       "    <tr>\n",
       "      <th>3</th>\n",
       "      <td>Down and Out</td>\n",
       "      <td>rap</td>\n",
       "      <td>Cam'ron</td>\n",
       "      <td>2004</td>\n",
       "      <td>[Produced by Kanye West and Brian Miller]\\n\\n[...</td>\n",
       "      <td>5</td>\n",
       "      <td>en</td>\n",
       "    </tr>\n",
       "    <tr>\n",
       "      <th>4</th>\n",
       "      <td>Fly In</td>\n",
       "      <td>rap</td>\n",
       "      <td>Lil Wayne</td>\n",
       "      <td>2005</td>\n",
       "      <td>[Intro]\\nSo they ask me\\n\"Young boy\\nWhat you ...</td>\n",
       "      <td>6</td>\n",
       "      <td>en</td>\n",
       "    </tr>\n",
       "  </tbody>\n",
       "</table>\n",
       "</div>"
      ],
      "text/plain": [
       "               title  tag     artist  year   \n",
       "0          Killa Cam  rap    Cam'ron  2004  \\\n",
       "1         Can I Live  rap      JAY-Z  1996   \n",
       "2  Forgive Me Father  rap   Fabolous  2003   \n",
       "3       Down and Out  rap    Cam'ron  2004   \n",
       "4             Fly In  rap  Lil Wayne  2005   \n",
       "\n",
       "                                              lyrics  id language  \n",
       "0  [Chorus: Opera Steve & Cam'ron]\\nKilla Cam, Ki...   1       en  \n",
       "1  [Produced by Irv Gotti]\\n\\n[Intro]\\nYeah, hah,...   3       en  \n",
       "2  Maybe cause I'm eatin\\nAnd these bastards fien...   4       en  \n",
       "3  [Produced by Kanye West and Brian Miller]\\n\\n[...   5       en  \n",
       "4  [Intro]\\nSo they ask me\\n\"Young boy\\nWhat you ...   6       en  "
      ]
     },
     "execution_count": 6,
     "metadata": {},
     "output_type": "execute_result"
    }
   ],
   "source": [
    "pickle_path = './cleaned_df/df_cleaned_engl.pkl'\n",
    "df = pd.read_pickle(pickle_path)\n",
    "df.head()"
   ]
  },
  {
   "attachments": {},
   "cell_type": "markdown",
   "metadata": {},
   "source": [
    "**Initial Filtering**"
   ]
  },
  {
   "cell_type": "code",
   "execution_count": 7,
   "metadata": {},
   "outputs": [
    {
     "data": {
      "text/html": [
       "<div>\n",
       "<style scoped>\n",
       "    .dataframe tbody tr th:only-of-type {\n",
       "        vertical-align: middle;\n",
       "    }\n",
       "\n",
       "    .dataframe tbody tr th {\n",
       "        vertical-align: top;\n",
       "    }\n",
       "\n",
       "    .dataframe thead th {\n",
       "        text-align: right;\n",
       "    }\n",
       "</style>\n",
       "<table border=\"1\" class=\"dataframe\">\n",
       "  <thead>\n",
       "    <tr style=\"text-align: right;\">\n",
       "      <th></th>\n",
       "      <th>tag</th>\n",
       "      <th>year</th>\n",
       "      <th>lyrics</th>\n",
       "      <th>id</th>\n",
       "    </tr>\n",
       "  </thead>\n",
       "  <tbody>\n",
       "    <tr>\n",
       "      <th>0</th>\n",
       "      <td>rap</td>\n",
       "      <td>2004</td>\n",
       "      <td>[Chorus: Opera Steve &amp; Cam'ron]\\nKilla Cam, Ki...</td>\n",
       "      <td>1</td>\n",
       "    </tr>\n",
       "    <tr>\n",
       "      <th>1</th>\n",
       "      <td>rap</td>\n",
       "      <td>1996</td>\n",
       "      <td>[Produced by Irv Gotti]\\n\\n[Intro]\\nYeah, hah,...</td>\n",
       "      <td>3</td>\n",
       "    </tr>\n",
       "    <tr>\n",
       "      <th>2</th>\n",
       "      <td>rap</td>\n",
       "      <td>2003</td>\n",
       "      <td>Maybe cause I'm eatin\\nAnd these bastards fien...</td>\n",
       "      <td>4</td>\n",
       "    </tr>\n",
       "    <tr>\n",
       "      <th>3</th>\n",
       "      <td>rap</td>\n",
       "      <td>2004</td>\n",
       "      <td>[Produced by Kanye West and Brian Miller]\\n\\n[...</td>\n",
       "      <td>5</td>\n",
       "    </tr>\n",
       "    <tr>\n",
       "      <th>4</th>\n",
       "      <td>rap</td>\n",
       "      <td>2005</td>\n",
       "      <td>[Intro]\\nSo they ask me\\n\"Young boy\\nWhat you ...</td>\n",
       "      <td>6</td>\n",
       "    </tr>\n",
       "  </tbody>\n",
       "</table>\n",
       "</div>"
      ],
      "text/plain": [
       "   tag  year                                             lyrics  id\n",
       "0  rap  2004  [Chorus: Opera Steve & Cam'ron]\\nKilla Cam, Ki...   1\n",
       "1  rap  1996  [Produced by Irv Gotti]\\n\\n[Intro]\\nYeah, hah,...   3\n",
       "2  rap  2003  Maybe cause I'm eatin\\nAnd these bastards fien...   4\n",
       "3  rap  2004  [Produced by Kanye West and Brian Miller]\\n\\n[...   5\n",
       "4  rap  2005  [Intro]\\nSo they ask me\\n\"Young boy\\nWhat you ...   6"
      ]
     },
     "execution_count": 7,
     "metadata": {},
     "output_type": "execute_result"
    }
   ],
   "source": [
    "# drop nan values in columns lyrics, tag, and title\n",
    "df.dropna(subset=['lyrics', 'tag', 'title'], inplace=True)\n",
    "\n",
    "# Check for duplicates based on the combination of title' and artist\n",
    "duplicates = df.duplicated(subset=['title', 'artist'], keep=False)\n",
    "# Invert the boolean condition to keep rows that do not occur twice\n",
    "df = df[~duplicates]\n",
    "\n",
    "# Dropping the the title, artist, and language column in-place, since we're interested in the lyrics and tag primarily and year secondary\n",
    "df.drop(['title', 'artist', 'language'], axis=1, inplace=True)\n",
    "\n",
    "df.head()"
   ]
  },
  {
   "cell_type": "code",
   "execution_count": 8,
   "metadata": {},
   "outputs": [
    {
     "data": {
      "text/plain": [
       "(4042571, 4)"
      ]
     },
     "execution_count": 8,
     "metadata": {},
     "output_type": "execute_result"
    }
   ],
   "source": [
    "df.shape"
   ]
  },
  {
   "attachments": {},
   "cell_type": "markdown",
   "metadata": {},
   "source": [
    "**Time Filtering**\n",
    "\n",
    "Considering changes in language over time, dropping songs before 1960 (arbitrary choice)"
   ]
  },
  {
   "cell_type": "code",
   "execution_count": 9,
   "metadata": {},
   "outputs": [
    {
     "data": {
      "image/png": "[encoded data removed]",
      "text/plain": [
       "<Figure size 1200x600 with 1 Axes>"
      ]
     },
     "metadata": {},
     "output_type": "display_data"
    }
   ],
   "source": [
    "\n",
    "df = df[df['year'] >= 1960]\n",
    "\n",
    "year_counts = df['year'].value_counts()\n",
    "valid_years = year_counts.index\n",
    "\n",
    "year_order = df['year'].sort_values().unique()\n",
    "valid_years = valid_years[valid_years >= 1960]\n",
    "\n",
    "valid_years = sorted(valid_years)  # Sort the valid years in ascending order\n",
    "\n",
    "\n",
    "sns.set(style=\"darkgrid\")\n",
    "plt.figure(figsize=(12, 6))\n",
    "ax = sns.countplot(data=df[df['year'].isin(valid_years)], x='year', order=valid_years, color='steelblue')\n",
    "\n",
    "# Display only every 10th year on the x-axis\n",
    "every_10th_year = [year if i % 10 == 0 else '' for i, year in enumerate(valid_years)]\n",
    "ax.set_xticklabels(every_10th_year)\n",
    "plt.xticks(rotation=90)\n",
    "\n",
    "plt.title('Year Distribution from 1960')\n",
    "plt.xlabel('Year')\n",
    "plt.ylabel('Count')\n",
    "plt.show()"
   ]
  },
  {
   "cell_type": "code",
   "execution_count": 10,
   "metadata": {},
   "outputs": [
    {
     "data": {
      "text/plain": [
       "(4019912, 4)"
      ]
     },
     "execution_count": 10,
     "metadata": {},
     "output_type": "execute_result"
    }
   ],
   "source": [
    "df.shape"
   ]
  },
  {
   "attachments": {},
   "cell_type": "markdown",
   "metadata": {},
   "source": [
    "**Word Processing**"
   ]
  },
  {
   "cell_type": "code",
   "execution_count": 11,
   "metadata": {},
   "outputs": [
    {
     "data": {
      "text/plain": [
       "count      3290.000000\n",
       "mean       1221.857751\n",
       "std       11055.504021\n",
       "min           1.000000\n",
       "25%           1.000000\n",
       "50%           4.000000\n",
       "75%         307.500000\n",
       "max      620169.000000\n",
       "Name: count, dtype: float64"
      ]
     },
     "execution_count": 11,
     "metadata": {},
     "output_type": "execute_result"
    }
   ],
   "source": [
    "# Examining word_count\n",
    "df['word_count'] = df['lyrics'].apply(lambda x: len(x.split()))\n",
    "df['word_count'].value_counts().describe()"
   ]
  },
  {
   "attachments": {},
   "cell_type": "markdown",
   "metadata": {},
   "source": [
    "Filter for less then 2500 words instead, since:\n",
    "\n",
    "    1. Average song on Spotify is around three minutes (down from the peak in the 90's at 4min and 17 seconds)\n",
    "    2. Someone found books etc in the dataset\n",
    "    3. 2500 / 5 min = 500 words/min which is still a substantial safety margin\n",
    "    4. Some songs are more than \n",
    "\n",
    "https://www.statista.com/chart/26546/mean-song-duration-of-currently-streamable-songs-by-year-of-release/"
   ]
  },
  {
   "cell_type": "code",
   "execution_count": 12,
   "metadata": {},
   "outputs": [
    {
     "data": {
      "text/plain": [
       "(3252106, 5)"
      ]
     },
     "execution_count": 12,
     "metadata": {},
     "output_type": "execute_result"
    }
   ],
   "source": [
    "df = df[(df['word_count'] < 2500) & (df['word_count'] > 50)]\n",
    "df.shape"
   ]
  },
  {
   "cell_type": "code",
   "execution_count": 13,
   "metadata": {},
   "outputs": [
    {
     "data": {
      "text/plain": [
       "<Axes: xlabel='word_count', ylabel='Count'>"
      ]
     },
     "execution_count": 13,
     "metadata": {},
     "output_type": "execute_result"
    },
    {
     "data": {
      "image/png": "[encoded data removed]",
      "text/plain": [
       "<Figure size 640x480 with 1 Axes>"
      ]
     },
     "metadata": {},
     "output_type": "display_data"
    }
   ],
   "source": [
    "sns.histplot(data=df, x='word_count', bins=50)"
   ]
  },
  {
   "cell_type": "code",
   "execution_count": 14,
   "metadata": {},
   "outputs": [],
   "source": [
    "# Save the DataFrame to a pickle file\n",
    "df.to_pickle('./cleaned_df/df_eng_from_1960_wordcap_2500.pkl')\n",
    "#df = pd.read_pickle('/content/drive/MyDrive/Colab Notebooks/Semester 2/NLP Exam Project/df_eng_from_1960_wordcap_2500.pkl')"
   ]
  },
  {
   "cell_type": "code",
   "execution_count": 15,
   "metadata": {},
   "outputs": [
    {
     "data": {
      "text/plain": [
       "'[Produced by Kanye West and No I.D.]\\n\\n[Intro: Jay-Z]\\nBlueprint, trois\\nYeah, yeah\\n\\n[Verse 1: Jay-Z]\\nWhat we talkin\\' \\'bout? Real shit or we talkin\\' \\'bout rhymes?\\nYou talkin\\' \\'bout millions or you talkin\\' \\'bout mine?\\nWhat we talkin\\' \\'bout? \\'Cause I ain\\'t got time\\nFor what people be talkin\\' \\'bout all the time\\nWhat we talkin\\' \\'bout? Fiction or we talkin\\' \\'bout fact?\\nYou talkin\\' \\'bout fiction? Hold up, pardon my back\\nI\\'m talkin\\' \\'bout life (Life, life)\\nAnd all I hear is, \"Oh yeah, he keeps talkin\\' \\'bout crack\"\\nI ain\\'t talkin\\' \\'bout profit, I\\'m talkin\\' \\'bout pain\\nI\\'m talkin\\' \\'bout despair, I\\'m talkin\\' \\'bout shame\\nI ain\\'t talkin\\' \\'bout gossip, I ain\\'t talkin\\' \\'bout Game\\nI ain\\'t talkin\\' \\'bout Jimmy, I ain\\'t talkin\\' \\'bout Dame\\nI\\'m talkin\\' \\'bout real shit, them people playin\\'\\nWhat is you talkin\\' \\'bout? I don\\'t know what y\\'all sayin\\'\\nPeople keep talkin\\' \\'bout, \"Hov, take it back!\"\\nI\\'m doin\\' better than before, why would I do that?\\nAin\\'t nothin\\' cool \\'bout carryin\\' a strap\\n\\'Bout worryin\\' your moms and buryin\\' your best cat\\nI\\'m talkin\\' \\'bout revenge while carryin\\' his casket\\nAll teary-eyed, \\'bout to take it to a mattress\\nI\\'m talkin\\' \\'bout music, I ain\\'t talkin\\' \\'bout rap\\nYou talkin\\' \\'bout who\\'s hot, I ain\\'t talkin\\' \\'bout that\\nThe conversation is changed, let\\'s yap about that\\nI don\\'t run rap no more, I run the map\\n[Chorus: Luke Steele & Jay-Z]\\nThey talk, we live\\nWe see what they say, they say, they say\\nI see what y\\'all talkin\\' about, ha ha\\nThey talk, we did\\nWho cares what they say, they say, they say?\\n\\n[Verse 2: Jay-Z]\\nChyeah, still they can\\'t focus on them, they be talkin\\' \\'bout me\\nTalkin\\' \\'bout what I wear, talkin\\' \\'bout where I be\\nYeah, check out my hair, these ain\\'t curls, these is peas\\nPeasey head still get paid, I\\'m combin\\' through G\\'s\\nPlease, we ain\\'t focused on naps\\n\\'Cause I don\\'t run rap no more, I run the map\\nA small part of the reason the President is black\\nI told him I got him when he hit me on the jack\\nTalkin\\' \\'bout progress, I ain\\'t lookin\\' back\\nYou know I run track, try not to get lapped\\nPeople keep talkin\\' \\'bout Hov left \\'em flat\\nTryna rewrite history, let\\'s talk about facts\\nDame made millions, even Jaz made some scraps\\nHe could\\'ve made more but he ain\\'t sign his contract\\nAs far as street guys, we was dealin\\' crack\\nThat\\'s just how the game goes, I don\\'t owe nobody jack\\nGrown men, want me to sit \\'em on my lap\\nBut I don\\'t have a beard and Santa Claus ain\\'t black\\nI repeat, you can\\'t sit on my lap\\nI don\\'t have a beard, now get off my sack—scream at me!\\n[Chorus: Luke Steele & Jay-Z]\\nThey talk, we live\\nWe see what they say, they say, they say\\nThey talk, we did\\nWho cares what they say, they say, they say?\\nBlueprint 3\\n\\n[Verse 3: Jay-Z]\\nAnd now that that\\'s that, let\\'s talk about the future\\nWe have just seen the dream as predicted by Martin Luther\\nNow you could choose to sit in front of your computer\\nPosin\\' with guns, shootin\\' YouTube up\\nOr you could come with me to the White House, get your suit up\\nYou stuck on being hardcore, I chuck the deuce up\\nPeace out Medusa\\nWelcome to the Blue-ah-Print-ah tre-piece, Jay-Z your tutor\\nTooter of my own horn, beep beep, moo ya\\nRass clot when rude boy come through with the roof up\\nSo I could see the sky\\n\\'Cause everybody talkin\\' Hov, I think we know why\\n\\n[Chorus: Luke Steele]\\nThey talk, we live\\nWe see what they say, they say, they say\\nThey talk, we did\\nWho cares what they say, they say, they say?\\n[Outro: Luke Steele]\\nThey say\\nThey say'"
      ]
     },
     "execution_count": 15,
     "metadata": {},
     "output_type": "execute_result"
    }
   ],
   "source": [
    "df.loc[80, 'lyrics']"
   ]
  },
  {
   "cell_type": "code",
   "execution_count": 16,
   "metadata": {},
   "outputs": [],
   "source": [
    "def strip_lyrics(lyrics):\n",
    "    # Remove strings enclosed in brackets []\n",
    "    lyrics = re.sub(r'\\[.*?\\]', '', lyrics)\n",
    "    \n",
    "    # Remove substrings starting with a backslash \\\n",
    "    lyrics = re.sub(r'\\\\[^\\s]*', '', lyrics)\n",
    "\n",
    "    # Remove newline characters \\n\n",
    "    lyrics = re.sub(r'\\n', ' ', lyrics)\n",
    "    \n",
    "    # Remove single quotes '\n",
    "    lyrics = re.sub(r\"'\", '', lyrics)\n",
    "    \n",
    "    # Remove punctuation and replace with space\n",
    "    lyrics = re.sub(r'[{}]'.format(string.punctuation), ' ', lyrics)\n",
    "    \n",
    "    # Remove leading and trailing whitespaces\n",
    "    lyrics = lyrics.strip()\n",
    "\n",
    "    # Strip the string and ensure only one space between words\n",
    "    lyrics = re.sub(r'\\s+', ' ', lyrics.strip())\n",
    "\n",
    "    # Tokenize\n",
    "    tokens = word_tokenize(lyrics)\n",
    "    \n",
    "    # Lowercase tokens\n",
    "    lowercase_tokens = [token.lower() for token in tokens]\n",
    "    \n",
    "    # Remove non-alphanumeric characters\n",
    "    cleaned_tokens = [re.sub(r'[^a-zA-Z0-9]', '', token) for token in lowercase_tokens]\n",
    "    \n",
    "    # Remove stopwords\n",
    "    stop_words = set(stopwords.words('english'))\n",
    "    cleaned_tokens = [token for token in cleaned_tokens if token not in stop_words]\n",
    "    \n",
    "    # Lemmatize tokens\n",
    "    #lemmatizer = WordNetLemmatizer()\n",
    "    #cleaned_tokens = [lemmatizer.lemmatize(token) for token in cleaned_tokens]\n",
    "\n",
    "    return cleaned_tokens"
   ]
  },
  {
   "cell_type": "code",
   "execution_count": 17,
   "metadata": {},
   "outputs": [
    {
     "name": "stderr",
     "output_type": "stream",
     "text": [
      " 51%|█████▏    | 1667317/3252106 [29:35<32:02, 824.34it/s]  IOStream.flush timed out\n",
      "100%|██████████| 3252106/3252106 [59:50<00:00, 905.82it/s]  \n"
     ]
    }
   ],
   "source": [
    "tqdm.pandas()\n",
    "df['lyrics'] = df['lyrics'].progress_apply(lambda x: strip_lyrics(x))"
   ]
  },
  {
   "cell_type": "code",
   "execution_count": 18,
   "metadata": {},
   "outputs": [],
   "source": [
    "# Save the DataFrame to a pickle file\n",
    "df.to_pickle('./cleaned_df/y1960_wc_2500_tokenized.pkl')\n",
    "#df = pd.read_pickle('/content/drive/MyDrive/Colab Notebooks/Semester 2/NLP Exam Project/df_eng_from_1960_wordcap_2500.pkl')"
   ]
  },
  {
   "cell_type": "code",
   "execution_count": 38,
   "metadata": {},
   "outputs": [
    {
     "data": {
      "text/html": [
       "<div>\n",
       "<style scoped>\n",
       "    .dataframe tbody tr th:only-of-type {\n",
       "        vertical-align: middle;\n",
       "    }\n",
       "\n",
       "    .dataframe tbody tr th {\n",
       "        vertical-align: top;\n",
       "    }\n",
       "\n",
       "    .dataframe thead th {\n",
       "        text-align: right;\n",
       "    }\n",
       "</style>\n",
       "<table border=\"1\" class=\"dataframe\">\n",
       "  <thead>\n",
       "    <tr style=\"text-align: right;\">\n",
       "      <th></th>\n",
       "      <th>tag</th>\n",
       "      <th>lyrics</th>\n",
       "    </tr>\n",
       "  </thead>\n",
       "  <tbody>\n",
       "    <tr>\n",
       "      <th>0</th>\n",
       "      <td>rap</td>\n",
       "      <td>[killa, cam, killa, cam, cam, killa, cam, kill...</td>\n",
       "    </tr>\n",
       "    <tr>\n",
       "      <th>1</th>\n",
       "      <td>rap</td>\n",
       "      <td>[yeah, hah, yeah, roc, fella, invite, somethin...</td>\n",
       "    </tr>\n",
       "    <tr>\n",
       "      <th>2</th>\n",
       "      <td>rap</td>\n",
       "      <td>[maybe, cause, im, eatin, bastards, fiend, gru...</td>\n",
       "    </tr>\n",
       "    <tr>\n",
       "      <th>3</th>\n",
       "      <td>rap</td>\n",
       "      <td>[ugh, killa, baby, kanye, 1970s, heron, flow, ...</td>\n",
       "    </tr>\n",
       "    <tr>\n",
       "      <th>4</th>\n",
       "      <td>rap</td>\n",
       "      <td>[ask, young, boy, gon, second, time, around, g...</td>\n",
       "    </tr>\n",
       "  </tbody>\n",
       "</table>\n",
       "</div>"
      ],
      "text/plain": [
       "   tag                                             lyrics\n",
       "0  rap  [killa, cam, killa, cam, cam, killa, cam, kill...\n",
       "1  rap  [yeah, hah, yeah, roc, fella, invite, somethin...\n",
       "2  rap  [maybe, cause, im, eatin, bastards, fiend, gru...\n",
       "3  rap  [ugh, killa, baby, kanye, 1970s, heron, flow, ...\n",
       "4  rap  [ask, young, boy, gon, second, time, around, g..."
      ]
     },
     "execution_count": 38,
     "metadata": {},
     "output_type": "execute_result"
    }
   ],
   "source": [
    "df.drop(['year', 'id', 'word_count'], axis=1, inplace=True)\n",
    "df.head()"
   ]
  },
  {
   "cell_type": "code",
   "execution_count": 26,
   "metadata": {},
   "outputs": [
    {
     "name": "stdout",
     "output_type": "stream",
     "text": [
      "Defaulting to user installation because normal site-packages is not writeable\n",
      "Collecting imbalanced-learn\n",
      "  Downloading imbalanced_learn-0.10.1-py3-none-any.whl (226 kB)\n",
      "\u001b[2K     \u001b[90m━━━━━━━━━━━━━━━━━━━━━━━━━━━━━━━━━━━━━━━\u001b[0m \u001b[32m226.0/226.0 kB\u001b[0m \u001b[31m1.1 MB/s\u001b[0m eta \u001b[36m0:00:00\u001b[0m00:01\u001b[0m00:01\u001b[0m\n",
      "\u001b[?25hRequirement already satisfied: scikit-learn>=1.0.2 in /home/ucloud/.local/lib/python3.10/site-packages (from imbalanced-learn) (1.2.2)\n",
      "Requirement already satisfied: joblib>=1.1.1 in /home/ucloud/.local/lib/python3.10/site-packages (from imbalanced-learn) (1.2.0)\n",
      "Requirement already satisfied: scipy>=1.3.2 in /home/ucloud/.local/lib/python3.10/site-packages (from imbalanced-learn) (1.10.1)\n",
      "Requirement already satisfied: numpy>=1.17.3 in /home/ucloud/.local/lib/python3.10/site-packages (from imbalanced-learn) (1.24.3)\n",
      "Requirement already satisfied: threadpoolctl>=2.0.0 in /home/ucloud/.local/lib/python3.10/site-packages (from imbalanced-learn) (3.1.0)\n",
      "Installing collected packages: imbalanced-learn\n",
      "Successfully installed imbalanced-learn-0.10.1\n"
     ]
    }
   ],
   "source": [
    "!pip install imbalanced-learn\n"
   ]
  },
  {
   "cell_type": "code",
   "execution_count": 39,
   "metadata": {},
   "outputs": [],
   "source": [
    "from imblearn.under_sampling import RandomUnderSampler\n",
    "\n",
    "# Separate the features and target variable\n",
    "X = df.drop('tag', axis=1)  # Features\n",
    "y = df['tag']  # Target variable\n",
    "\n",
    "# Create an instance of RandomUnderSampler\n",
    "undersampler = RandomUnderSampler(random_state=42)\n",
    "\n",
    "# Undersample the data\n",
    "X_undersampled, y_undersampled = undersampler.fit_resample(X, y)\n"
   ]
  },
  {
   "cell_type": "code",
   "execution_count": 40,
   "metadata": {},
   "outputs": [
    {
     "data": {
      "text/html": [
       "<div>\n",
       "<style scoped>\n",
       "    .dataframe tbody tr th:only-of-type {\n",
       "        vertical-align: middle;\n",
       "    }\n",
       "\n",
       "    .dataframe tbody tr th {\n",
       "        vertical-align: top;\n",
       "    }\n",
       "\n",
       "    .dataframe thead th {\n",
       "        text-align: right;\n",
       "    }\n",
       "</style>\n",
       "<table border=\"1\" class=\"dataframe\">\n",
       "  <thead>\n",
       "    <tr style=\"text-align: right;\">\n",
       "      <th></th>\n",
       "      <th>lyrics</th>\n",
       "    </tr>\n",
       "  </thead>\n",
       "  <tbody>\n",
       "    <tr>\n",
       "      <th>0</th>\n",
       "      <td>[death, thy, sting, grave, thy, victory, life,...</td>\n",
       "    </tr>\n",
       "    <tr>\n",
       "      <th>1</th>\n",
       "      <td>[used, call, lightning, always, quick, strike,...</td>\n",
       "    </tr>\n",
       "    <tr>\n",
       "      <th>2</th>\n",
       "      <td>[college, working, part, time, waiting, tables...</td>\n",
       "    </tr>\n",
       "    <tr>\n",
       "      <th>3</th>\n",
       "      <td>[born, summer, 27th, year, comin, home, place,...</td>\n",
       "    </tr>\n",
       "    <tr>\n",
       "      <th>4</th>\n",
       "      <td>[shimmy, shimmy, go, go, motherfucking, pop, b...</td>\n",
       "    </tr>\n",
       "    <tr>\n",
       "      <th>...</th>\n",
       "      <td>...</td>\n",
       "    </tr>\n",
       "    <tr>\n",
       "      <th>420025</th>\n",
       "      <td>[na, nanana, na, nanana, na, na, na, na, na, n...</td>\n",
       "    </tr>\n",
       "    <tr>\n",
       "      <th>420026</th>\n",
       "      <td>[simlions, den, wei, oh, wei, oh, wei, oh, wei...</td>\n",
       "    </tr>\n",
       "    <tr>\n",
       "      <th>420027</th>\n",
       "      <td>[walking, distance, desert, without, end, hori...</td>\n",
       "    </tr>\n",
       "    <tr>\n",
       "      <th>420028</th>\n",
       "      <td>[rain, keeps, falling, tears, shed, ground, pl...</td>\n",
       "    </tr>\n",
       "    <tr>\n",
       "      <th>420029</th>\n",
       "      <td>[newtown, everybody, goes, around, sniffing, t...</td>\n",
       "    </tr>\n",
       "  </tbody>\n",
       "</table>\n",
       "<p>420030 rows × 1 columns</p>\n",
       "</div>"
      ],
      "text/plain": [
       "                                                   lyrics\n",
       "0       [death, thy, sting, grave, thy, victory, life,...\n",
       "1       [used, call, lightning, always, quick, strike,...\n",
       "2       [college, working, part, time, waiting, tables...\n",
       "3       [born, summer, 27th, year, comin, home, place,...\n",
       "4       [shimmy, shimmy, go, go, motherfucking, pop, b...\n",
       "...                                                   ...\n",
       "420025  [na, nanana, na, nanana, na, na, na, na, na, n...\n",
       "420026  [simlions, den, wei, oh, wei, oh, wei, oh, wei...\n",
       "420027  [walking, distance, desert, without, end, hori...\n",
       "420028  [rain, keeps, falling, tears, shed, ground, pl...\n",
       "420029  [newtown, everybody, goes, around, sniffing, t...\n",
       "\n",
       "[420030 rows x 1 columns]"
      ]
     },
     "execution_count": 40,
     "metadata": {},
     "output_type": "execute_result"
    }
   ],
   "source": [
    "X_undersampled"
   ]
  },
  {
   "cell_type": "code",
   "execution_count": 41,
   "metadata": {},
   "outputs": [
    {
     "name": "stdout",
     "output_type": "stream",
     "text": [
      "target\n",
      "country    84006\n",
      "pop        84006\n",
      "rap        84006\n",
      "rb         84006\n",
      "rock       84006\n",
      "Name: count, dtype: int64\n"
     ]
    }
   ],
   "source": [
    "# Convert 'X_undersampled' to a DataFrame\n",
    "X_df = pd.DataFrame(X_undersampled, columns=X.columns)\n",
    "\n",
    "# Convert 'y_undersampled' to a Series\n",
    "y_series = pd.Series(y_undersampled, name='target')\n",
    "\n",
    "# Concatenate 'X_df' and 'y_series'\n",
    "merged_df = pd.concat([X_df, y_series], axis=1)\n",
    "\n",
    "# Check the number of samples for each class\n",
    "class_counts = merged_df['target'].value_counts()\n",
    "print(class_counts)\n"
   ]
  },
  {
   "cell_type": "code",
   "execution_count": 46,
   "metadata": {},
   "outputs": [
    {
     "data": {
      "text/html": [
       "<div>\n",
       "<style scoped>\n",
       "    .dataframe tbody tr th:only-of-type {\n",
       "        vertical-align: middle;\n",
       "    }\n",
       "\n",
       "    .dataframe tbody tr th {\n",
       "        vertical-align: top;\n",
       "    }\n",
       "\n",
       "    .dataframe thead th {\n",
       "        text-align: right;\n",
       "    }\n",
       "</style>\n",
       "<table border=\"1\" class=\"dataframe\">\n",
       "  <thead>\n",
       "    <tr style=\"text-align: right;\">\n",
       "      <th></th>\n",
       "      <th>lyrics</th>\n",
       "      <th>target</th>\n",
       "    </tr>\n",
       "  </thead>\n",
       "  <tbody>\n",
       "    <tr>\n",
       "      <th>0</th>\n",
       "      <td>[death, thy, sting, grave, thy, victory, life,...</td>\n",
       "      <td>country</td>\n",
       "    </tr>\n",
       "    <tr>\n",
       "      <th>1</th>\n",
       "      <td>[used, call, lightning, always, quick, strike,...</td>\n",
       "      <td>country</td>\n",
       "    </tr>\n",
       "    <tr>\n",
       "      <th>2</th>\n",
       "      <td>[college, working, part, time, waiting, tables...</td>\n",
       "      <td>country</td>\n",
       "    </tr>\n",
       "    <tr>\n",
       "      <th>3</th>\n",
       "      <td>[born, summer, 27th, year, comin, home, place,...</td>\n",
       "      <td>country</td>\n",
       "    </tr>\n",
       "    <tr>\n",
       "      <th>4</th>\n",
       "      <td>[shimmy, shimmy, go, go, motherfucking, pop, b...</td>\n",
       "      <td>country</td>\n",
       "    </tr>\n",
       "    <tr>\n",
       "      <th>...</th>\n",
       "      <td>...</td>\n",
       "      <td>...</td>\n",
       "    </tr>\n",
       "    <tr>\n",
       "      <th>420025</th>\n",
       "      <td>[na, nanana, na, nanana, na, na, na, na, na, n...</td>\n",
       "      <td>rock</td>\n",
       "    </tr>\n",
       "    <tr>\n",
       "      <th>420026</th>\n",
       "      <td>[simlions, den, wei, oh, wei, oh, wei, oh, wei...</td>\n",
       "      <td>rock</td>\n",
       "    </tr>\n",
       "    <tr>\n",
       "      <th>420027</th>\n",
       "      <td>[walking, distance, desert, without, end, hori...</td>\n",
       "      <td>rock</td>\n",
       "    </tr>\n",
       "    <tr>\n",
       "      <th>420028</th>\n",
       "      <td>[rain, keeps, falling, tears, shed, ground, pl...</td>\n",
       "      <td>rock</td>\n",
       "    </tr>\n",
       "    <tr>\n",
       "      <th>420029</th>\n",
       "      <td>[newtown, everybody, goes, around, sniffing, t...</td>\n",
       "      <td>rock</td>\n",
       "    </tr>\n",
       "  </tbody>\n",
       "</table>\n",
       "<p>420030 rows × 2 columns</p>\n",
       "</div>"
      ],
      "text/plain": [
       "                                                   lyrics   target\n",
       "0       [death, thy, sting, grave, thy, victory, life,...  country\n",
       "1       [used, call, lightning, always, quick, strike,...  country\n",
       "2       [college, working, part, time, waiting, tables...  country\n",
       "3       [born, summer, 27th, year, comin, home, place,...  country\n",
       "4       [shimmy, shimmy, go, go, motherfucking, pop, b...  country\n",
       "...                                                   ...      ...\n",
       "420025  [na, nanana, na, nanana, na, na, na, na, na, n...     rock\n",
       "420026  [simlions, den, wei, oh, wei, oh, wei, oh, wei...     rock\n",
       "420027  [walking, distance, desert, without, end, hori...     rock\n",
       "420028  [rain, keeps, falling, tears, shed, ground, pl...     rock\n",
       "420029  [newtown, everybody, goes, around, sniffing, t...     rock\n",
       "\n",
       "[420030 rows x 2 columns]"
      ]
     },
     "execution_count": 46,
     "metadata": {},
     "output_type": "execute_result"
    }
   ],
   "source": []
  },
  {
   "cell_type": "code",
   "execution_count": 61,
   "metadata": {},
   "outputs": [],
   "source": [
    "from sklearn.model_selection import train_test_split\n",
    "\n",
    "X_train, X_test, y_train, y_test = train_test_split(merged_df['lyrics'], merged_df['target'], test_size=0.2, random_state=42)"
   ]
  },
  {
   "cell_type": "code",
   "execution_count": 62,
   "metadata": {},
   "outputs": [
    {
     "data": {
      "text/plain": [
       "76728     [happens, every, night, havent, thought, one, ...\n",
       "158809    [la, la, spoken, invade, culture, invade, citi...\n",
       "342082    [go, head, clouds, feet, hole, wont, come, wor...\n",
       "404913    [souvenir, visited, picturesque, unlimited, pr...\n",
       "168980    [see, diamond, mirror, trying, brush, dirt, ni...\n",
       "                                ...                        \n",
       "259178    [pre, chorus, battle, dead, man, , switch, rig...\n",
       "365838    [say, goodbye, dont, turn, back, , turn, aroun...\n",
       "131932    [heres, something, think, would, without, nast...\n",
       "146867    [talking, jesus, cloakroom, jesus, said, try, ...\n",
       "121958    [oitsuzuketeta, yume, ga, hitoriaruki, ni, nat...\n",
       "Name: lyrics, Length: 336024, dtype: object"
      ]
     },
     "execution_count": 62,
     "metadata": {},
     "output_type": "execute_result"
    }
   ],
   "source": [
    "X_train"
   ]
  },
  {
   "cell_type": "code",
   "execution_count": null,
   "metadata": {},
   "outputs": [],
   "source": [
    "# Extract features for training\n",
    "def extract_features(tokens):\n",
    "    return {token: True for token in tokens}"
   ]
  },
  {
   "cell_type": "code",
   "execution_count": 63,
   "metadata": {},
   "outputs": [],
   "source": [
    "# Create feature sets for training and testing\n",
    "train_feature_sets = [(extract_features(tokens), label) for tokens, label in zip(X_train, y_train)]\n",
    "test_feature_sets = [(extract_features(tokens), label) for tokens, label in zip(X_test, y_test)]"
   ]
  },
  {
   "cell_type": "code",
   "execution_count": 64,
   "metadata": {},
   "outputs": [],
   "source": [
    "# Train the classifier\n",
    "classifier = NaiveBayesClassifier.train(train_feature_sets)"
   ]
  },
  {
   "cell_type": "code",
   "execution_count": 66,
   "metadata": {},
   "outputs": [
    {
     "name": "stdout",
     "output_type": "stream",
     "text": [
      "              precision    recall  f1-score   support\n",
      "\n",
      "     country       0.72      0.05      0.10     16770\n",
      "         pop       0.56      0.01      0.02     16808\n",
      "         rap       0.21      1.00      0.34     16869\n",
      "          rb       0.48      0.01      0.02     16618\n",
      "        rock       0.77      0.03      0.06     16941\n",
      "\n",
      "    accuracy                           0.22     84006\n",
      "   macro avg       0.55      0.22      0.11     84006\n",
      "weighted avg       0.55      0.22      0.11     84006\n",
      "\n"
     ]
    }
   ],
   "source": [
    "# Make predictions on the test set\n",
    "predictions = [classifier.classify(features) for features, _ in test_feature_sets]\n",
    "\n",
    "# Evaluate the classifier\n",
    "print(classification_report(y_test, predictions))"
   ]
  },
  {
   "cell_type": "code",
   "execution_count": 70,
   "metadata": {},
   "outputs": [],
   "source": [
    "from sklearn.feature_extraction.text import TfidfVectorizer\n",
    "from sklearn.svm import SVC\n",
    "\n",
    "# Extract the lyrics from the feature sets\n",
    "X_train_lyrics = [' '.join(features.keys()) for features, _ in train_feature_sets]\n",
    "X_test_lyrics = [' '.join(features.keys()) for features, _ in test_feature_sets]\n",
    "\n",
    "# Create TF-IDF vectorizer\n",
    "vectorizer = TfidfVectorizer()\n",
    "\n",
    "# Fit and transform the training feature sets\n",
    "X_train_tfidf = vectorizer.fit_transform(X_train_lyrics)\n",
    "\n",
    "# Transform the testing feature sets\n",
    "X_test_tfidf = vectorizer.transform(X_test_lyrics)\n",
    "\n",
    "# Extract the labels from the feature sets\n",
    "y_train = [label for _, label in train_feature_sets]\n",
    "y_test = [label for _, label in test_feature_sets]\n",
    "\n",
    "# Create an instance of the SVM classifier\n",
    "classifier = SVC()\n",
    "\n",
    "# Train the SVM classifier\n",
    "classifier.fit(X_train_tfidf, y_train)\n",
    "\n",
    "# Evaluate the classifier\n",
    "accuracy = classifier.score(X_test_tfidf, y_test)\n"
   ]
  }
 ],
 "metadata": {
  "kernelspec": {
   "display_name": "Python 3",
   "language": "python",
   "name": "python3"
  },
  "language_info": {
   "codemirror_mode": {
    "name": "ipython",
    "version": 3
   },
   "file_extension": ".py",
   "mimetype": "text/x-python",
   "name": "python",
   "nbconvert_exporter": "python",
   "pygments_lexer": "ipython3",
   "version": "3.10.7"
  },
  "orig_nbformat": 4
 },
 "nbformat": 4,
 "nbformat_minor": 2
}
